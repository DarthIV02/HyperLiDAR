{
 "cells": [
  {
   "cell_type": "code",
   "execution_count": 2,
   "id": "6ddb7ab3-747c-472b-b3af-927106ee36f5",
   "metadata": {},
   "outputs": [
    {
     "name": "stderr",
     "output_type": "stream",
     "text": [
      "\u001b[34m\u001b[1mwandb\u001b[0m: \u001b[33mWARNING\u001b[0m If you're specifying your api key in code, ensure this code is not shared publicly.\n",
      "\u001b[34m\u001b[1mwandb\u001b[0m: \u001b[33mWARNING\u001b[0m Consider setting the WANDB_API_KEY environment variable, or running `wandb login` from the command line.\n",
      "\u001b[34m\u001b[1mwandb\u001b[0m: Appending key for api.wandb.ai to your netrc file: /root/.netrc\n"
     ]
    },
    {
     "name": "stdout",
     "output_type": "stream",
     "text": [
      "Using cuda device\n"
     ]
    },
    {
     "name": "stderr",
     "output_type": "stream",
     "text": [
      "/tmp/ipykernel_21716/190092510.py:39: FutureWarning: You are using `torch.load` with `weights_only=False` (the current default value), which uses the default pickle module implicitly. It is possible to construct malicious pickle data which will execute arbitrary code during unpickling (See https://github.com/pytorch/pytorch/blob/main/SECURITY.md#untrusted-models for more details). In a future release, the default value for `weights_only` will be flipped to `True`. This limits the functions that could be executed during unpickling. Arbitrary objects will no longer be allowed to be loaded via this mode unless they are explicitly allowlisted by the user via `torch.serialization.add_safe_globals`. We recommend you start setting `weights_only=True` for any use case where you don't have full control of the loaded file. Please open an issue on GitHub for any issues related to this experimental feature.\n",
      "  ckpt = torch.load('/root/main/ScaLR/saved_models/ckpt_last_scalr.pth', map_location=device_string) # cuda:0\n"
     ]
    },
    {
     "name": "stdout",
     "output_type": "stream",
     "text": [
      "======\n",
      "Loading NuScenes tables for version v1.0-mini...\n",
      "Loading nuScenes-lidarseg...\n",
      "32 category,\n",
      "8 attribute,\n",
      "4 visibility,\n",
      "911 instance,\n",
      "12 sensor,\n",
      "120 calibrated_sensor,\n",
      "31206 ego_pose,\n",
      "8 log,\n",
      "10 scene,\n",
      "404 sample,\n",
      "31206 sample_data,\n",
      "18538 sample_annotation,\n",
      "4 map,\n",
      "404 lidarseg,\n",
      "Done loading in 0.639 seconds.\n",
      "======\n",
      "Reverse indexing ...\n",
      "Done reverse indexing in 0.1 seconds.\n",
      "======\n"
     ]
    },
    {
     "ename": "AttributeError",
     "evalue": "'NuScenesSemSeg' object has no attribute 'init_testing'",
     "output_type": "error",
     "traceback": [
      "\u001b[0;31m---------------------------------------------------------------------------\u001b[0m",
      "\u001b[0;31mAttributeError\u001b[0m                            Traceback (most recent call last)",
      "Cell \u001b[0;32mIn[2], line 83\u001b[0m\n\u001b[1;32m     81\u001b[0m dataset_test \u001b[38;5;241m=\u001b[39m copy\u001b[38;5;241m.\u001b[39mdeepcopy(dataset)\n\u001b[1;32m     82\u001b[0m dataset_train\u001b[38;5;241m.\u001b[39minit_training()\n\u001b[0;32m---> 83\u001b[0m \u001b[43mdataset_test\u001b[49m\u001b[38;5;241;43m.\u001b[39;49m\u001b[43minit_testing\u001b[49m()\n\u001b[1;32m     85\u001b[0m train_loader \u001b[38;5;241m=\u001b[39m torch\u001b[38;5;241m.\u001b[39mutils\u001b[38;5;241m.\u001b[39mdata\u001b[38;5;241m.\u001b[39mDataLoader(\n\u001b[1;32m     86\u001b[0m         dataset_train,\n\u001b[1;32m     87\u001b[0m         batch_size\u001b[38;5;241m=\u001b[39m\u001b[38;5;241m1\u001b[39m,\n\u001b[0;32m   (...)\u001b[0m\n\u001b[1;32m     90\u001b[0m         collate_fn\u001b[38;5;241m=\u001b[39mCollate(),\n\u001b[1;32m     91\u001b[0m     )\n\u001b[1;32m     93\u001b[0m test_loader \u001b[38;5;241m=\u001b[39m torch\u001b[38;5;241m.\u001b[39mutils\u001b[38;5;241m.\u001b[39mdata\u001b[38;5;241m.\u001b[39mDataLoader(\n\u001b[1;32m     94\u001b[0m         dataset_test,\n\u001b[1;32m     95\u001b[0m         batch_size\u001b[38;5;241m=\u001b[39m\u001b[38;5;241m1\u001b[39m,\n\u001b[0;32m   (...)\u001b[0m\n\u001b[1;32m     98\u001b[0m         collate_fn\u001b[38;5;241m=\u001b[39mCollate(),\n\u001b[1;32m     99\u001b[0m     )\n",
      "\u001b[0;31mAttributeError\u001b[0m: 'NuScenesSemSeg' object has no attribute 'init_testing'"
     ]
    }
   ],
   "source": [
    "from models.waffleiron.segmenter import Segmenter\n",
    "import torch\n",
    "from datasets import LIST_DATASETS, Collate\n",
    "from tqdm import tqdm\n",
    "import torch\n",
    "import torch.nn as nn\n",
    "import torch.nn.functional as F\n",
    "import torchvision\n",
    "import argparse\n",
    "import wandb\n",
    "from torchmetrics.classification import MulticlassJaccardIndex\n",
    "import copy\n",
    "\n",
    "# Note: this example requires the torchmetrics library: https://torchmetrics.readthedocs.io\n",
    "import torchmetrics\n",
    "from tqdm import tqdm\n",
    "\n",
    "import torchhd\n",
    "from torchhd.models import Centroid\n",
    "from torchhd import embeddings\n",
    "\n",
    "wandb.login(key=\"9487c04b8eff0c16cac4e785f2b57c3a475767d3\")\n",
    "\n",
    "device = torch.device(\"cuda\" if torch.cuda.is_available() else \"cpu\")\n",
    "print(\"Using {} device\".format(device))\n",
    "device_string = \"cuda:0\" if torch.cuda.is_available() else \"cpu\"\n",
    "\n",
    "model = Segmenter(\n",
    "    input_channels=5,\n",
    "    feat_channels=768,\n",
    "    depth=48,\n",
    "    grid_shape=[[256, 256], [256, 32], [256, 32]],\n",
    "    nb_class=16, # class for prediction\n",
    "    #drop_path_prob=config[\"waffleiron\"][\"drop_path\"],\n",
    "    layer_norm=True,\n",
    ")\n",
    "\n",
    "# Load pretrained model\n",
    "ckpt = torch.load('/root/main/ScaLR/saved_models/ckpt_last_scalr.pth', map_location=device_string) # cuda:0\n",
    "ckpt = ckpt[\"net\"]\n",
    "\n",
    "new_ckpt = {}\n",
    "for k in ckpt.keys():\n",
    "    if k.startswith(\"module\"):\n",
    "        if k.startswith(\"module.classif.0\"):\n",
    "            continue\n",
    "        elif k.startswith(\"module.classif.1\"):\n",
    "            new_ckpt[\"classif\" + k[len(\"module.classif.1\") :]] = ckpt[k]\n",
    "        else:\n",
    "            new_ckpt[k[len(\"module.\") :]] = ckpt[k]\n",
    "    else:\n",
    "        new_ckpt[k] = ckpt[k]\n",
    "\n",
    "model.load_state_dict(new_ckpt)\n",
    "\n",
    "if device_string != 'cpu':\n",
    "    torch.cuda.set_device(device_string) # cuda:0\n",
    "    model = model.cuda(device_string) # cuda:0\n",
    "\n",
    "model.eval()\n",
    "\n",
    "kwargs = {\n",
    "        \"rootdir\": '/root/main/dataset/nuscenes',\n",
    "        \"input_feat\": [\"xyz\", \"intensity\", \"radius\"],\n",
    "        \"voxel_size\": 0.1,\n",
    "        \"num_neighbors\": 16,\n",
    "        \"dim_proj\": [2, 1, 0],\n",
    "        \"grids_shape\": [[256, 256], [256, 32], [256, 32]],\n",
    "        \"fov_xyz\": [[-64, -64, -8], [64, 64, 8]], # Check here\n",
    "    }\n",
    "\n",
    "# Get datatset\n",
    "DATASET = LIST_DATASETS.get(\"nuscenes\")\n",
    "\n",
    "# Train dataset\n",
    "dataset = DATASET(\n",
    "    phase=\"train\",\n",
    "    **kwargs,\n",
    ")\n",
    "dataset_train = copy.deepcopy(dataset)\n",
    "dataset_test = copy.deepcopy(dataset)\n",
    "dataset_train.init_training()\n",
    "dataset_test.init_testing()\n",
    "\n",
    "train_loader = torch.utils.data.DataLoader(\n",
    "        dataset_train,\n",
    "        batch_size=1,\n",
    "        pin_memory=True,\n",
    "        drop_last=True,\n",
    "        collate_fn=Collate(),\n",
    "    )\n",
    "\n",
    "test_loader = torch.utils.data.DataLoader(\n",
    "        dataset_test,\n",
    "        batch_size=1,\n",
    "        pin_memory=True,\n",
    "        drop_last=True,\n",
    "        collate_fn=Collate(),\n",
    "    )"
   ]
  },
  {
   "cell_type": "code",
   "execution_count": 17,
   "id": "069ccd82-f2c5-416b-8a3a-d626d25f72f1",
   "metadata": {},
   "outputs": [],
   "source": [
    "def forward_model(it, batch, stop):\n",
    "    feat = batch[\"feat\"]\n",
    "    labels = batch[\"labels_orig\"]\n",
    "    cell_ind = batch[\"cell_ind\"]\n",
    "    occupied_cell = batch[\"occupied_cells\"]\n",
    "    neighbors_emb = batch[\"neighbors_emb\"]\n",
    "    if device_string != 'cpu':\n",
    "        feat = feat.cuda(0, non_blocking=True)\n",
    "        labels = labels.cuda(0, non_blocking=True)\n",
    "        batch[\"upsample\"] = [\n",
    "            up.cuda(0, non_blocking=True) for up in batch[\"upsample\"]\n",
    "        ]\n",
    "        cell_ind = cell_ind.cuda(0, non_blocking=True)\n",
    "        occupied_cell = occupied_cell.cuda(0, non_blocking=True)\n",
    "        neighbors_emb = neighbors_emb.cuda(0, non_blocking=True)\n",
    "\n",
    "    with torch.no_grad():\n",
    "        out = model(feat, cell_ind, occupied_cell, neighbors_emb, stop)\n",
    "        embed, tokens, soa_result = out[0][0], out[1][0], out[2]\n",
    "        embed = embed.transpose(0, 1)\n",
    "        tokens = tokens.transpose(0, 1)\n",
    "\n",
    "        #labels_v = [[] for i in range(embed.shape[0])]\n",
    "        #for i, vox in enumerate(batch[\"upsample\"][0]):\n",
    "        #    labels_v[vox].append(labels[i])\n",
    "        #labels_v_single = []\n",
    "        #for labels_ in labels_v:\n",
    "        #    lab_tens = torch.tensor(labels_)\n",
    "        #    most_common_value = torch.bincount(lab_tens).argmax()\n",
    "        #    labels_v_single.append(most_common_value)\n",
    "    \n",
    "    return tokens, soa_result # labels_v_single,"
   ]
  },
  {
   "cell_type": "markdown",
   "id": "dad21705-4214-4f59-99c7-a1c64f03cbaf",
   "metadata": {},
   "source": [
    "# Distribution"
   ]
  },
  {
   "cell_type": "code",
   "execution_count": 13,
   "id": "5c2eba8b-9e0b-49a5-916f-46c3296f16b6",
   "metadata": {},
   "outputs": [
    {
     "name": "stderr",
     "output_type": "stream",
     "text": [
      "282it [04:55,  1.05s/it]"
     ]
    },
    {
     "name": "stdout",
     "output_type": "stream",
     "text": [
      "{0: 25304, 1: 909, 2: 31833, 3: 216325, 4: 19307, 5: 4368, 6: 27545, 7: 2813, 8: 8885, 9: 86313, 10: 1380927, 11: 57460, 12: 311006, 13: 279007, 14: 1280101, 15: 925484}\n"
     ]
    },
    {
     "name": "stderr",
     "output_type": "stream",
     "text": [
      "\n"
     ]
    }
   ],
   "source": [
    "from tqdm import tqdm\n",
    "\n",
    "stop = 0\n",
    "class_count = {}\n",
    "for c in range(16):\n",
    "    class_count[c] = 0\n",
    "\n",
    "for it, batch in tqdm(enumerate(train_loader)):\n",
    "    \n",
    "    # Network inputs\n",
    "    \n",
    "    tokens, labels_v_single, soa_result = forward_model(it, batch, stop)\n",
    "    labels_v_single = torch.tensor(labels_v_single)\n",
    "    for c in range(16):\n",
    "        class_count[c] += int(torch.bincount(labels_v_single)[c])\n",
    "\n",
    "print(class_count)"
   ]
  },
  {
   "cell_type": "code",
   "execution_count": 14,
   "id": "93c44050-9102-4f02-89c7-35d49b354485",
   "metadata": {},
   "outputs": [
    {
     "data": {
      "image/png": "[encoded data removed]",
      "text/plain": [
       "<Figure size 1000x600 with 1 Axes>"
      ]
     },
     "metadata": {},
     "output_type": "display_data"
    }
   ],
   "source": [
    "import matplotlib.pyplot as plt\n",
    "\n",
    "def visualize_samples_per_class(data_dict, title):\n",
    "    \"\"\"\n",
    "    Visualizes the number of samples per class from a dictionary.\n",
    "\n",
    "    Args:\n",
    "        data_dict (dict): Dictionary where keys are class labels and values are the number of samples.\n",
    "    \"\"\"\n",
    "    # Extract keys and values from the dictionary\n",
    "    classes = list(data_dict.keys())\n",
    "    sample_counts = list(data_dict.values())\n",
    "    \n",
    "    # Create a bar chart\n",
    "    plt.figure(figsize=(10, 6))\n",
    "    plt.bar(classes, sample_counts, color='skyblue', edgecolor='black')\n",
    "    \n",
    "    # Add labels and title\n",
    "    plt.xlabel('Class', fontsize=12)\n",
    "    plt.ylabel('Number of Samples', fontsize=12)\n",
    "    plt.title(f'Number of Samples per Class {title}', fontsize=14)\n",
    "    plt.xticks(rotation=45, fontsize=10)\n",
    "    \n",
    "    # Add value annotations on each bar\n",
    "    for i, count in enumerate(sample_counts):\n",
    "        plt.text(i, count + 0.5, str(count), ha='center', fontsize=10)\n",
    "    \n",
    "    # Show the plot\n",
    "    plt.tight_layout()\n",
    "    plt.show()\n",
    "\n",
    "\n",
    "visualize_samples_per_class(class_count, \"Training\")"
   ]
  },
  {
   "cell_type": "code",
   "execution_count": 15,
   "id": "352048bc-5561-4957-b6fb-2108349a2f73",
   "metadata": {},
   "outputs": [
    {
     "name": "stderr",
     "output_type": "stream",
     "text": [
      "61it [01:03,  1.04s/it]"
     ]
    },
    {
     "name": "stdout",
     "output_type": "stream",
     "text": [
      "{0: 7970, 1: 192, 2: 11205, 3: 48925, 4: 5963, 5: 340, 6: 4583, 7: 607, 8: 1395, 9: 23627, 10: 295898, 11: 8669, 12: 67893, 13: 51567, 14: 276555, 15: 194949}\n"
     ]
    },
    {
     "name": "stderr",
     "output_type": "stream",
     "text": [
      "\n"
     ]
    }
   ],
   "source": [
    "from tqdm import tqdm\n",
    "\n",
    "stop = 48\n",
    "class_count_testing = {}\n",
    "for c in range(16):\n",
    "    class_count_testing[c] = 0\n",
    "\n",
    "for it, batch in tqdm(enumerate(test_loader)):\n",
    "    \n",
    "    # Network inputs\n",
    "    \n",
    "    tokens, labels_v_single, soa_result = forward_model(it, batch, stop)\n",
    "    labels_v_single = torch.tensor(labels_v_single)\n",
    "    for c in range(16):\n",
    "        class_count_testing[c] += int(torch.bincount(labels_v_single)[c])\n",
    "\n",
    "print(class_count_testing)"
   ]
  },
  {
   "cell_type": "code",
   "execution_count": 16,
   "id": "1bc320e2-5ddd-43bf-9e43-1b4f9e42a80f",
   "metadata": {},
   "outputs": [
    {
     "data": {
      "image/png": "[encoded data removed]",
      "text/plain": [
       "<Figure size 1000x600 with 1 Axes>"
      ]
     },
     "metadata": {},
     "output_type": "display_data"
    }
   ],
   "source": [
    "visualize_samples_per_class(class_count_testing, \"Testing\")"
   ]
  },
  {
   "cell_type": "markdown",
   "id": "46113278-a643-4835-bd9d-dff57bfb6338",
   "metadata": {},
   "source": [
    "# SoA"
   ]
  },
  {
   "cell_type": "code",
   "execution_count": null,
   "id": "12cd5274-5f49-4119-91ef-0bab87bf4455",
   "metadata": {
    "scrolled": true
   },
   "outputs": [
    {
     "name": "stderr",
     "output_type": "stream",
     "text": [
      "0it [00:00, ?it/s]"
     ]
    },
    {
     "name": "stdout",
     "output_type": "stream",
     "text": [
      "tensor([1, 1, 1,  ..., 1, 1, 1], device='cuda:0')\n"
     ]
    }
   ],
   "source": [
    "from torchmetrics.classification import MulticlassJaccardIndex\n",
    "\n",
    "miou = MulticlassJaccardIndex(num_classes=16, average=None).to(device)\n",
    "\n",
    "stop = 48\n",
    "\n",
    "output_array = []\n",
    "labels_array = []\n",
    "\n",
    "dataset_test = copy.deepcopy(dataset)\n",
    "dataset_test.init_test()\n",
    "\n",
    "test_loader = torch.utils.data.DataLoader(\n",
    "        dataset_test,\n",
    "        batch_size=1,\n",
    "        pin_memory=True,\n",
    "        drop_last=True,\n",
    "        collate_fn=Collate(),\n",
    "    )\n",
    "\n",
    "for it, batch in tqdm(enumerate(test_loader)):\n",
    "    \n",
    "    # Network inputs  \n",
    "    tokens, soa_result = forward_model(it, batch, stop)\n",
    "\n",
    "    labels = batch['labels_orig']\n",
    "    where = labels != 255\n",
    "    labels_array += list(labels[where])\n",
    "    \n",
    "    out_upsample = []\n",
    "    for id_b, closest_point in enumerate(batch[\"upsample\"]):\n",
    "        temp = soa_result[id_b, :, closest_point]\n",
    "        out_upsample.append(temp.T)\n",
    "    pred_label = torch.cat(out_upsample, dim=0)\n",
    "\n",
    "    pred_label = torch.argmax(pred_label, axis = 1)\n",
    "    print(pred_label)\n",
    "    x = input()\n",
    "    \n",
    "    output_array += list(pred_label[where])"
   ]
  },
  {
   "cell_type": "code",
   "execution_count": 47,
   "id": "0835e3b2-bbf8-4bd7-919a-9cef28685fcb",
   "metadata": {},
   "outputs": [
    {
     "name": "stdout",
     "output_type": "stream",
     "text": [
      "[tensor(1, device='cuda:0'), tensor(5, device='cuda:0'), tensor(1, device='cuda:0'), tensor(1, device='cuda:0'), tensor(1, device='cuda:0'), tensor(1, device='cuda:0'), tensor(1, device='cuda:0'), tensor(1, device='cuda:0'), tensor(1, device='cuda:0'), tensor(1, device='cuda:0'), tensor(1, device='cuda:0'), tensor(1, device='cuda:0'), tensor(1, device='cuda:0'), tensor(1, device='cuda:0'), tensor(1, device='cuda:0'), tensor(5, device='cuda:0'), tensor(5, device='cuda:0'), tensor(5, device='cuda:0'), tensor(5, device='cuda:0'), tensor(2, device='cuda:0'), tensor(1, device='cuda:0'), tensor(5, device='cuda:0'), tensor(5, device='cuda:0'), tensor(1, device='cuda:0'), tensor(1, device='cuda:0'), tensor(5, device='cuda:0'), tensor(1, device='cuda:0'), tensor(1, device='cuda:0'), tensor(1, device='cuda:0'), tensor(1, device='cuda:0'), tensor(1, device='cuda:0'), tensor(1, device='cuda:0'), tensor(1, device='cuda:0'), tensor(1, device='cuda:0'), tensor(1, device='cuda:0'), tensor(1, device='cuda:0'), tensor(1, device='cuda:0'), tensor(1, device='cuda:0'), tensor(1, device='cuda:0'), tensor(1, device='cuda:0'), tensor(5, device='cuda:0'), tensor(5, device='cuda:0'), tensor(5, device='cuda:0'), tensor(5, device='cuda:0'), tensor(1, device='cuda:0'), tensor(1, device='cuda:0'), tensor(5, device='cuda:0'), tensor(5, device='cuda:0'), tensor(1, device='cuda:0'), tensor(1, device='cuda:0'), tensor(5, device='cuda:0'), tensor(5, device='cuda:0'), tensor(1, device='cuda:0'), tensor(1, device='cuda:0'), tensor(1, device='cuda:0'), tensor(1, device='cuda:0'), tensor(1, device='cuda:0'), tensor(1, device='cuda:0'), tensor(1, device='cuda:0'), tensor(1, device='cuda:0'), tensor(1, device='cuda:0'), tensor(1, device='cuda:0'), tensor(1, device='cuda:0'), tensor(1, device='cuda:0'), tensor(1, device='cuda:0'), tensor(1, device='cuda:0'), tensor(1, device='cuda:0'), tensor(1, device='cuda:0'), tensor(5, device='cuda:0'), tensor(1, device='cuda:0'), tensor(5, device='cuda:0'), tensor(5, device='cuda:0'), tensor(5, device='cuda:0'), tensor(5, device='cuda:0'), tensor(5, device='cuda:0'), tensor(5, device='cuda:0'), tensor(5, device='cuda:0'), tensor(5, device='cuda:0'), tensor(5, device='cuda:0'), tensor(1, device='cuda:0'), tensor(5, device='cuda:0'), tensor(5, device='cuda:0'), tensor(5, device='cuda:0'), tensor(1, device='cuda:0'), tensor(1, device='cuda:0'), tensor(1, device='cuda:0'), tensor(1, device='cuda:0'), tensor(1, device='cuda:0'), tensor(1, device='cuda:0'), tensor(1, device='cuda:0'), tensor(1, device='cuda:0'), tensor(1, device='cuda:0'), tensor(1, device='cuda:0'), tensor(1, device='cuda:0'), tensor(1, device='cuda:0'), tensor(1, device='cuda:0'), tensor(1, device='cuda:0'), tensor(1, device='cuda:0'), tensor(1, device='cuda:0'), tensor(2, device='cuda:0')]\n"
     ]
    }
   ],
   "source": [
    "print(output_array[100:200])"
   ]
  },
  {
   "cell_type": "code",
   "execution_count": 46,
   "id": "32b654a3-5b1f-4901-a9a4-05344962d0ad",
   "metadata": {},
   "outputs": [
    {
     "data": {
      "text/plain": [
       "[tensor(12),\n",
       " tensor(12),\n",
       " tensor(12),\n",
       " tensor(12),\n",
       " tensor(15),\n",
       " tensor(15),\n",
       " tensor(15),\n",
       " tensor(15),\n",
       " tensor(15),\n",
       " tensor(15),\n",
       " tensor(15),\n",
       " tensor(12),\n",
       " tensor(12),\n",
       " tensor(12),\n",
       " tensor(15),\n",
       " tensor(15),\n",
       " tensor(15),\n",
       " tensor(15),\n",
       " tensor(15),\n",
       " tensor(15),\n",
       " tensor(12),\n",
       " tensor(12),\n",
       " tensor(12),\n",
       " tensor(14),\n",
       " tensor(15),\n",
       " tensor(15),\n",
       " tensor(15),\n",
       " tensor(15),\n",
       " tensor(15),\n",
       " tensor(15),\n",
       " tensor(15),\n",
       " tensor(15),\n",
       " tensor(12),\n",
       " tensor(12),\n",
       " tensor(12),\n",
       " tensor(14),\n",
       " tensor(14),\n",
       " tensor(15),\n",
       " tensor(15),\n",
       " tensor(15),\n",
       " tensor(15),\n",
       " tensor(12),\n",
       " tensor(12),\n",
       " tensor(12),\n",
       " tensor(14),\n",
       " tensor(14),\n",
       " tensor(15),\n",
       " tensor(15),\n",
       " tensor(15),\n",
       " tensor(15),\n",
       " tensor(15),\n",
       " tensor(15),\n",
       " tensor(15),\n",
       " tensor(12),\n",
       " tensor(12),\n",
       " tensor(13),\n",
       " tensor(14),\n",
       " tensor(14),\n",
       " tensor(15),\n",
       " tensor(15),\n",
       " tensor(15),\n",
       " tensor(15),\n",
       " tensor(15),\n",
       " tensor(15),\n",
       " tensor(15),\n",
       " tensor(15),\n",
       " tensor(12),\n",
       " tensor(12),\n",
       " tensor(12),\n",
       " tensor(12),\n",
       " tensor(13),\n",
       " tensor(13),\n",
       " tensor(14),\n",
       " tensor(14),\n",
       " tensor(14),\n",
       " tensor(14),\n",
       " tensor(15),\n",
       " tensor(15),\n",
       " tensor(15),\n",
       " tensor(15),\n",
       " tensor(15),\n",
       " tensor(12),\n",
       " tensor(12),\n",
       " tensor(12),\n",
       " tensor(12),\n",
       " tensor(12),\n",
       " tensor(12),\n",
       " tensor(12),\n",
       " tensor(12),\n",
       " tensor(12),\n",
       " tensor(13),\n",
       " tensor(14),\n",
       " tensor(14),\n",
       " tensor(14),\n",
       " tensor(15),\n",
       " tensor(15),\n",
       " tensor(15),\n",
       " tensor(15),\n",
       " tensor(15),\n",
       " tensor(15)]"
      ]
     },
     "execution_count": 46,
     "metadata": {},
     "output_type": "execute_result"
    }
   ],
   "source": [
    "labels_array[0:100]"
   ]
  },
  {
   "cell_type": "code",
   "execution_count": 26,
   "id": "dd7e828e-0823-48e0-aa88-2de17519d7dc",
   "metadata": {},
   "outputs": [
    {
     "ename": "ValueError",
     "evalue": "only one element tensors can be converted to Python scalars",
     "output_type": "error",
     "traceback": [
      "\u001b[0;31m---------------------------------------------------------------------------\u001b[0m",
      "\u001b[0;31mValueError\u001b[0m                                Traceback (most recent call last)",
      "Cell \u001b[0;32mIn[26], line 2\u001b[0m\n\u001b[1;32m      1\u001b[0m labels_array \u001b[38;5;241m=\u001b[39m torch\u001b[38;5;241m.\u001b[39mtensor(labels_array)\u001b[38;5;241m.\u001b[39mto(device)\n\u001b[0;32m----> 2\u001b[0m output_array \u001b[38;5;241m=\u001b[39m \u001b[43mtorch\u001b[49m\u001b[38;5;241;43m.\u001b[39;49m\u001b[43mtensor\u001b[49m\u001b[43m(\u001b[49m\u001b[43moutput_array\u001b[49m\u001b[43m)\u001b[49m\u001b[38;5;241m.\u001b[39mto(device)\n\u001b[1;32m      4\u001b[0m \u001b[38;5;66;03m#l = labels_array[not_noise].to(device)\u001b[39;00m\n\u001b[1;32m      5\u001b[0m \u001b[38;5;66;03m#out = output_array[not_noise].to(device)\u001b[39;00m\n\u001b[1;32m      7\u001b[0m accuracy \u001b[38;5;241m=\u001b[39m miou(output_array, labels_array)\n",
      "\u001b[0;31mValueError\u001b[0m: only one element tensors can be converted to Python scalars"
     ]
    }
   ],
   "source": [
    "labels_array = torch.tensor(labels_array).to(device)\n",
    "output_array = torch.tensor(output_array).to(device)\n",
    "\n",
    "#l = labels_array[not_noise].to(device)\n",
    "#out = output_array[not_noise].to(device)\n",
    "\n",
    "accuracy = miou(output_array, labels_array)\n",
    "mean = torch.mean(accuracy)\n",
    "\n",
    "print(f\"Mean accuracy of {mean}\")\n",
    "#log_data = {f\"class_{i}_IoU\": c for i, c in enumerate(accuracy)}\n",
    "#log_data[\"meanIoU\"] = mean"
   ]
  },
  {
   "cell_type": "code",
   "execution_count": 56,
   "id": "75f2b204-c036-4b2b-a624-6a6a3270c96f",
   "metadata": {},
   "outputs": [
    {
     "data": {
      "text/plain": [
       "tensor([1.7275e-02, 3.3197e-04, 2.2100e-04, 0.0000e+00, 1.4082e-03, 4.8184e-04,\n",
       "        3.3597e-03, 0.0000e+00, 0.0000e+00, 8.2860e-05, 1.2891e-01, 3.8173e-04,\n",
       "        0.0000e+00, 0.0000e+00, 3.8878e-03, 3.7226e-03], device='cuda:0')"
      ]
     },
     "execution_count": 56,
     "metadata": {},
     "output_type": "execute_result"
    }
   ],
   "source": [
    "accuracy"
   ]
  },
  {
   "cell_type": "code",
   "execution_count": null,
   "id": "412486df-8cce-4c9a-9f99-1aaf82ca7c3a",
   "metadata": {},
   "outputs": [],
   "source": []
  }
 ],
 "metadata": {
  "kernelspec": {
   "display_name": "env",
   "language": "python",
   "name": "env"
  },
  "language_info": {
   "codemirror_mode": {
    "name": "ipython",
    "version": 3
   },
   "file_extension": ".py",
   "mimetype": "text/x-python",
   "name": "python",
   "nbconvert_exporter": "python",
   "pygments_lexer": "ipython3",
   "version": "3.8.20"
  }
 },
 "nbformat": 4,
 "nbformat_minor": 5
}
