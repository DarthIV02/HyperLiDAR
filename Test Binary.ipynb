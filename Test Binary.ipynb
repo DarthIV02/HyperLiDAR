{
 "cells": [
  {
   "cell_type": "code",
   "execution_count": 24,
   "id": "8ab59cee-cdbe-4fa0-aacb-13efbf06d57c",
   "metadata": {},
   "outputs": [
    {
     "data": {
      "text/plain": [
       "tensor([[-64, -11,   6,  97,  83, -95],\n",
       "        [-24,  34, -21,  49, -35, -16],\n",
       "        [-52, -53, -70, -88,  -4,   9],\n",
       "        [ 50, -35, -46, -83, -45,  20]])"
      ]
     },
     "execution_count": 24,
     "metadata": {},
     "output_type": "execute_result"
    }
   ],
   "source": [
    "import torch\n",
    "import torchhd\n",
    "import torchhd.functional as functional\n",
    "\n",
    "x = torch.randint(-100, 100, (4, 6))\n",
    "x"
   ]
  },
  {
   "cell_type": "code",
   "execution_count": 25,
   "id": "91568024-2f08-439b-8954-edcf4ab77fda",
   "metadata": {},
   "outputs": [
    {
     "data": {
      "text/plain": [
       "MAPTensor([[ 1., -1.,  1., -1.,  1., -1.]])"
      ]
     },
     "execution_count": 25,
     "metadata": {},
     "output_type": "execute_result"
    }
   ],
   "source": [
    "y = torchhd.random(1, 6, \"MAP\")\n",
    "y"
   ]
  },
  {
   "cell_type": "code",
   "execution_count": 26,
   "id": "3c370bf5-0ff0-4d7d-b997-11071ead6f26",
   "metadata": {},
   "outputs": [
    {
     "data": {
      "text/plain": [
       "MAPTensor([[  34., -147.,    6.,   57.]])"
      ]
     },
     "execution_count": 26,
     "metadata": {},
     "output_type": "execute_result"
    }
   ],
   "source": [
    "functional.dot_similarity(y, x)"
   ]
  },
  {
   "cell_type": "code",
   "execution_count": 27,
   "id": "b0125336-9908-4f88-aa10-52736aad95d0",
   "metadata": {},
   "outputs": [
    {
     "data": {
      "text/plain": [
       "MAPTensor([[-1, -1,  1,  1,  1, -1],\n",
       "           [-1,  1, -1,  1, -1, -1],\n",
       "           [-1, -1, -1, -1, -1,  1],\n",
       "           [ 1, -1, -1, -1, -1,  1]])"
      ]
     },
     "execution_count": 27,
     "metadata": {},
     "output_type": "execute_result"
    }
   ],
   "source": [
    "x_binary = torchhd.normalize(x)\n",
    "x_binary"
   ]
  },
  {
   "cell_type": "code",
   "execution_count": 28,
   "id": "7d482dab-55a7-4ce1-a8ab-8b75ee3e70ec",
   "metadata": {},
   "outputs": [
    {
     "data": {
      "text/plain": [
       "MAPTensor([[ 2., -4., -2.,  0.]])"
      ]
     },
     "execution_count": 28,
     "metadata": {},
     "output_type": "execute_result"
    }
   ],
   "source": [
    "functional.dot_similarity(y, x_binary)"
   ]
  },
  {
   "cell_type": "markdown",
   "id": "1389dc92-a8ed-4c72-8e3d-a445ad6dbe3a",
   "metadata": {},
   "source": [
    "# Binary projection Matrix"
   ]
  },
  {
   "cell_type": "code",
   "execution_count": 33,
   "id": "085d7b24-a19b-450f-bbea-883988e9e2b6",
   "metadata": {},
   "outputs": [],
   "source": [
    "import torch.nn as nn\n",
    "import torchhd\n",
    "from torchhd import embeddings\n",
    "\n",
    "class Encoder(nn.Module):\n",
    "    def __init__(self, hd_dim, size):\n",
    "        super(Encoder, self).__init__()\n",
    "        self.flatten = torch.nn.Flatten()\n",
    "        self.projection = embeddings.Projection(size, hd_dim)\n",
    "\n",
    "    def forward(self, x):\n",
    "        sample_hv = self.projection(x)\n",
    "        return torchhd.hard_quantize(sample_hv).to(torch.int32)"
   ]
  },
  {
   "cell_type": "code",
   "execution_count": 38,
   "id": "998a31d7-2104-443c-ae83-3da2f08fb21f",
   "metadata": {},
   "outputs": [],
   "source": [
    "encode = Encoder(5000, 7)"
   ]
  },
  {
   "cell_type": "code",
   "execution_count": 39,
   "id": "7d39ea18-96d1-457f-b9b3-0217bf3009fc",
   "metadata": {},
   "outputs": [
    {
     "data": {
      "text/plain": [
       "tensor([[-0.3013, -0.6094,  0.1676,  0.9796,  1.7485,  0.7745,  0.3398],\n",
       "        [-1.8307,  1.8629,  0.8918,  1.6368,  1.0036,  0.1416, -1.1592],\n",
       "        [-0.6027, -0.0637, -0.3587, -0.5033, -0.4574, -0.0178, -0.2458]])"
      ]
     },
     "execution_count": 39,
     "metadata": {},
     "output_type": "execute_result"
    }
   ],
   "source": [
    "x = torch.randn(3, 7)\n",
    "x"
   ]
  },
  {
   "cell_type": "code",
   "execution_count": 40,
   "id": "ce4a6fb0-13b9-40e3-9221-392ea102359f",
   "metadata": {},
   "outputs": [
    {
     "name": "stderr",
     "output_type": "stream",
     "text": [
      "/tmp/ipykernel_18853/1322912733.py:13: DeprecationWarning: torchhd.hard_quantize is deprecated, consider using torchhd.normalize instead.\n",
      "  return torchhd.hard_quantize(sample_hv).to(torch.int32)\n"
     ]
    },
    {
     "data": {
      "text/plain": [
       "MAPTensor([[-1, -1, -1,  ...,  1,  1,  1],\n",
       "           [ 1, -1, -1,  ..., -1, -1,  1],\n",
       "           [ 1,  1,  1,  ..., -1, -1,  1]], dtype=torch.int32)"
      ]
     },
     "execution_count": 40,
     "metadata": {},
     "output_type": "execute_result"
    }
   ],
   "source": [
    "y = encode(x)\n",
    "y"
   ]
  },
  {
   "cell_type": "code",
   "execution_count": 44,
   "id": "d4563ea2-e067-4240-a28b-44d6672c0b4c",
   "metadata": {},
   "outputs": [],
   "source": [
    "encode.projection.weight = nn.Parameter(torchhd.normalize(encode.projection.weight), requires_grad=False) # Binary"
   ]
  },
  {
   "cell_type": "code",
   "execution_count": 46,
   "id": "e3edf04e-16a9-49d2-9738-34c20f71cd66",
   "metadata": {},
   "outputs": [
    {
     "data": {
      "text/plain": [
       "torch.Size([5000, 7])"
      ]
     },
     "execution_count": 46,
     "metadata": {},
     "output_type": "execute_result"
    }
   ],
   "source": [
    "encode.projection.weight.shape"
   ]
  }
 ],
 "metadata": {
  "kernelspec": {
   "display_name": "env",
   "language": "python",
   "name": "env"
  },
  "language_info": {
   "codemirror_mode": {
    "name": "ipython",
    "version": 3
   },
   "file_extension": ".py",
   "mimetype": "text/x-python",
   "name": "python",
   "nbconvert_exporter": "python",
   "pygments_lexer": "ipython3",
   "version": "3.8.20"
  }
 },
 "nbformat": 4,
 "nbformat_minor": 5
}
