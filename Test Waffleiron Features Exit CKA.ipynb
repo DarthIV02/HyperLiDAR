{
 "cells": [
  {
   "cell_type": "code",
   "execution_count": 1,
   "id": "a33f8a7f",
   "metadata": {},
   "outputs": [
    {
     "name": "stderr",
     "output_type": "stream",
     "text": [
      "/root/anaconda3/envs/env/lib/python3.8/site-packages/tqdm/auto.py:21: TqdmWarning: IProgress not found. Please update jupyter and ipywidgets. See https://ipywidgets.readthedocs.io/en/stable/user_install.html\n",
      "  from .autonotebook import tqdm as notebook_tqdm\n"
     ]
    },
    {
     "name": "stdout",
     "output_type": "stream",
     "text": [
      "Using torch.scatter_reduce for 3D to 2D projection.\n",
      "Using torch.scatter_reduce for 3D to 2D projection.\n"
     ]
    }
   ],
   "source": [
    "from models.waffleiron.segmenter import Segmenter\n",
    "import torch\n",
    "from datasets import LIST_DATASETS, Collate\n",
    "from tqdm import tqdm\n",
    "import torch\n",
    "import torch.nn as nn\n",
    "import torch.nn.functional as F\n",
    "import torchvision\n",
    "from collections import OrderedDict\n",
    "import warnings\n",
    "import copy\n",
    "import random\n",
    "import numpy as np\n",
    "import os\n",
    "\n",
    "import argparse\n",
    "import wandb\n",
    "from torchmetrics.classification import MulticlassJaccardIndex\n",
    "import torchmetrics\n",
    "from tqdm import tqdm\n",
    "from sklearn.metrics import confusion_matrix\n",
    "\n",
    "import torchhd\n",
    "from torchhd.models import Centroid\n",
    "from torchhd import embeddings\n",
    "\n",
    "class Encoder(nn.Module):\n",
    "    def __init__(self, hd_dim, size):\n",
    "        super(Encoder, self).__init__()\n",
    "        self.flatten = torch.nn.Flatten()\n",
    "        self.projection = embeddings.Projection(size, hd_dim)\n",
    "        self.projection.weight = nn.Parameter(torchhd.normalize(self.projection.weight), requires_grad=False) # Binary\n",
    "\n",
    "    def forward(self, x):\n",
    "        sample_hv = self.projection(x)\n",
    "        return torchhd.hard_quantize(sample_hv)\n",
    "\n",
    "class Feature_Extractor:\n",
    "    def __init__(self, input_channels=5, feat_channels=768, depth=48, \n",
    "                 grid_shape=[[256, 256], [256, 32], [256, 32]], nb_class=16, layer_norm=True, \n",
    "                 device=torch.device(\"cpu\"), early_exit = [48], **kwargs):\n",
    "        self.model = Segmenter(\n",
    "            input_channels=input_channels,\n",
    "            feat_channels=feat_channels,\n",
    "            depth=depth,\n",
    "            grid_shape=grid_shape,\n",
    "            nb_class=nb_class, # class for prediction\n",
    "            #drop_path_prob=config[\"waffleiron\"][\"drop_path\"],\n",
    "            layer_norm=layer_norm,\n",
    "            early_exit = early_exit\n",
    "        )\n",
    "\n",
    "        classif = torch.nn.Conv1d(\n",
    "            feat_channels, nb_class, 1 # So it fits 16 = nb_class but classifier is not used\n",
    "        )\n",
    "        torch.nn.init.constant_(classif.bias, 0)\n",
    "        torch.nn.init.constant_(classif.weight, 0)\n",
    "        self.model.classif = torch.nn.Sequential(\n",
    "            torch.nn.BatchNorm1d(feat_channels),\n",
    "            classif,\n",
    "        )\n",
    "\n",
    "        for p in self.model.parameters():\n",
    "            p.requires_grad = False\n",
    "        for p in self.model.classif.parameters():\n",
    "            p.requires_grad = True\n",
    "\n",
    "        def get_optimizer(parameters):\n",
    "            return torch.optim.AdamW(\n",
    "                parameters,\n",
    "                lr=0.001,\n",
    "                weight_decay=0.003,\n",
    "            )\n",
    "\n",
    "        optim = get_optimizer(self.model.parameters())\n",
    "        self.device = device\n",
    "        self.device_string = \"cuda:0\" if (torch.cuda.is_available() and kwargs['args'].device == 'gpu') else \"cpu\"\n",
    "        self.num_classes = nb_class\n",
    "        self.early_exit = early_exit\n",
    "        self.kwargs = kwargs\n",
    "    \n",
    "    def load_pretrained(self, path):\n",
    "        # Load pretrained model\n",
    "        path_to_ckpt = path\n",
    "        checkpoint = torch.load(path_to_ckpt,\n",
    "            map_location=self.device_string)\n",
    "        state_dict = checkpoint[\"net\"]  # Adjust key as needed\n",
    "        new_state_dict = OrderedDict()\n",
    "\n",
    "        for k, v in state_dict.items():\n",
    "            new_key = k.replace(\"module.\", \"\")  # Remove \"module.\" prefix\n",
    "            new_state_dict[new_key] = v\n",
    "\n",
    "        self.model.load_state_dict(new_state_dict)\n",
    "\n",
    "        print(\n",
    "            f\"Checkpoint loaded on {self.device_string}: {path_to_ckpt}\"\n",
    "        )\n",
    "\n",
    "        if self.device_string != 'cpu':\n",
    "            torch.cuda.set_device(self.device_string) # cuda:0\n",
    "            self.model = self.model.cuda(self.device_string) # cuda:0\n",
    "\n",
    "        self.model.eval()\n",
    "\n",
    "        #self.model.waffleiron.crop_model(self.early_exit)\n",
    "\n",
    "    def forward_model(self, it, batch, step_type):\n",
    "\n",
    "        # Checking all of the parameters needed for feature extractor\n",
    "        # Obj: only pass what you need\n",
    "        feat = batch[\"feat\"]\n",
    "        labels = batch[\"labels_orig\"]\n",
    "        cell_ind = batch[\"cell_ind\"]\n",
    "        occupied_cell = batch[\"occupied_cells\"]\n",
    "        neighbors_emb = batch[\"neighbors_emb\"]\n",
    "        if self.device_string != 'cpu':\n",
    "            feat = feat.cuda(0, non_blocking=True)\n",
    "            labels = labels.cuda(0, non_blocking=True)\n",
    "            batch[\"upsample\"] = [\n",
    "                up.cuda(0, non_blocking=True) for up in batch[\"upsample\"]\n",
    "            ]\n",
    "            cell_ind = cell_ind.cuda(0, non_blocking=True)\n",
    "            occupied_cell = occupied_cell.cuda(0, non_blocking=True)\n",
    "            neighbors_emb = neighbors_emb.cuda(0, non_blocking=True)\n",
    "        net_inputs = (feat, cell_ind, occupied_cell, neighbors_emb)\n",
    "\n",
    "        if self.device_string != 'cpu':\n",
    "            with torch.autocast(\"cuda\", enabled=True):\n",
    "                # Logits\n",
    "                with torch.no_grad():\n",
    "                    out = self.model(*net_inputs, step_type)\n",
    "                    encode, tokens, out, exit_layer = out[0], out[1], out[2], out[3]\n",
    "                    pred_label = out.max(1)[1]\n",
    "\n",
    "                    # Only return samples that are not noise\n",
    "                    #torch.cuda.synchronize(device=self.device)\n",
    "                    where = labels != 255\n",
    "                    #torch.cuda.synchronize(device=self.device)\n",
    "        else:\n",
    "            with torch.no_grad():\n",
    "                out = self.model(*net_inputs, step_type)\n",
    "                encode, tokens, out, exit_layer = out[0], out[1], out[2], out[3]\n",
    "                pred_label = out.max(1)[1]\n",
    "\n",
    "                # Only return samples that are not noise\n",
    "                where = labels != 255\n",
    "\n",
    "        return tokens[0,:,where], labels[where], pred_label[0, where], exit_layer\n",
    "\n",
    "    def test(self, loader, total_voxels):        \n",
    "        # Metric\n",
    "        miou = MulticlassJaccardIndex(num_classes=self.num_classes, average=None).to(self.device, non_blocking=True)\n",
    "        final_labels = torch.empty((total_voxels), device=self.device)\n",
    "        final_pred = torch.empty((total_voxels), device=self.device)\n",
    "        \n",
    "        start_idx = 0\n",
    "        for it, batch in tqdm(enumerate(loader), desc=\"SoA testing\"):\n",
    "            features, labels, soa_result = self.forward_model(it, batch)\n",
    "            shape_sample = labels.shape[0]\n",
    "            labels = labels.to(dtype = torch.int64, device = self.device, non_blocking=True)\n",
    "            soa_result = soa_result.to(device=self.device, non_blocking=True)\n",
    "            final_labels[start_idx:start_idx+shape_sample] = labels\n",
    "\n",
    "            final_pred[start_idx:start_idx+shape_sample] = soa_result\n",
    "\n",
    "            start_idx += shape_sample\n",
    "\n",
    "        final_labels = final_labels[:start_idx]\n",
    "        final_pred = final_pred[:start_idx]\n",
    "\n",
    "        print(\"================================\")\n",
    "\n",
    "        print('Pred FE', final_pred, \"\\tShape: \", final_pred.shape)\n",
    "        print('Label', final_labels, \"\\tShape: \", final_labels.shape)\n",
    "        accuracy = miou(final_pred, final_labels)\n",
    "        avg_acc = torch.mean(accuracy)\n",
    "        print(f'accuracy: {accuracy}')\n",
    "        print(f'avg acc: {avg_acc}')\n",
    "\n",
    "        #cm = confusion_matrix(pred_hd, first_label, labels=torch.Tensor(range(0,15)))\n",
    "        #print(\"Confusion matrix \\n\")\n",
    "        #print(cm)\n",
    "\n",
    "        print(\"================================\")\n",
    "\n",
    "class HD_Model:\n",
    "    def __init__(self, in_dim, out_dim, num_classes, path_pretrained, \n",
    "                 device=torch.device(\"cpu\"), **kwargs):\n",
    "\n",
    "        encode = Encoder(out_dim, in_dim)\n",
    "        self.encode = encode.to(device=device, non_blocking=True)\n",
    "\n",
    "        model = Centroid(out_dim, num_classes)\n",
    "        self.model = model.to(device=device, non_blocking=True)\n",
    "        self.device = device\n",
    "        self.feature_extractor = Feature_Extractor(nb_class = num_classes, device=self.device, \n",
    "                                                   early_exit=[int(i) for i in kwargs['args'].layers], \n",
    "                                                   args=kwargs['args'])\n",
    "        self.feature_extractor.load_pretrained(path_pretrained)\n",
    "        self.stop = kwargs['args'].layers\n",
    "        self.point_per_iter = kwargs['args'].number_samples\n",
    "        self.num_classes = num_classes\n",
    "        self.max_samples = kwargs['args'].number_samples\n",
    "        self.kwargs = kwargs\n",
    "        self.compensation = None\n",
    "\n",
    "    def normalize(self, samples):\n",
    "\n",
    "        \"\"\" Normalize with Z-score\"\"\"\n",
    "\n",
    "        mean = torch.mean(samples, dim=0)\n",
    "        std = torch.std(samples, dim=0)\n",
    "\n",
    "        samples = (samples - mean) / (std + 1e-8)\n",
    "\n",
    "        return samples\n",
    "\n",
    "    def set_loaders(self, train_loader, val_loader):\n",
    "        self.train_loader = train_loader\n",
    "        self.val_loader = val_loader\n",
    "        self.num_vox_train = 0\n",
    "        self.num_vox_val = 0\n",
    "\n",
    "        for loader, desc, attr in [(self.train_loader, \"Training loader\", \"num_vox_train\"),\n",
    "                           (self.val_loader, \"Validation loader\", \"num_vox_val\")]:\n",
    "            for batch in tqdm(loader, desc=desc):\n",
    "                labels = batch[\"labels_orig\"]\n",
    "\n",
    "                # Ensure labels are tensors\n",
    "                if isinstance(labels, list):\n",
    "                    labels = torch.stack(labels)  # Convert list of tensors to a single tensor\n",
    "                \n",
    "                # Move to GPU if applicable\n",
    "                if self.device.type == \"cuda\":\n",
    "                    labels = labels.cuda(non_blocking=True)\n",
    "\n",
    "                # Compute the number of valid voxels\n",
    "                setattr(self, attr, getattr(self, attr) + (labels != 255).sum().item())\n",
    "\n",
    "        print(\"Finished loading data loaders\")\n",
    "\n",
    "    def set_compensation(self, inter_weights_path):\n",
    "\n",
    "        \"\"\"Load all the paths for every exit\"\"\"\n",
    "\n",
    "        self.linear_weights = {}\n",
    "\n",
    "        for layer, path in inter_weights_path.items():\n",
    "            self.linear_weights[layer] = nn.Linear(768, 768)\n",
    "            state_dict = torch.load(path)\n",
    "            self.linear_weights[layer].load_state_dict(state_dict)\n",
    "            self.linear_weights[layer] = self.linear_weights[layer].to(self.device)\n",
    "        self.compensation = True\n",
    "    \n",
    "    def sample_to_encode(self, it, batch, step_type=\"train\"):\n",
    "        features, labels, soa_result, exit_layer = self.feature_extractor.forward_model(it, batch, step_type=step_type) # Everything for what hasn't been dropped\n",
    "        features = torch.transpose(features, 0, 1).to(dtype=torch.float32, device = self.device, non_blocking=True)\n",
    "        labels = labels.to(dtype=torch.int64, device = self.device, non_blocking=True)\n",
    "\n",
    "        if self.compensation and exit_layer != 47:\n",
    "            features = self.linear_weights[exit_layer](features)\n",
    "\n",
    "        features = self.normalize(features) # Z1 score seems to work\n",
    "\n",
    "        # HD training\n",
    "        samples_hv = self.encode(features)\n",
    "\n",
    "        return samples_hv, labels"
   ]
  },
  {
   "cell_type": "code",
   "execution_count": 2,
   "id": "62e37efe",
   "metadata": {},
   "outputs": [
    {
     "name": "stderr",
     "output_type": "stream",
     "text": [
      "Failed to detect the name of this notebook, you can set it manually with the WANDB_NOTEBOOK_NAME environment variable to enable code saving.\n",
      "\u001b[34m\u001b[1mwandb\u001b[0m: Using wandb-core as the SDK backend.  Please refer to https://wandb.me/wandb-core for more information.\n",
      "\u001b[34m\u001b[1mwandb\u001b[0m: \u001b[33mWARNING\u001b[0m If you're specifying your api key in code, ensure this code is not shared publicly.\n",
      "\u001b[34m\u001b[1mwandb\u001b[0m: \u001b[33mWARNING\u001b[0m Consider setting the WANDB_API_KEY environment variable, or running `wandb login` from the command line.\n",
      "\u001b[34m\u001b[1mwandb\u001b[0m: Appending key for api.wandb.ai to your netrc file: /root/.netrc\n",
      "\u001b[34m\u001b[1mwandb\u001b[0m: Currently logged in as: \u001b[33mdarthiv02\u001b[0m (\u001b[33mdarth-iv-02\u001b[0m) to \u001b[32mhttps://api.wandb.ai\u001b[0m. Use \u001b[1m`wandb login --relogin`\u001b[0m to force relogin\n"
     ]
    },
    {
     "name": "stdout",
     "output_type": "stream",
     "text": [
      "Using cuda device\n",
      "======\n",
      "Loading NuScenes tables for version v1.0-mini...\n",
      "Loading nuScenes-lidarseg...\n",
      "32 category,\n",
      "8 attribute,\n",
      "4 visibility,\n",
      "911 instance,\n",
      "12 sensor,\n",
      "120 calibrated_sensor,\n",
      "31206 ego_pose,\n",
      "8 log,\n",
      "10 scene,\n",
      "404 sample,\n",
      "31206 sample_data,\n",
      "18538 sample_annotation,\n",
      "4 map,\n",
      "404 lidarseg,\n",
      "Done loading in 0.668 seconds.\n",
      "======\n",
      "Reverse indexing ...\n",
      "Done reverse indexing in 0.1 seconds.\n",
      "======\n",
      "Checkpoint loaded on cuda:0: /root/main/ScaLR/saved_models/ckpt_last_scalr.pth\n"
     ]
    },
    {
     "name": "stderr",
     "output_type": "stream",
     "text": [
      "Training loader: 100%|████████████████████████████████████████████████████████████████| 282/282 [03:43<00:00,  1.26it/s]\n",
      "Validation loader: 100%|████████████████████████████████████████████████████████████████| 61/61 [00:48<00:00,  1.25it/s]"
     ]
    },
    {
     "name": "stdout",
     "output_type": "stream",
     "text": [
      "Finished loading data loaders\n"
     ]
    },
    {
     "name": "stderr",
     "output_type": "stream",
     "text": [
      "\n"
     ]
    }
   ],
   "source": [
    "import argparse\n",
    "\n",
    "def parse_dict_args(args_dict):\n",
    "    parser = argparse.ArgumentParser()\n",
    "\n",
    "    # Define arguments dynamically based on the dictionary keys\n",
    "    for key, value in args_dict.items():\n",
    "        if value is not None:\n",
    "            arg_type = type(value)\n",
    "            parser.add_argument(f'--{key}', type=arg_type, default=value)\n",
    "        else:\n",
    "            pass\n",
    "\n",
    "    # Simulate command-line arguments\n",
    "    args_list = [f'--{key}={value}' for key, value in args_dict.items()]\n",
    "    \n",
    "    return parser.parse_args(args_list)\n",
    "\n",
    "og_args = {'confidence':1, 'number_samples': 500, 'add_lr': False, \n",
    "        \"dataset\":'nuscenes', \"wandb_run\":False, 'device':'gpu', 'dim':10000, 'batch_points':20000}\n",
    "\n",
    "args = parse_dict_args(og_args)\n",
    "\n",
    "args.seed = None\n",
    "args.layers = ['24', '36']\n",
    "\n",
    "# Set seed\n",
    "if args.seed is not None:\n",
    "    random.seed(args.seed)\n",
    "    np.random.seed(args.seed)\n",
    "    torch.manual_seed(args.seed)\n",
    "    torch.cuda.manual_seed(args.seed)\n",
    "    os.environ[\"PYTHONHASHSEED\"] = str(args.seed)\n",
    "\n",
    "DIMENSIONS = args.dim\n",
    "FEAT_SIZE = 768\n",
    "NUM_LEVELS = 8000\n",
    "BATCH_SIZE = 1  # for GPUs with enough memory we can process multiple images at ones\n",
    "\n",
    "wandb.login(key=\"9487c04b8eff0c16cac4e785f2b57c3a475767d3\")\n",
    "\n",
    "device = torch.device(\"cuda\" if (torch.cuda.is_available() and args.device == 'gpu') else \"cpu\")\n",
    "print(\"Using {} device\".format(device))\n",
    "device_string = \"cuda:0\" if (torch.cuda.is_available() and args.device == 'gpu') else \"cpu\"\n",
    "\n",
    "# Modify the path for each of the folders\n",
    "\n",
    "if args.dataset == 'nuscenes':\n",
    "    path = '/root/main/dataset/nuscenes'\n",
    "elif args.dataset == 'semantic_kitti':\n",
    "    path = '/root/main/dataset/semantickitti'\n",
    "elif args.dataset == 'tls':\n",
    "    path = '/root/main/dataset/tls'\n",
    "\n",
    "\n",
    "# Get datatset\n",
    "DATASET = LIST_DATASETS.get(args.dataset)\n",
    "\n",
    "##### Process dataset #######\n",
    "\n",
    "if args.dataset == 'nuscenes':\n",
    "\n",
    "    kwargs = {\n",
    "        \"rootdir\": path,\n",
    "        \"input_feat\": [\"intensity\", \"xyz\", \"radius\"],\n",
    "        \"voxel_size\": 0.1,\n",
    "        \"num_neighbors\": 16,\n",
    "        \"dim_proj\": [2, 1, 0],\n",
    "        \"grids_shape\": [[256, 256], [256, 32], [256, 32]],\n",
    "        \"fov_xyz\": [[-64, -64, -8], [64, 64, 8]], # Check here\n",
    "    }\n",
    "\n",
    "    # Train dataset\n",
    "    dataset = DATASET(\n",
    "        phase=\"train\",\n",
    "        **kwargs,\n",
    "    )\n",
    "\n",
    "    dataset_train = copy.deepcopy(dataset)\n",
    "    dataset_val = copy.deepcopy(dataset)\n",
    "    dataset_train.init_training()\n",
    "    dataset_val.init_val()\n",
    "\n",
    "    num_classes = 16\n",
    "\n",
    "    path_pretrained = '/root/main/ScaLR/saved_models/ckpt_last_scalr.pth'\n",
    "\n",
    "elif args.dataset == 'semantic_kitti':\n",
    "\n",
    "    kwargs = {\n",
    "        \"rootdir\": path,\n",
    "        \"input_feat\": [\"intensity\", \"xyz\", \"radius\"],\n",
    "        \"voxel_size\": 0.1,\n",
    "        \"num_neighbors\": 16,\n",
    "        \"dim_proj\": [2, 1, 0],\n",
    "        \"grids_shape\": [[256, 256], [256, 32], [256, 32]],\n",
    "        \"fov_xyz\": [[-64, -64, -8], [64, 64, 8]], # Check here\n",
    "    }\n",
    "\n",
    "    dataset_train = DATASET(\n",
    "        phase=\"specific_train\",\n",
    "        **kwargs,\n",
    "    )\n",
    "\n",
    "    # Validation dataset\n",
    "    dataset_val = DATASET(\n",
    "        phase=\"val\",\n",
    "        **kwargs,\n",
    "    )\n",
    "\n",
    "    num_classes = 19\n",
    "\n",
    "    path_pretrained = '/root/main/ScaLR/saved_models/ckpt_last_kitti.pth'\n",
    "\n",
    "else:\n",
    "    raise Exception(\"Dataset Not identified\")\n",
    "\n",
    "train_loader = torch.utils.data.DataLoader(\n",
    "    dataset_train,\n",
    "    batch_size=1,\n",
    "    pin_memory=True,\n",
    "    drop_last=True,\n",
    "    collate_fn=Collate(device=device),\n",
    "    persistent_workers=False,\n",
    ")\n",
    "\n",
    "val_loader = torch.utils.data.DataLoader(\n",
    "    dataset_val,\n",
    "    batch_size=1,\n",
    "    pin_memory=True,\n",
    "    drop_last=True,\n",
    "    collate_fn=Collate(device=device),\n",
    "    persistent_workers=False,\n",
    ")\n",
    "\n",
    "hd_model = HD_Model(FEAT_SIZE, DIMENSIONS, num_classes, path_pretrained, device=device, args=args)\n",
    "hd_model.set_loaders(train_loader=train_loader, val_loader=val_loader)\n",
    "\n",
    "\n",
    "####### SOA results ##########\n",
    "#print(\"SoA results\")\n",
    "\n",
    "#hd_model.feature_extractor.test(hd_model.val_loader, hd_model.num_vox_val+1000, 48)"
   ]
  },
  {
   "cell_type": "code",
   "execution_count": 3,
   "id": "8ee271b7",
   "metadata": {},
   "outputs": [],
   "source": [
    "def train(hd_model):\n",
    "\n",
    "    \"\"\" Initial training pass \"\"\"\n",
    "\n",
    "    print(\"\\nTrain First\\n\")\n",
    "\n",
    "    for it, batch in tqdm(enumerate(hd_model.train_loader), desc=\"Training\"):\n",
    "\n",
    "        samples_hv, labels = hd_model.sample_to_encode(it, batch, step_type=\"train\")\n",
    "\n",
    "        for b in range(0, samples_hv.shape[0], hd_model.point_per_iter):\n",
    "            end = min(b + hd_model.point_per_iter, int(samples_hv.shape[0]))  # Ensure we don't exceed num_voxels[i]\n",
    "\n",
    "        #samples_hv = samples_hv.reshape((1,samples_hv.shape[0]))\n",
    "\n",
    "            hd_model.model.add(samples_hv[b:end], labels[b:end])\n",
    "\n",
    "            #if self.device == torch.device(\"cuda:0\"):\n",
    "            #    torch.cuda.synchronize(device=self.device)\n",
    "        if it == hd_model.max_samples:\n",
    "            break\n",
    "\n",
    "    hd_model.model.weight = nn.Parameter(torchhd.normalize(hd_model.model.weight), requires_grad=False) # Binary\n",
    "\n",
    "    x = input(\"CKA values computed\")\n",
    "\n",
    "    threshold_values = []\n",
    "\n",
    "    ## Get the threshold values\n",
    "    for layer in hd_model.stop:\n",
    "        np_cka = np.array([i.cpu() for i in hd_model.feature_extractor.model.waffleiron.cka_losses[int(layer)]])\n",
    "        mean_cka = np.mean(np_cka)\n",
    "        std_cka = np.std(np_cka)\n",
    "        threshold = mean_cka - std_cka\n",
    "        print(\"Threshold = \", threshold)\n",
    "        hd_model.feature_extractor.model.waffleiron.set_exit_threshold(layer = layer, threshold = threshold)\n",
    "\n",
    "def retrain(hd_model, epochs):\n",
    "\n",
    "    \"\"\" Retrain with misclassified samples (also substract)\"\"\"\n",
    "\n",
    "    for e in tqdm(range(epochs), desc=\"Epoch\"):\n",
    "        #count = 0\n",
    "        #self.scramble = np.random.permutation(len(self.im_idx))\n",
    "        \n",
    "        num_wrong = []\n",
    "\n",
    "        for it, batch in tqdm(enumerate(hd_model.train_loader), desc=f\"Retraining epoch {e}\"):\n",
    "\n",
    "            samples_hv, labels = hd_model.sample_to_encode(it, batch, step_type=\"retrain\")\n",
    "            is_wrong_count = 0\n",
    "            for b in range(0, samples_hv.shape[0], hd_model.point_per_iter):\n",
    "                end = min(b + hd_model.point_per_iter, int(samples_hv.shape[0]))  # Ensure we don't exceed num_voxels[i]\n",
    "                samples_hv_here = samples_hv[b:end]\n",
    "                labels_here = labels[b:end]\n",
    "                sim = hd_model.model(samples_hv_here, dot=True)\n",
    "                #pred_hd = sim.argmax(1).data\n",
    "                pred_hd = torch.argmax(sim, axis=1)\n",
    "\n",
    "                is_wrong = labels_here != pred_hd\n",
    "                \n",
    "                is_wrong_count += sum(is_wrong)\n",
    "\n",
    "                # cancel update if all predictions were correct\n",
    "                if is_wrong.sum().item() == 0:\n",
    "                    continue\n",
    "\n",
    "                # only update wrongly predicted inputs\n",
    "                samples_hv_here = samples_hv_here[is_wrong]\n",
    "                labels_here = labels_here[is_wrong]\n",
    "                pred_hd = pred_hd[is_wrong]\n",
    "\n",
    "                #count = labels.shape[0]\n",
    "\n",
    "                hd_model.model.weight.index_add_(0, labels_here, samples_hv_here)\n",
    "                hd_model.model.weight.index_add_(0, pred_hd, samples_hv_here, alpha=-1.0)\n",
    "            \n",
    "            num_wrong.append(is_wrong_count)\n",
    "            #torch.cuda.synchronize(device=self.device)\n",
    "\n",
    "            if it == hd_model.max_samples:\n",
    "                break\n",
    "\n",
    "        #print(f\"Misclassified for {it}: \", count)\n",
    "\n",
    "        # If you want to test for each sample\n",
    "        #hd_model.test_hd()\n",
    "    \n",
    "        return num_wrong\n",
    "\n",
    "def test_hd(hd_model, loader='val'):\n",
    "\n",
    "    \"\"\" Testing over all the samples in all the scans given \"\"\"\n",
    "\n",
    "    if loader == 'val':\n",
    "        loader = hd_model.val_loader\n",
    "        num_vox = hd_model.num_vox_val\n",
    "    else:\n",
    "        loader = hd_model.train_loader\n",
    "        num_vox = hd_model.num_vox_train\n",
    "\n",
    "    # Metric\n",
    "    miou = MulticlassJaccardIndex(num_classes=hd_model.num_classes, average=None).to(hd_model.device, non_blocking=True)\n",
    "    final_labels = torch.empty((num_vox+1000), dtype=torch.int64, device=hd_model.device)\n",
    "    final_pred = torch.empty((num_vox+1000), dtype=torch.int64, device=hd_model.device)\n",
    "\n",
    "    start_idx = 0\n",
    "    for it, batch in tqdm(enumerate(loader), desc=\"Validation:\"):\n",
    "\n",
    "        samples_hv, labels = hd_model.sample_to_encode(it, batch, \"Test\") # Only return the features that haven't been dropped\n",
    "\n",
    "        for b in range(0, samples_hv.shape[0], hd_model.point_per_iter):\n",
    "            end = min(b + hd_model.point_per_iter, int(samples_hv.shape[0]))  # Ensure we don't exceed num_voxels[i]\n",
    "            samples_hv_here = samples_hv[b:end]\n",
    "            labels_here = labels[b:end]\n",
    "            #torch.cuda.synchronize(device=self.device)\n",
    "\n",
    "            shape_sample = labels_here.shape[0]\n",
    "\n",
    "            #pred_hd = self.model(samples_hv, dot=True).argmax(1).data\n",
    "            sim = hd_model.model(samples_hv_here, dot=True)\n",
    "            #torch.cuda.synchronize(device=self.device)\n",
    "\n",
    "            pred_hd = torch.argmax(sim, axis=1)\n",
    "            #torch.cuda.synchronize(device=self.device)\n",
    "\n",
    "            #print(\"Labels: \", labels.shape[0])\n",
    "            #print(start_idx, start_idx+shape_sample)\n",
    "            #print(shape_sample)\n",
    "\n",
    "            final_labels[start_idx:start_idx+shape_sample] = labels_here\n",
    "            final_pred[start_idx:start_idx+shape_sample] = pred_hd\n",
    "\n",
    "            start_idx += shape_sample\n",
    "\n",
    "        if it == hd_model.max_samples:\n",
    "            break\n",
    "\n",
    "    final_labels = final_labels[:start_idx]\n",
    "    final_pred = final_pred[:start_idx]\n",
    "\n",
    "    print(\"================================\")\n",
    "\n",
    "    #print('pred_ts', pred_ts)\n",
    "    print('pred_hd', final_pred, \"\\tShape: \", final_pred.shape)\n",
    "    print('label', final_labels, \"\\tShape: \", final_labels.shape)\n",
    "    accuracy = miou(final_pred, final_labels)\n",
    "    avg_acc = torch.mean(accuracy)\n",
    "    print(f'accuracy: {accuracy}')\n",
    "    print(f'avg acc: {avg_acc}')\n",
    "\n",
    "    if args.wandb_run:\n",
    "        log_data = {f\"Training class_{i}_IoU\": c for i, c in enumerate(accuracy)}\n",
    "        log_data[\"Retraining epoch\"] = avg_acc\n",
    "        wandb.log(log_data)\n",
    "\n",
    "    #cm = confusion_matrix(pred_hd, first_label, labels=torch.Tensor(range(0,15)))\n",
    "    #print(\"Confusion matrix \\n\")\n",
    "    #print(cm)\n",
    "\n",
    "    print(\"================================\")"
   ]
  },
  {
   "cell_type": "code",
   "execution_count": 4,
   "id": "40d79e65",
   "metadata": {},
   "outputs": [
    {
     "data": {
      "text/html": [
       "Tracking run with wandb version 0.19.8"
      ],
      "text/plain": [
       "<IPython.core.display.HTML object>"
      ]
     },
     "metadata": {},
     "output_type": "display_data"
    },
    {
     "data": {
      "text/html": [
       "Run data is saved locally in <code>/home/HyperLiDAR/wandb/run-20250320_181422-nuscenes_training_layers_['24', '36']_norm_dim_10000_OFA_early_exit</code>"
      ],
      "text/plain": [
       "<IPython.core.display.HTML object>"
      ]
     },
     "metadata": {},
     "output_type": "display_data"
    },
    {
     "data": {
      "text/html": [
       "Syncing run <strong><a href='https://wandb.ai/darth-iv-02/scalr_hd/runs/nuscenes_training_layers_%5B%2724%27%2C%20%2736%27%5D_norm_dim_10000_OFA_early_exit' target=\"_blank\">nuscenes_training_layers_['24', '36']_norm_dim_10000_OFA_early_exit</a></strong> to <a href='https://wandb.ai/darth-iv-02/scalr_hd' target=\"_blank\">Weights & Biases</a> (<a href='https://wandb.me/developer-guide' target=\"_blank\">docs</a>)<br>"
      ],
      "text/plain": [
       "<IPython.core.display.HTML object>"
      ]
     },
     "metadata": {},
     "output_type": "display_data"
    },
    {
     "data": {
      "text/html": [
       " View project at <a href='https://wandb.ai/darth-iv-02/scalr_hd' target=\"_blank\">https://wandb.ai/darth-iv-02/scalr_hd</a>"
      ],
      "text/plain": [
       "<IPython.core.display.HTML object>"
      ]
     },
     "metadata": {},
     "output_type": "display_data"
    },
    {
     "data": {
      "text/html": [
       " View run at <a href='https://wandb.ai/darth-iv-02/scalr_hd/runs/nuscenes_training_layers_%5B%2724%27%2C%20%2736%27%5D_norm_dim_10000_OFA_early_exit' target=\"_blank\">https://wandb.ai/darth-iv-02/scalr_hd/runs/nuscenes_training_layers_%5B%2724%27%2C%20%2736%27%5D_norm_dim_10000_OFA_early_exit</a>"
      ],
      "text/plain": [
       "<IPython.core.display.HTML object>"
      ]
     },
     "metadata": {},
     "output_type": "display_data"
    },
    {
     "name": "stdout",
     "output_type": "stream",
     "text": [
      "Initial Training\n",
      "\n",
      "Train First\n",
      "\n"
     ]
    },
    {
     "name": "stderr",
     "output_type": "stream",
     "text": [
      "\r",
      "Training: 0it [00:00, ?it/s]"
     ]
    },
    {
     "name": "stdout",
     "output_type": "stream",
     "text": [
      "torch.Size([768])\n",
      "torch.Size([768, 768])\n",
      "torch.Size([768])\n",
      "torch.Size([768, 768])\n"
     ]
    },
    {
     "name": "stderr",
     "output_type": "stream",
     "text": [
      "/home/HyperLiDAR/models/waffleiron/helper_projection.py:27: UserWarning: scatter_reduce() is in beta and the API may change at any time. (Triggered internally at  ../aten/src/ATen/native/TensorAdvancedIndexing.cpp:1550.)\n",
      "  residual.scatter_reduce_(\n"
     ]
    },
    {
     "name": "stdout",
     "output_type": "stream",
     "text": [
      "torch.Size([768])\n",
      "torch.Size([768, 768])\n"
     ]
    },
    {
     "name": "stderr",
     "output_type": "stream",
     "text": [
      "/tmp/ipykernel_47201/1220565487.py:36: DeprecationWarning: torchhd.hard_quantize is deprecated, consider using torchhd.normalize instead.\n",
      "  return torchhd.hard_quantize(sample_hv)\n",
      "\r",
      "Training: 1it [00:04,  4.34s/it]"
     ]
    },
    {
     "name": "stdout",
     "output_type": "stream",
     "text": [
      "torch.Size([768])\n",
      "torch.Size([768, 768])\n",
      "torch.Size([768])\n",
      "torch.Size([768, 768])\n",
      "torch.Size([768])\n",
      "torch.Size([768, 768])\n"
     ]
    },
    {
     "name": "stderr",
     "output_type": "stream",
     "text": [
      "\r",
      "Training: 2it [00:05,  2.50s/it]"
     ]
    },
    {
     "name": "stdout",
     "output_type": "stream",
     "text": [
      "torch.Size([768])\n",
      "torch.Size([768, 768])\n",
      "torch.Size([768])\n",
      "torch.Size([768, 768])\n",
      "torch.Size([768])\n",
      "torch.Size([768, 768])\n"
     ]
    },
    {
     "name": "stderr",
     "output_type": "stream",
     "text": [
      "\r",
      "Training: 3it [00:06,  1.96s/it]"
     ]
    },
    {
     "name": "stdout",
     "output_type": "stream",
     "text": [
      "torch.Size([768])\n",
      "torch.Size([768, 768])\n",
      "torch.Size([768])\n",
      "torch.Size([768, 768])\n",
      "torch.Size([768])\n",
      "torch.Size([768, 768])\n"
     ]
    },
    {
     "name": "stderr",
     "output_type": "stream",
     "text": [
      "\r",
      "Training: 4it [00:08,  1.66s/it]"
     ]
    },
    {
     "name": "stdout",
     "output_type": "stream",
     "text": [
      "torch.Size([768])\n",
      "torch.Size([768, 768])\n",
      "torch.Size([768])\n",
      "torch.Size([768, 768])\n",
      "torch.Size([768])\n",
      "torch.Size([768, 768])\n"
     ]
    },
    {
     "name": "stderr",
     "output_type": "stream",
     "text": [
      "\r",
      "Training: 5it [00:09,  1.51s/it]"
     ]
    },
    {
     "name": "stdout",
     "output_type": "stream",
     "text": [
      "torch.Size([768])\n",
      "torch.Size([768, 768])\n",
      "torch.Size([768])\n",
      "torch.Size([768, 768])\n",
      "torch.Size([768])\n",
      "torch.Size([768, 768])\n"
     ]
    },
    {
     "name": "stderr",
     "output_type": "stream",
     "text": [
      "\r",
      "Training: 6it [00:10,  1.39s/it]"
     ]
    },
    {
     "name": "stdout",
     "output_type": "stream",
     "text": [
      "torch.Size([768])\n",
      "torch.Size([768, 768])\n",
      "torch.Size([768])\n",
      "torch.Size([768, 768])\n",
      "torch.Size([768])\n",
      "torch.Size([768, 768])\n"
     ]
    },
    {
     "name": "stderr",
     "output_type": "stream",
     "text": [
      "\r",
      "Training: 7it [00:11,  1.35s/it]"
     ]
    },
    {
     "name": "stdout",
     "output_type": "stream",
     "text": [
      "torch.Size([768])\n",
      "torch.Size([768, 768])\n",
      "torch.Size([768])\n",
      "torch.Size([768, 768])\n",
      "torch.Size([768])\n",
      "torch.Size([768, 768])\n"
     ]
    },
    {
     "name": "stderr",
     "output_type": "stream",
     "text": [
      "\r",
      "Training: 8it [00:12,  1.27s/it]"
     ]
    },
    {
     "name": "stdout",
     "output_type": "stream",
     "text": [
      "torch.Size([768])\n",
      "torch.Size([768, 768])\n",
      "torch.Size([768])\n",
      "torch.Size([768, 768])\n",
      "torch.Size([768])\n",
      "torch.Size([768, 768])\n"
     ]
    },
    {
     "name": "stderr",
     "output_type": "stream",
     "text": [
      "\r",
      "Training: 9it [00:14,  1.25s/it]"
     ]
    },
    {
     "name": "stdout",
     "output_type": "stream",
     "text": [
      "torch.Size([768])\n",
      "torch.Size([768, 768])\n",
      "torch.Size([768])\n",
      "torch.Size([768, 768])\n",
      "torch.Size([768])\n",
      "torch.Size([768, 768])\n"
     ]
    },
    {
     "name": "stderr",
     "output_type": "stream",
     "text": [
      "\r",
      "Training: 10it [00:15,  1.24s/it]"
     ]
    },
    {
     "name": "stdout",
     "output_type": "stream",
     "text": [
      "torch.Size([768])\n",
      "torch.Size([768, 768])\n",
      "torch.Size([768])\n",
      "torch.Size([768, 768])\n",
      "torch.Size([768])\n",
      "torch.Size([768, 768])\n"
     ]
    },
    {
     "name": "stderr",
     "output_type": "stream",
     "text": [
      "\r",
      "Training: 11it [00:16,  1.25s/it]"
     ]
    },
    {
     "name": "stdout",
     "output_type": "stream",
     "text": [
      "torch.Size([768])\n",
      "torch.Size([768, 768])\n",
      "torch.Size([768])\n",
      "torch.Size([768, 768])\n",
      "torch.Size([768])\n",
      "torch.Size([768, 768])\n"
     ]
    },
    {
     "name": "stderr",
     "output_type": "stream",
     "text": [
      "\r",
      "Training: 12it [00:17,  1.21s/it]"
     ]
    },
    {
     "name": "stdout",
     "output_type": "stream",
     "text": [
      "torch.Size([768])\n",
      "torch.Size([768, 768])\n",
      "torch.Size([768])\n",
      "torch.Size([768, 768])\n",
      "torch.Size([768])\n",
      "torch.Size([768, 768])\n"
     ]
    },
    {
     "name": "stderr",
     "output_type": "stream",
     "text": [
      "\r",
      "Training: 13it [00:18,  1.20s/it]"
     ]
    },
    {
     "name": "stdout",
     "output_type": "stream",
     "text": [
      "torch.Size([768])\n",
      "torch.Size([768, 768])\n",
      "torch.Size([768])\n",
      "torch.Size([768, 768])\n",
      "torch.Size([768])\n",
      "torch.Size([768, 768])\n"
     ]
    },
    {
     "name": "stderr",
     "output_type": "stream",
     "text": [
      "\r",
      "Training: 14it [00:20,  1.21s/it]"
     ]
    },
    {
     "name": "stdout",
     "output_type": "stream",
     "text": [
      "torch.Size([768])\n",
      "torch.Size([768, 768])\n",
      "torch.Size([768])\n",
      "torch.Size([768, 768])\n",
      "torch.Size([768])\n",
      "torch.Size([768, 768])\n"
     ]
    },
    {
     "name": "stderr",
     "output_type": "stream",
     "text": [
      "\r",
      "Training: 15it [00:21,  1.18s/it]"
     ]
    },
    {
     "name": "stdout",
     "output_type": "stream",
     "text": [
      "torch.Size([768])\n",
      "torch.Size([768, 768])\n",
      "torch.Size([768])\n",
      "torch.Size([768, 768])\n",
      "torch.Size([768])\n",
      "torch.Size([768, 768])\n"
     ]
    },
    {
     "name": "stderr",
     "output_type": "stream",
     "text": [
      "\r",
      "Training: 16it [00:22,  1.21s/it]"
     ]
    },
    {
     "name": "stdout",
     "output_type": "stream",
     "text": [
      "torch.Size([768])\n",
      "torch.Size([768, 768])\n",
      "torch.Size([768])\n",
      "torch.Size([768, 768])\n",
      "torch.Size([768])\n",
      "torch.Size([768, 768])\n"
     ]
    },
    {
     "name": "stderr",
     "output_type": "stream",
     "text": [
      "\r",
      "Training: 17it [00:23,  1.19s/it]"
     ]
    },
    {
     "name": "stdout",
     "output_type": "stream",
     "text": [
      "torch.Size([768])\n",
      "torch.Size([768, 768])\n",
      "torch.Size([768])\n",
      "torch.Size([768, 768])\n",
      "torch.Size([768])\n",
      "torch.Size([768, 768])\n"
     ]
    },
    {
     "name": "stderr",
     "output_type": "stream",
     "text": [
      "\r",
      "Training: 18it [00:24,  1.18s/it]"
     ]
    },
    {
     "name": "stdout",
     "output_type": "stream",
     "text": [
      "torch.Size([768])\n",
      "torch.Size([768, 768])\n",
      "torch.Size([768])\n",
      "torch.Size([768, 768])\n",
      "torch.Size([768])\n",
      "torch.Size([768, 768])\n"
     ]
    },
    {
     "name": "stderr",
     "output_type": "stream",
     "text": [
      "\r",
      "Training: 19it [00:26,  1.21s/it]"
     ]
    },
    {
     "name": "stdout",
     "output_type": "stream",
     "text": [
      "torch.Size([768])\n",
      "torch.Size([768, 768])\n",
      "torch.Size([768])\n",
      "torch.Size([768, 768])\n",
      "torch.Size([768])\n",
      "torch.Size([768, 768])\n"
     ]
    },
    {
     "name": "stderr",
     "output_type": "stream",
     "text": [
      "\r",
      "Training: 20it [00:27,  1.22s/it]"
     ]
    },
    {
     "name": "stdout",
     "output_type": "stream",
     "text": [
      "torch.Size([768])\n",
      "torch.Size([768, 768])\n",
      "torch.Size([768])\n",
      "torch.Size([768, 768])\n",
      "torch.Size([768])\n",
      "torch.Size([768, 768])\n"
     ]
    },
    {
     "name": "stderr",
     "output_type": "stream",
     "text": [
      "\r",
      "Training: 21it [00:28,  1.21s/it]"
     ]
    },
    {
     "name": "stdout",
     "output_type": "stream",
     "text": [
      "torch.Size([768])\n",
      "torch.Size([768, 768])\n",
      "torch.Size([768])\n",
      "torch.Size([768, 768])\n",
      "torch.Size([768])\n",
      "torch.Size([768, 768])\n"
     ]
    },
    {
     "name": "stderr",
     "output_type": "stream",
     "text": [
      "\r",
      "Training: 22it [00:29,  1.19s/it]"
     ]
    },
    {
     "name": "stdout",
     "output_type": "stream",
     "text": [
      "torch.Size([768])\n",
      "torch.Size([768, 768])\n",
      "torch.Size([768])\n",
      "torch.Size([768, 768])\n",
      "torch.Size([768])\n",
      "torch.Size([768, 768])\n"
     ]
    },
    {
     "name": "stderr",
     "output_type": "stream",
     "text": [
      "\r",
      "Training: 23it [00:30,  1.20s/it]"
     ]
    },
    {
     "name": "stdout",
     "output_type": "stream",
     "text": [
      "torch.Size([768])\n",
      "torch.Size([768, 768])\n",
      "torch.Size([768])\n",
      "torch.Size([768, 768])\n",
      "torch.Size([768])\n",
      "torch.Size([768, 768])\n"
     ]
    },
    {
     "name": "stderr",
     "output_type": "stream",
     "text": [
      "\r",
      "Training: 24it [00:32,  1.22s/it]"
     ]
    },
    {
     "name": "stdout",
     "output_type": "stream",
     "text": [
      "torch.Size([768])\n",
      "torch.Size([768, 768])\n",
      "torch.Size([768])\n",
      "torch.Size([768, 768])\n",
      "torch.Size([768])\n",
      "torch.Size([768, 768])\n"
     ]
    },
    {
     "name": "stderr",
     "output_type": "stream",
     "text": [
      "\r",
      "Training: 25it [00:33,  1.23s/it]"
     ]
    },
    {
     "name": "stdout",
     "output_type": "stream",
     "text": [
      "torch.Size([768])\n",
      "torch.Size([768, 768])\n",
      "torch.Size([768])\n",
      "torch.Size([768, 768])\n",
      "torch.Size([768])\n",
      "torch.Size([768, 768])\n"
     ]
    },
    {
     "name": "stderr",
     "output_type": "stream",
     "text": [
      "\r",
      "Training: 26it [00:34,  1.22s/it]"
     ]
    },
    {
     "name": "stdout",
     "output_type": "stream",
     "text": [
      "torch.Size([768])\n",
      "torch.Size([768, 768])\n",
      "torch.Size([768])\n",
      "torch.Size([768, 768])\n",
      "torch.Size([768])\n",
      "torch.Size([768, 768])\n"
     ]
    },
    {
     "name": "stderr",
     "output_type": "stream",
     "text": [
      "\r",
      "Training: 27it [00:35,  1.22s/it]"
     ]
    },
    {
     "name": "stdout",
     "output_type": "stream",
     "text": [
      "torch.Size([768])\n",
      "torch.Size([768, 768])\n",
      "torch.Size([768])\n",
      "torch.Size([768, 768])\n",
      "torch.Size([768])\n",
      "torch.Size([768, 768])\n"
     ]
    },
    {
     "name": "stderr",
     "output_type": "stream",
     "text": [
      "\r",
      "Training: 28it [00:37,  1.25s/it]"
     ]
    },
    {
     "name": "stdout",
     "output_type": "stream",
     "text": [
      "torch.Size([768])\n",
      "torch.Size([768, 768])\n",
      "torch.Size([768])\n",
      "torch.Size([768, 768])\n",
      "torch.Size([768])\n",
      "torch.Size([768, 768])\n"
     ]
    },
    {
     "name": "stderr",
     "output_type": "stream",
     "text": [
      "\r",
      "Training: 29it [00:38,  1.25s/it]"
     ]
    },
    {
     "name": "stdout",
     "output_type": "stream",
     "text": [
      "torch.Size([768])\n",
      "torch.Size([768, 768])\n",
      "torch.Size([768])\n",
      "torch.Size([768, 768])\n",
      "torch.Size([768])\n",
      "torch.Size([768, 768])\n"
     ]
    },
    {
     "name": "stderr",
     "output_type": "stream",
     "text": [
      "\r",
      "Training: 30it [00:39,  1.27s/it]"
     ]
    },
    {
     "name": "stdout",
     "output_type": "stream",
     "text": [
      "torch.Size([768])\n",
      "torch.Size([768, 768])\n",
      "torch.Size([768])\n",
      "torch.Size([768, 768])\n",
      "torch.Size([768])\n",
      "torch.Size([768, 768])\n"
     ]
    },
    {
     "name": "stderr",
     "output_type": "stream",
     "text": [
      "\r",
      "Training: 31it [00:40,  1.28s/it]"
     ]
    },
    {
     "name": "stdout",
     "output_type": "stream",
     "text": [
      "torch.Size([768])\n",
      "torch.Size([768, 768])\n",
      "torch.Size([768])\n",
      "torch.Size([768, 768])\n",
      "torch.Size([768])\n",
      "torch.Size([768, 768])\n"
     ]
    },
    {
     "name": "stderr",
     "output_type": "stream",
     "text": [
      "\r",
      "Training: 32it [00:42,  1.25s/it]"
     ]
    },
    {
     "name": "stdout",
     "output_type": "stream",
     "text": [
      "torch.Size([768])\n",
      "torch.Size([768, 768])\n",
      "torch.Size([768])\n",
      "torch.Size([768, 768])\n",
      "torch.Size([768])\n",
      "torch.Size([768, 768])\n"
     ]
    },
    {
     "name": "stderr",
     "output_type": "stream",
     "text": [
      "\r",
      "Training: 33it [00:43,  1.25s/it]"
     ]
    },
    {
     "name": "stdout",
     "output_type": "stream",
     "text": [
      "torch.Size([768])\n",
      "torch.Size([768, 768])\n",
      "torch.Size([768])\n",
      "torch.Size([768, 768])\n",
      "torch.Size([768])\n",
      "torch.Size([768, 768])\n"
     ]
    },
    {
     "name": "stderr",
     "output_type": "stream",
     "text": [
      "\r",
      "Training: 34it [00:44,  1.25s/it]"
     ]
    },
    {
     "name": "stdout",
     "output_type": "stream",
     "text": [
      "torch.Size([768])\n",
      "torch.Size([768, 768])\n",
      "torch.Size([768])\n",
      "torch.Size([768, 768])\n",
      "torch.Size([768])\n",
      "torch.Size([768, 768])\n"
     ]
    },
    {
     "name": "stderr",
     "output_type": "stream",
     "text": [
      "\r",
      "Training: 35it [00:45,  1.27s/it]"
     ]
    },
    {
     "name": "stdout",
     "output_type": "stream",
     "text": [
      "torch.Size([768])\n",
      "torch.Size([768, 768])\n",
      "torch.Size([768])\n",
      "torch.Size([768, 768])\n",
      "torch.Size([768])\n",
      "torch.Size([768, 768])\n"
     ]
    },
    {
     "name": "stderr",
     "output_type": "stream",
     "text": [
      "\r",
      "Training: 36it [00:47,  1.25s/it]"
     ]
    },
    {
     "name": "stdout",
     "output_type": "stream",
     "text": [
      "torch.Size([768])\n",
      "torch.Size([768, 768])\n",
      "torch.Size([768])\n",
      "torch.Size([768, 768])\n",
      "torch.Size([768])\n",
      "torch.Size([768, 768])\n"
     ]
    },
    {
     "name": "stderr",
     "output_type": "stream",
     "text": [
      "\r",
      "Training: 37it [00:48,  1.25s/it]"
     ]
    },
    {
     "name": "stdout",
     "output_type": "stream",
     "text": [
      "torch.Size([768])\n",
      "torch.Size([768, 768])\n",
      "torch.Size([768])\n",
      "torch.Size([768, 768])\n",
      "torch.Size([768])\n",
      "torch.Size([768, 768])\n"
     ]
    },
    {
     "name": "stderr",
     "output_type": "stream",
     "text": [
      "\r",
      "Training: 38it [00:49,  1.27s/it]"
     ]
    },
    {
     "name": "stdout",
     "output_type": "stream",
     "text": [
      "torch.Size([768])\n",
      "torch.Size([768, 768])\n",
      "torch.Size([768])\n",
      "torch.Size([768, 768])\n",
      "torch.Size([768])\n",
      "torch.Size([768, 768])\n"
     ]
    },
    {
     "name": "stderr",
     "output_type": "stream",
     "text": [
      "\r",
      "Training: 39it [00:51,  1.27s/it]"
     ]
    },
    {
     "name": "stdout",
     "output_type": "stream",
     "text": [
      "torch.Size([768])\n",
      "torch.Size([768, 768])\n",
      "torch.Size([768])\n",
      "torch.Size([768, 768])\n",
      "torch.Size([768])\n",
      "torch.Size([768, 768])\n"
     ]
    },
    {
     "name": "stderr",
     "output_type": "stream",
     "text": [
      "\r",
      "Training: 40it [00:52,  1.29s/it]"
     ]
    },
    {
     "name": "stdout",
     "output_type": "stream",
     "text": [
      "torch.Size([768])\n",
      "torch.Size([768, 768])\n",
      "torch.Size([768])\n",
      "torch.Size([768, 768])\n",
      "torch.Size([768])\n",
      "torch.Size([768, 768])\n"
     ]
    },
    {
     "name": "stderr",
     "output_type": "stream",
     "text": [
      "\r",
      "Training: 41it [00:53,  1.25s/it]"
     ]
    },
    {
     "name": "stdout",
     "output_type": "stream",
     "text": [
      "torch.Size([768])\n",
      "torch.Size([768, 768])\n",
      "torch.Size([768])\n",
      "torch.Size([768, 768])\n",
      "torch.Size([768])\n",
      "torch.Size([768, 768])\n"
     ]
    },
    {
     "name": "stderr",
     "output_type": "stream",
     "text": [
      "\r",
      "Training: 42it [00:54,  1.21s/it]"
     ]
    },
    {
     "name": "stdout",
     "output_type": "stream",
     "text": [
      "torch.Size([768])\n",
      "torch.Size([768, 768])\n",
      "torch.Size([768])\n",
      "torch.Size([768, 768])\n",
      "torch.Size([768])\n",
      "torch.Size([768, 768])\n"
     ]
    },
    {
     "name": "stderr",
     "output_type": "stream",
     "text": [
      "\r",
      "Training: 43it [00:55,  1.21s/it]"
     ]
    },
    {
     "name": "stdout",
     "output_type": "stream",
     "text": [
      "torch.Size([768])\n",
      "torch.Size([768, 768])\n",
      "torch.Size([768])\n",
      "torch.Size([768, 768])\n",
      "torch.Size([768])\n",
      "torch.Size([768, 768])\n"
     ]
    },
    {
     "name": "stderr",
     "output_type": "stream",
     "text": [
      "\r",
      "Training: 44it [00:57,  1.26s/it]"
     ]
    },
    {
     "name": "stdout",
     "output_type": "stream",
     "text": [
      "torch.Size([768])\n",
      "torch.Size([768, 768])\n",
      "torch.Size([768])\n",
      "torch.Size([768, 768])\n",
      "torch.Size([768])\n",
      "torch.Size([768, 768])\n"
     ]
    },
    {
     "name": "stderr",
     "output_type": "stream",
     "text": [
      "\r",
      "Training: 45it [00:58,  1.27s/it]"
     ]
    },
    {
     "name": "stdout",
     "output_type": "stream",
     "text": [
      "torch.Size([768])\n",
      "torch.Size([768, 768])\n",
      "torch.Size([768])\n",
      "torch.Size([768, 768])\n",
      "torch.Size([768])\n",
      "torch.Size([768, 768])\n"
     ]
    },
    {
     "name": "stderr",
     "output_type": "stream",
     "text": [
      "\r",
      "Training: 46it [00:59,  1.28s/it]"
     ]
    },
    {
     "name": "stdout",
     "output_type": "stream",
     "text": [
      "torch.Size([768])\n",
      "torch.Size([768, 768])\n",
      "torch.Size([768])\n",
      "torch.Size([768, 768])\n",
      "torch.Size([768])\n",
      "torch.Size([768, 768])\n"
     ]
    },
    {
     "name": "stderr",
     "output_type": "stream",
     "text": [
      "\r",
      "Training: 47it [01:01,  1.30s/it]"
     ]
    },
    {
     "name": "stdout",
     "output_type": "stream",
     "text": [
      "torch.Size([768])\n",
      "torch.Size([768, 768])\n",
      "torch.Size([768])\n",
      "torch.Size([768, 768])\n",
      "torch.Size([768])\n",
      "torch.Size([768, 768])\n"
     ]
    },
    {
     "name": "stderr",
     "output_type": "stream",
     "text": [
      "\r",
      "Training: 48it [01:02,  1.30s/it]"
     ]
    },
    {
     "name": "stdout",
     "output_type": "stream",
     "text": [
      "torch.Size([768])\n",
      "torch.Size([768, 768])\n",
      "torch.Size([768])\n",
      "torch.Size([768, 768])\n",
      "torch.Size([768])\n",
      "torch.Size([768, 768])\n"
     ]
    },
    {
     "name": "stderr",
     "output_type": "stream",
     "text": [
      "\r",
      "Training: 49it [01:03,  1.30s/it]"
     ]
    },
    {
     "name": "stdout",
     "output_type": "stream",
     "text": [
      "torch.Size([768])\n",
      "torch.Size([768, 768])\n",
      "torch.Size([768])\n",
      "torch.Size([768, 768])\n",
      "torch.Size([768])\n",
      "torch.Size([768, 768])\n"
     ]
    },
    {
     "name": "stderr",
     "output_type": "stream",
     "text": [
      "\r",
      "Training: 50it [01:05,  1.30s/it]"
     ]
    },
    {
     "name": "stdout",
     "output_type": "stream",
     "text": [
      "torch.Size([768])\n",
      "torch.Size([768, 768])\n",
      "torch.Size([768])\n",
      "torch.Size([768, 768])\n",
      "torch.Size([768])\n",
      "torch.Size([768, 768])\n"
     ]
    },
    {
     "name": "stderr",
     "output_type": "stream",
     "text": [
      "\r",
      "Training: 51it [01:06,  1.26s/it]"
     ]
    },
    {
     "name": "stdout",
     "output_type": "stream",
     "text": [
      "torch.Size([768])\n",
      "torch.Size([768, 768])\n",
      "torch.Size([768])\n",
      "torch.Size([768, 768])\n",
      "torch.Size([768])\n",
      "torch.Size([768, 768])\n"
     ]
    },
    {
     "name": "stderr",
     "output_type": "stream",
     "text": [
      "\r",
      "Training: 52it [01:07,  1.27s/it]"
     ]
    },
    {
     "name": "stdout",
     "output_type": "stream",
     "text": [
      "torch.Size([768])\n",
      "torch.Size([768, 768])\n",
      "torch.Size([768])\n",
      "torch.Size([768, 768])\n",
      "torch.Size([768])\n",
      "torch.Size([768, 768])\n"
     ]
    },
    {
     "name": "stderr",
     "output_type": "stream",
     "text": [
      "\r",
      "Training: 53it [01:08,  1.27s/it]"
     ]
    },
    {
     "name": "stdout",
     "output_type": "stream",
     "text": [
      "torch.Size([768])\n",
      "torch.Size([768, 768])\n",
      "torch.Size([768])\n",
      "torch.Size([768, 768])\n",
      "torch.Size([768])\n",
      "torch.Size([768, 768])\n"
     ]
    },
    {
     "name": "stderr",
     "output_type": "stream",
     "text": [
      "\r",
      "Training: 54it [01:10,  1.27s/it]"
     ]
    },
    {
     "name": "stdout",
     "output_type": "stream",
     "text": [
      "torch.Size([768])\n",
      "torch.Size([768, 768])\n",
      "torch.Size([768])\n",
      "torch.Size([768, 768])\n",
      "torch.Size([768])\n",
      "torch.Size([768, 768])\n"
     ]
    },
    {
     "name": "stderr",
     "output_type": "stream",
     "text": [
      "\r",
      "Training: 55it [01:11,  1.24s/it]"
     ]
    },
    {
     "name": "stdout",
     "output_type": "stream",
     "text": [
      "torch.Size([768])\n",
      "torch.Size([768, 768])\n",
      "torch.Size([768])\n",
      "torch.Size([768, 768])\n",
      "torch.Size([768])\n",
      "torch.Size([768, 768])\n"
     ]
    },
    {
     "name": "stderr",
     "output_type": "stream",
     "text": [
      "\r",
      "Training: 56it [01:12,  1.23s/it]"
     ]
    },
    {
     "name": "stdout",
     "output_type": "stream",
     "text": [
      "torch.Size([768])\n",
      "torch.Size([768, 768])\n",
      "torch.Size([768])\n",
      "torch.Size([768, 768])\n",
      "torch.Size([768])\n",
      "torch.Size([768, 768])\n"
     ]
    },
    {
     "name": "stderr",
     "output_type": "stream",
     "text": [
      "Training: 57it [01:14,  1.30s/it]\n"
     ]
    },
    {
     "ename": "KeyboardInterrupt",
     "evalue": "",
     "output_type": "error",
     "traceback": [
      "\u001b[0;31m---------------------------------------------------------------------------\u001b[0m",
      "\u001b[0;31mKeyboardInterrupt\u001b[0m                         Traceback (most recent call last)",
      "Cell \u001b[0;32mIn[4], line 19\u001b[0m\n\u001b[1;32m     16\u001b[0m \u001b[38;5;66;03m####### HD Pipeline ##########\u001b[39;00m\n\u001b[1;32m     18\u001b[0m \u001b[38;5;28mprint\u001b[39m(\u001b[38;5;124m\"\u001b[39m\u001b[38;5;124mInitial Training\u001b[39m\u001b[38;5;124m\"\u001b[39m)\n\u001b[0;32m---> 19\u001b[0m \u001b[43mtrain\u001b[49m\u001b[43m(\u001b[49m\u001b[43mhd_model\u001b[49m\u001b[43m)\u001b[49m\n",
      "Cell \u001b[0;32mIn[3], line 7\u001b[0m, in \u001b[0;36mtrain\u001b[0;34m(hd_model)\u001b[0m\n\u001b[1;32m      3\u001b[0m \u001b[38;5;250m\u001b[39m\u001b[38;5;124;03m\"\"\" Initial training pass \"\"\"\u001b[39;00m\n\u001b[1;32m      5\u001b[0m \u001b[38;5;28mprint\u001b[39m(\u001b[38;5;124m\"\u001b[39m\u001b[38;5;130;01m\\n\u001b[39;00m\u001b[38;5;124mTrain First\u001b[39m\u001b[38;5;130;01m\\n\u001b[39;00m\u001b[38;5;124m\"\u001b[39m)\n\u001b[0;32m----> 7\u001b[0m \u001b[38;5;28;01mfor\u001b[39;00m it, batch \u001b[38;5;129;01min\u001b[39;00m tqdm(\u001b[38;5;28menumerate\u001b[39m(hd_model\u001b[38;5;241m.\u001b[39mtrain_loader), desc\u001b[38;5;241m=\u001b[39m\u001b[38;5;124m\"\u001b[39m\u001b[38;5;124mTraining\u001b[39m\u001b[38;5;124m\"\u001b[39m):\n\u001b[1;32m      9\u001b[0m     samples_hv, labels \u001b[38;5;241m=\u001b[39m hd_model\u001b[38;5;241m.\u001b[39msample_to_encode(it, batch, step_type\u001b[38;5;241m=\u001b[39m\u001b[38;5;124m\"\u001b[39m\u001b[38;5;124mtrain\u001b[39m\u001b[38;5;124m\"\u001b[39m)\n\u001b[1;32m     11\u001b[0m     \u001b[38;5;28;01mfor\u001b[39;00m b \u001b[38;5;129;01min\u001b[39;00m \u001b[38;5;28mrange\u001b[39m(\u001b[38;5;241m0\u001b[39m, samples_hv\u001b[38;5;241m.\u001b[39mshape[\u001b[38;5;241m0\u001b[39m], hd_model\u001b[38;5;241m.\u001b[39mpoint_per_iter):\n",
      "File \u001b[0;32m~/anaconda3/envs/env/lib/python3.8/site-packages/tqdm/std.py:1181\u001b[0m, in \u001b[0;36mtqdm.__iter__\u001b[0;34m(self)\u001b[0m\n\u001b[1;32m   1178\u001b[0m time \u001b[38;5;241m=\u001b[39m \u001b[38;5;28mself\u001b[39m\u001b[38;5;241m.\u001b[39m_time\n\u001b[1;32m   1180\u001b[0m \u001b[38;5;28;01mtry\u001b[39;00m:\n\u001b[0;32m-> 1181\u001b[0m     \u001b[38;5;28;01mfor\u001b[39;00m obj \u001b[38;5;129;01min\u001b[39;00m iterable:\n\u001b[1;32m   1182\u001b[0m         \u001b[38;5;28;01myield\u001b[39;00m obj\n\u001b[1;32m   1183\u001b[0m         \u001b[38;5;66;03m# Update and possibly print the progressbar.\u001b[39;00m\n\u001b[1;32m   1184\u001b[0m         \u001b[38;5;66;03m# Note: does not call self.update(1) for speed optimisation.\u001b[39;00m\n",
      "File \u001b[0;32m~/anaconda3/envs/env/lib/python3.8/site-packages/torch/utils/data/dataloader.py:652\u001b[0m, in \u001b[0;36m_BaseDataLoaderIter.__next__\u001b[0;34m(self)\u001b[0m\n\u001b[1;32m    649\u001b[0m \u001b[38;5;28;01mif\u001b[39;00m \u001b[38;5;28mself\u001b[39m\u001b[38;5;241m.\u001b[39m_sampler_iter \u001b[38;5;129;01mis\u001b[39;00m \u001b[38;5;28;01mNone\u001b[39;00m:\n\u001b[1;32m    650\u001b[0m     \u001b[38;5;66;03m# TODO(https://github.com/pytorch/pytorch/issues/76750)\u001b[39;00m\n\u001b[1;32m    651\u001b[0m     \u001b[38;5;28mself\u001b[39m\u001b[38;5;241m.\u001b[39m_reset()  \u001b[38;5;66;03m# type: ignore[call-arg]\u001b[39;00m\n\u001b[0;32m--> 652\u001b[0m data \u001b[38;5;241m=\u001b[39m \u001b[38;5;28;43mself\u001b[39;49m\u001b[38;5;241;43m.\u001b[39;49m\u001b[43m_next_data\u001b[49m\u001b[43m(\u001b[49m\u001b[43m)\u001b[49m\n\u001b[1;32m    653\u001b[0m \u001b[38;5;28mself\u001b[39m\u001b[38;5;241m.\u001b[39m_num_yielded \u001b[38;5;241m+\u001b[39m\u001b[38;5;241m=\u001b[39m \u001b[38;5;241m1\u001b[39m\n\u001b[1;32m    654\u001b[0m \u001b[38;5;28;01mif\u001b[39;00m \u001b[38;5;28mself\u001b[39m\u001b[38;5;241m.\u001b[39m_dataset_kind \u001b[38;5;241m==\u001b[39m _DatasetKind\u001b[38;5;241m.\u001b[39mIterable \u001b[38;5;129;01mand\u001b[39;00m \\\n\u001b[1;32m    655\u001b[0m         \u001b[38;5;28mself\u001b[39m\u001b[38;5;241m.\u001b[39m_IterableDataset_len_called \u001b[38;5;129;01mis\u001b[39;00m \u001b[38;5;129;01mnot\u001b[39;00m \u001b[38;5;28;01mNone\u001b[39;00m \u001b[38;5;129;01mand\u001b[39;00m \\\n\u001b[1;32m    656\u001b[0m         \u001b[38;5;28mself\u001b[39m\u001b[38;5;241m.\u001b[39m_num_yielded \u001b[38;5;241m>\u001b[39m \u001b[38;5;28mself\u001b[39m\u001b[38;5;241m.\u001b[39m_IterableDataset_len_called:\n",
      "File \u001b[0;32m~/anaconda3/envs/env/lib/python3.8/site-packages/torch/utils/data/dataloader.py:694\u001b[0m, in \u001b[0;36m_SingleProcessDataLoaderIter._next_data\u001b[0;34m(self)\u001b[0m\n\u001b[1;32m    692\u001b[0m data \u001b[38;5;241m=\u001b[39m \u001b[38;5;28mself\u001b[39m\u001b[38;5;241m.\u001b[39m_dataset_fetcher\u001b[38;5;241m.\u001b[39mfetch(index)  \u001b[38;5;66;03m# may raise StopIteration\u001b[39;00m\n\u001b[1;32m    693\u001b[0m \u001b[38;5;28;01mif\u001b[39;00m \u001b[38;5;28mself\u001b[39m\u001b[38;5;241m.\u001b[39m_pin_memory:\n\u001b[0;32m--> 694\u001b[0m     data \u001b[38;5;241m=\u001b[39m \u001b[43m_utils\u001b[49m\u001b[38;5;241;43m.\u001b[39;49m\u001b[43mpin_memory\u001b[49m\u001b[38;5;241;43m.\u001b[39;49m\u001b[43mpin_memory\u001b[49m\u001b[43m(\u001b[49m\u001b[43mdata\u001b[49m\u001b[43m,\u001b[49m\u001b[43m \u001b[49m\u001b[38;5;28;43mself\u001b[39;49m\u001b[38;5;241;43m.\u001b[39;49m\u001b[43m_pin_memory_device\u001b[49m\u001b[43m)\u001b[49m\n\u001b[1;32m    695\u001b[0m \u001b[38;5;28;01mreturn\u001b[39;00m data\n",
      "File \u001b[0;32m~/anaconda3/envs/env/lib/python3.8/site-packages/torch/utils/data/_utils/pin_memory.py:55\u001b[0m, in \u001b[0;36mpin_memory\u001b[0;34m(data, device)\u001b[0m\n\u001b[1;32m     53\u001b[0m \u001b[38;5;28;01melif\u001b[39;00m \u001b[38;5;28misinstance\u001b[39m(data, collections\u001b[38;5;241m.\u001b[39mabc\u001b[38;5;241m.\u001b[39mMapping):\n\u001b[1;32m     54\u001b[0m     \u001b[38;5;28;01mtry\u001b[39;00m:\n\u001b[0;32m---> 55\u001b[0m         \u001b[38;5;28;01mreturn\u001b[39;00m \u001b[38;5;28mtype\u001b[39m(data)({k: pin_memory(sample, device) \u001b[38;5;28;01mfor\u001b[39;00m k, sample \u001b[38;5;129;01min\u001b[39;00m data\u001b[38;5;241m.\u001b[39mitems()})  \u001b[38;5;66;03m# type: ignore[call-arg]\u001b[39;00m\n\u001b[1;32m     56\u001b[0m     \u001b[38;5;28;01mexcept\u001b[39;00m \u001b[38;5;167;01mTypeError\u001b[39;00m:\n\u001b[1;32m     57\u001b[0m         \u001b[38;5;66;03m# The mapping type may not support `__init__(iterable)`.\u001b[39;00m\n\u001b[1;32m     58\u001b[0m         \u001b[38;5;28;01mreturn\u001b[39;00m {k: pin_memory(sample, device) \u001b[38;5;28;01mfor\u001b[39;00m k, sample \u001b[38;5;129;01min\u001b[39;00m data\u001b[38;5;241m.\u001b[39mitems()}\n",
      "File \u001b[0;32m~/anaconda3/envs/env/lib/python3.8/site-packages/torch/utils/data/_utils/pin_memory.py:55\u001b[0m, in \u001b[0;36m<dictcomp>\u001b[0;34m(.0)\u001b[0m\n\u001b[1;32m     53\u001b[0m \u001b[38;5;28;01melif\u001b[39;00m \u001b[38;5;28misinstance\u001b[39m(data, collections\u001b[38;5;241m.\u001b[39mabc\u001b[38;5;241m.\u001b[39mMapping):\n\u001b[1;32m     54\u001b[0m     \u001b[38;5;28;01mtry\u001b[39;00m:\n\u001b[0;32m---> 55\u001b[0m         \u001b[38;5;28;01mreturn\u001b[39;00m \u001b[38;5;28mtype\u001b[39m(data)({k: \u001b[43mpin_memory\u001b[49m\u001b[43m(\u001b[49m\u001b[43msample\u001b[49m\u001b[43m,\u001b[49m\u001b[43m \u001b[49m\u001b[43mdevice\u001b[49m\u001b[43m)\u001b[49m \u001b[38;5;28;01mfor\u001b[39;00m k, sample \u001b[38;5;129;01min\u001b[39;00m data\u001b[38;5;241m.\u001b[39mitems()})  \u001b[38;5;66;03m# type: ignore[call-arg]\u001b[39;00m\n\u001b[1;32m     56\u001b[0m     \u001b[38;5;28;01mexcept\u001b[39;00m \u001b[38;5;167;01mTypeError\u001b[39;00m:\n\u001b[1;32m     57\u001b[0m         \u001b[38;5;66;03m# The mapping type may not support `__init__(iterable)`.\u001b[39;00m\n\u001b[1;32m     58\u001b[0m         \u001b[38;5;28;01mreturn\u001b[39;00m {k: pin_memory(sample, device) \u001b[38;5;28;01mfor\u001b[39;00m k, sample \u001b[38;5;129;01min\u001b[39;00m data\u001b[38;5;241m.\u001b[39mitems()}\n",
      "File \u001b[0;32m~/anaconda3/envs/env/lib/python3.8/site-packages/torch/utils/data/_utils/pin_memory.py:50\u001b[0m, in \u001b[0;36mpin_memory\u001b[0;34m(data, device)\u001b[0m\n\u001b[1;32m     48\u001b[0m \u001b[38;5;28;01mdef\u001b[39;00m\u001b[38;5;250m \u001b[39m\u001b[38;5;21mpin_memory\u001b[39m(data, device\u001b[38;5;241m=\u001b[39m\u001b[38;5;28;01mNone\u001b[39;00m):\n\u001b[1;32m     49\u001b[0m     \u001b[38;5;28;01mif\u001b[39;00m \u001b[38;5;28misinstance\u001b[39m(data, torch\u001b[38;5;241m.\u001b[39mTensor):\n\u001b[0;32m---> 50\u001b[0m         \u001b[38;5;28;01mreturn\u001b[39;00m \u001b[43mdata\u001b[49m\u001b[38;5;241;43m.\u001b[39;49m\u001b[43mpin_memory\u001b[49m\u001b[43m(\u001b[49m\u001b[43mdevice\u001b[49m\u001b[43m)\u001b[49m\n\u001b[1;32m     51\u001b[0m     \u001b[38;5;28;01melif\u001b[39;00m \u001b[38;5;28misinstance\u001b[39m(data, string_classes):\n\u001b[1;32m     52\u001b[0m         \u001b[38;5;28;01mreturn\u001b[39;00m data\n",
      "\u001b[0;31mKeyboardInterrupt\u001b[0m: "
     ]
    }
   ],
   "source": [
    "hd_model.set_compensation({24: 'linear_weights_24_0.75.pth', 36: 'linear_weights_36_ep_0.75.pth'} )\n",
    "\n",
    "if args.wandb_run:\n",
    "    run = wandb.init(\n",
    "        # Set the project where this run will be logged\n",
    "        project=\"scalr_hd\",\n",
    "        # Track hyperparameters and run metadata\n",
    "        config={\n",
    "            \"encoding\": \"Random Projection\",\n",
    "            \"hd_dim\": DIMENSIONS,\n",
    "            \"training_samples\":args.number_samples,\n",
    "        },\n",
    "        id=f\"{args.dataset}_training_layers_{args.layers}_norm_dim_{DIMENSIONS}_OFA_early_exit\",\n",
    "    )\n",
    "\n",
    "####### HD Pipeline ##########\n",
    "\n",
    "print(\"Initial Training\")\n",
    "train(hd_model)"
   ]
  },
  {
   "cell_type": "code",
   "execution_count": 5,
   "id": "738087c4",
   "metadata": {},
   "outputs": [
    {
     "name": "stdout",
     "output_type": "stream",
     "text": [
      "Testing\n"
     ]
    },
    {
     "name": "stderr",
     "output_type": "stream",
     "text": [
      "Validation:: 0it [00:00, ?it/s]/tmp/ipykernel_44729/1220565487.py:36: DeprecationWarning: torchhd.hard_quantize is deprecated, consider using torchhd.normalize instead.\n",
      "  return torchhd.hard_quantize(sample_hv)\n",
      "Validation:: 61it [01:12,  1.19s/it]"
     ]
    },
    {
     "name": "stdout",
     "output_type": "stream",
     "text": [
      "================================\n",
      "pred_hd tensor([14, 15, 15,  ...,  1,  8, 15], device='cuda:0') \tShape:  torch.Size([1010194])\n",
      "label tensor([14, 15, 15,  ..., 14,  2, 14], device='cuda:0') \tShape:  torch.Size([1010194])\n",
      "accuracy: tensor([0.1929, 0.0033, 0.6865, 0.6168, 0.3139, 0.1550, 0.2863, 0.0626, 0.1609,\n",
      "        0.4435, 0.7224, 0.1556, 0.3641, 0.4474, 0.6402, 0.6914],\n",
      "       device='cuda:0')\n",
      "avg acc: 0.3714262843132019\n",
      "================================\n"
     ]
    },
    {
     "name": "stderr",
     "output_type": "stream",
     "text": [
      "\n"
     ]
    }
   ],
   "source": [
    "print(\"Testing\")\n",
    "test_hd(hd_model)"
   ]
  },
  {
   "cell_type": "code",
   "execution_count": 6,
   "id": "ee12aa1a",
   "metadata": {
    "scrolled": true
   },
   "outputs": [
    {
     "name": "stderr",
     "output_type": "stream",
     "text": [
      "Epoch:   0%|                                                                                      | 0/1 [00:00<?, ?it/s]\n",
      "Retraining epoch 0: 0it [00:00, ?it/s]\u001b[A"
     ]
    },
    {
     "name": "stdout",
     "output_type": "stream",
     "text": [
      "torch.Size([768, 17291])\n"
     ]
    },
    {
     "name": "stderr",
     "output_type": "stream",
     "text": [
      "../aten/src/ATen/native/cuda/IndexKernel.cu:91: operator(): block: [52,0,0], thread: [0,0,0] Assertion `index >= -sizes[i] && index < sizes[i] && \"index out of bounds\"` failed.\n",
      "../aten/src/ATen/native/cuda/IndexKernel.cu:91: operator(): block: [52,0,0], thread: [1,0,0] Assertion `index >= -sizes[i] && index < sizes[i] && \"index out of bounds\"` failed.\n",
      "../aten/src/ATen/native/cuda/IndexKernel.cu:91: operator(): block: [52,0,0], thread: [2,0,0] Assertion `index >= -sizes[i] && index < sizes[i] && \"index out of bounds\"` failed.\n",
      "../aten/src/ATen/native/cuda/IndexKernel.cu:91: operator(): block: [52,0,0], thread: [3,0,0] Assertion `index >= -sizes[i] && index < sizes[i] && \"index out of bounds\"` failed.\n",
      "../aten/src/ATen/native/cuda/IndexKernel.cu:91: operator(): block: [52,0,0], thread: [4,0,0] Assertion `index >= -sizes[i] && index < sizes[i] && \"index out of bounds\"` failed.\n",
      "../aten/src/ATen/native/cuda/IndexKernel.cu:91: operator(): block: [52,0,0], thread: [5,0,0] Assertion `index >= -sizes[i] && index < sizes[i] && \"index out of bounds\"` failed.\n",
      "../aten/src/ATen/native/cuda/IndexKernel.cu:91: operator(): block: [52,0,0], thread: [6,0,0] Assertion `index >= -sizes[i] && index < sizes[i] && \"index out of bounds\"` failed.\n",
      "../aten/src/ATen/native/cuda/IndexKernel.cu:91: operator(): block: [52,0,0], thread: [7,0,0] Assertion `index >= -sizes[i] && index < sizes[i] && \"index out of bounds\"` failed.\n",
      "../aten/src/ATen/native/cuda/IndexKernel.cu:91: operator(): block: [52,0,0], thread: [8,0,0] Assertion `index >= -sizes[i] && index < sizes[i] && \"index out of bounds\"` failed.\n",
      "../aten/src/ATen/native/cuda/IndexKernel.cu:91: operator(): block: [52,0,0], thread: [9,0,0] Assertion `index >= -sizes[i] && index < sizes[i] && \"index out of bounds\"` failed.\n",
      "../aten/src/ATen/native/cuda/IndexKernel.cu:91: operator(): block: [52,0,0], thread: [10,0,0] Assertion `index >= -sizes[i] && index < sizes[i] && \"index out of bounds\"` failed.\n",
      "../aten/src/ATen/native/cuda/IndexKernel.cu:91: operator(): block: [52,0,0], thread: [11,0,0] Assertion `index >= -sizes[i] && index < sizes[i] && \"index out of bounds\"` failed.\n",
      "../aten/src/ATen/native/cuda/IndexKernel.cu:91: operator(): block: [52,0,0], thread: [12,0,0] Assertion `index >= -sizes[i] && index < sizes[i] && \"index out of bounds\"` failed.\n",
      "../aten/src/ATen/native/cuda/IndexKernel.cu:91: operator(): block: [52,0,0], thread: [13,0,0] Assertion `index >= -sizes[i] && index < sizes[i] && \"index out of bounds\"` failed.\n",
      "../aten/src/ATen/native/cuda/IndexKernel.cu:91: operator(): block: [52,0,0], thread: [14,0,0] Assertion `index >= -sizes[i] && index < sizes[i] && \"index out of bounds\"` failed.\n",
      "../aten/src/ATen/native/cuda/IndexKernel.cu:91: operator(): block: [52,0,0], thread: [15,0,0] Assertion `index >= -sizes[i] && index < sizes[i] && \"index out of bounds\"` failed.\n",
      "../aten/src/ATen/native/cuda/IndexKernel.cu:91: operator(): block: [52,0,0], thread: [16,0,0] Assertion `index >= -sizes[i] && index < sizes[i] && \"index out of bounds\"` failed.\n",
      "../aten/src/ATen/native/cuda/IndexKernel.cu:91: operator(): block: [52,0,0], thread: [17,0,0] Assertion `index >= -sizes[i] && index < sizes[i] && \"index out of bounds\"` failed.\n",
      "../aten/src/ATen/native/cuda/IndexKernel.cu:91: operator(): block: [52,0,0], thread: [18,0,0] Assertion `index >= -sizes[i] && index < sizes[i] && \"index out of bounds\"` failed.\n",
      "../aten/src/ATen/native/cuda/IndexKernel.cu:91: operator(): block: [52,0,0], thread: [19,0,0] Assertion `index >= -sizes[i] && index < sizes[i] && \"index out of bounds\"` failed.\n",
      "../aten/src/ATen/native/cuda/IndexKernel.cu:91: operator(): block: [52,0,0], thread: [20,0,0] Assertion `index >= -sizes[i] && index < sizes[i] && \"index out of bounds\"` failed.\n",
      "../aten/src/ATen/native/cuda/IndexKernel.cu:91: operator(): block: [52,0,0], thread: [21,0,0] Assertion `index >= -sizes[i] && index < sizes[i] && \"index out of bounds\"` failed.\n",
      "../aten/src/ATen/native/cuda/IndexKernel.cu:91: operator(): block: [52,0,0], thread: [22,0,0] Assertion `index >= -sizes[i] && index < sizes[i] && \"index out of bounds\"` failed.\n",
      "../aten/src/ATen/native/cuda/IndexKernel.cu:91: operator(): block: [52,0,0], thread: [23,0,0] Assertion `index >= -sizes[i] && index < sizes[i] && \"index out of bounds\"` failed.\n",
      "../aten/src/ATen/native/cuda/IndexKernel.cu:91: operator(): block: [52,0,0], thread: [24,0,0] Assertion `index >= -sizes[i] && index < sizes[i] && \"index out of bounds\"` failed.\n",
      "../aten/src/ATen/native/cuda/IndexKernel.cu:91: operator(): block: [52,0,0], thread: [25,0,0] Assertion `index >= -sizes[i] && index < sizes[i] && \"index out of bounds\"` failed.\n",
      "../aten/src/ATen/native/cuda/IndexKernel.cu:91: operator(): block: [52,0,0], thread: [26,0,0] Assertion `index >= -sizes[i] && index < sizes[i] && \"index out of bounds\"` failed.\n",
      "../aten/src/ATen/native/cuda/IndexKernel.cu:91: operator(): block: [52,0,0], thread: [27,0,0] Assertion `index >= -sizes[i] && index < sizes[i] && \"index out of bounds\"` failed.\n",
      "../aten/src/ATen/native/cuda/IndexKernel.cu:91: operator(): block: [52,0,0], thread: [28,0,0] Assertion `index >= -sizes[i] && index < sizes[i] && \"index out of bounds\"` failed.\n",
      "../aten/src/ATen/native/cuda/IndexKernel.cu:91: operator(): block: [52,0,0], thread: [29,0,0] Assertion `index >= -sizes[i] && index < sizes[i] && \"index out of bounds\"` failed.\n",
      "../aten/src/ATen/native/cuda/IndexKernel.cu:91: operator(): block: [52,0,0], thread: [30,0,0] Assertion `index >= -sizes[i] && index < sizes[i] && \"index out of bounds\"` failed.\n",
      "../aten/src/ATen/native/cuda/IndexKernel.cu:91: operator(): block: [52,0,0], thread: [31,0,0] Assertion `index >= -sizes[i] && index < sizes[i] && \"index out of bounds\"` failed.\n",
      "../aten/src/ATen/native/cuda/IndexKernel.cu:91: operator(): block: [134,0,0], thread: [0,0,0] Assertion `index >= -sizes[i] && index < sizes[i] && \"index out of bounds\"` failed.\n",
      "../aten/src/ATen/native/cuda/IndexKernel.cu:91: operator(): block: [134,0,0], thread: [1,0,0] Assertion `index >= -sizes[i] && index < sizes[i] && \"index out of bounds\"` failed.\n",
      "../aten/src/ATen/native/cuda/IndexKernel.cu:91: operator(): block: [134,0,0], thread: [2,0,0] Assertion `index >= -sizes[i] && index < sizes[i] && \"index out of bounds\"` failed.\n",
      "../aten/src/ATen/native/cuda/IndexKernel.cu:91: operator(): block: [134,0,0], thread: [3,0,0] Assertion `index >= -sizes[i] && index < sizes[i] && \"index out of bounds\"` failed.\n",
      "../aten/src/ATen/native/cuda/IndexKernel.cu:91: operator(): block: [134,0,0], thread: [4,0,0] Assertion `index >= -sizes[i] && index < sizes[i] && \"index out of bounds\"` failed.\n",
      "../aten/src/ATen/native/cuda/IndexKernel.cu:91: operator(): block: [134,0,0], thread: [5,0,0] Assertion `index >= -sizes[i] && index < sizes[i] && \"index out of bounds\"` failed.\n",
      "../aten/src/ATen/native/cuda/IndexKernel.cu:91: operator(): block: [134,0,0], thread: [6,0,0] Assertion `index >= -sizes[i] && index < sizes[i] && \"index out of bounds\"` failed.\n",
      "../aten/src/ATen/native/cuda/IndexKernel.cu:91: operator(): block: [134,0,0], thread: [7,0,0] Assertion `index >= -sizes[i] && index < sizes[i] && \"index out of bounds\"` failed.\n",
      "../aten/src/ATen/native/cuda/IndexKernel.cu:91: operator(): block: [134,0,0], thread: [8,0,0] Assertion `index >= -sizes[i] && index < sizes[i] && \"index out of bounds\"` failed.\n",
      "../aten/src/ATen/native/cuda/IndexKernel.cu:91: operator(): block: [134,0,0], thread: [9,0,0] Assertion `index >= -sizes[i] && index < sizes[i] && \"index out of bounds\"` failed.\n",
      "../aten/src/ATen/native/cuda/IndexKernel.cu:91: operator(): block: [134,0,0], thread: [10,0,0] Assertion `index >= -sizes[i] && index < sizes[i] && \"index out of bounds\"` failed.\n",
      "../aten/src/ATen/native/cuda/IndexKernel.cu:91: operator(): block: [134,0,0], thread: [11,0,0] Assertion `index >= -sizes[i] && index < sizes[i] && \"index out of bounds\"` failed.\n",
      "../aten/src/ATen/native/cuda/IndexKernel.cu:91: operator(): block: [134,0,0], thread: [12,0,0] Assertion `index >= -sizes[i] && index < sizes[i] && \"index out of bounds\"` failed.\n",
      "../aten/src/ATen/native/cuda/IndexKernel.cu:91: operator(): block: [134,0,0], thread: [13,0,0] Assertion `index >= -sizes[i] && index < sizes[i] && \"index out of bounds\"` failed.\n",
      "../aten/src/ATen/native/cuda/IndexKernel.cu:91: operator(): block: [134,0,0], thread: [14,0,0] Assertion `index >= -sizes[i] && index < sizes[i] && \"index out of bounds\"` failed.\n",
      "../aten/src/ATen/native/cuda/IndexKernel.cu:91: operator(): block: [134,0,0], thread: [15,0,0] Assertion `index >= -sizes[i] && index < sizes[i] && \"index out of bounds\"` failed.\n",
      "../aten/src/ATen/native/cuda/IndexKernel.cu:91: operator(): block: [134,0,0], thread: [16,0,0] Assertion `index >= -sizes[i] && index < sizes[i] && \"index out of bounds\"` failed.\n",
      "../aten/src/ATen/native/cuda/IndexKernel.cu:91: operator(): block: [134,0,0], thread: [17,0,0] Assertion `index >= -sizes[i] && index < sizes[i] && \"index out of bounds\"` failed.\n",
      "../aten/src/ATen/native/cuda/IndexKernel.cu:91: operator(): block: [134,0,0], thread: [18,0,0] Assertion `index >= -sizes[i] && index < sizes[i] && \"index out of bounds\"` failed.\n",
      "../aten/src/ATen/native/cuda/IndexKernel.cu:91: operator(): block: [134,0,0], thread: [19,0,0] Assertion `index >= -sizes[i] && index < sizes[i] && \"index out of bounds\"` failed.\n",
      "../aten/src/ATen/native/cuda/IndexKernel.cu:91: operator(): block: [134,0,0], thread: [20,0,0] Assertion `index >= -sizes[i] && index < sizes[i] && \"index out of bounds\"` failed.\n",
      "../aten/src/ATen/native/cuda/IndexKernel.cu:91: operator(): block: [134,0,0], thread: [21,0,0] Assertion `index >= -sizes[i] && index < sizes[i] && \"index out of bounds\"` failed.\n",
      "../aten/src/ATen/native/cuda/IndexKernel.cu:91: operator(): block: [134,0,0], thread: [22,0,0] Assertion `index >= -sizes[i] && index < sizes[i] && \"index out of bounds\"` failed.\n",
      "../aten/src/ATen/native/cuda/IndexKernel.cu:91: operator(): block: [134,0,0], thread: [23,0,0] Assertion `index >= -sizes[i] && index < sizes[i] && \"index out of bounds\"` failed.\n",
      "../aten/src/ATen/native/cuda/IndexKernel.cu:91: operator(): block: [134,0,0], thread: [24,0,0] Assertion `index >= -sizes[i] && index < sizes[i] && \"index out of bounds\"` failed.\n",
      "../aten/src/ATen/native/cuda/IndexKernel.cu:91: operator(): block: [134,0,0], thread: [25,0,0] Assertion `index >= -sizes[i] && index < sizes[i] && \"index out of bounds\"` failed.\n",
      "../aten/src/ATen/native/cuda/IndexKernel.cu:91: operator(): block: [134,0,0], thread: [26,0,0] Assertion `index >= -sizes[i] && index < sizes[i] && \"index out of bounds\"` failed.\n",
      "../aten/src/ATen/native/cuda/IndexKernel.cu:91: operator(): block: [134,0,0], thread: [27,0,0] Assertion `index >= -sizes[i] && index < sizes[i] && \"index out of bounds\"` failed.\n",
      "../aten/src/ATen/native/cuda/IndexKernel.cu:91: operator(): block: [134,0,0], thread: [28,0,0] Assertion `index >= -sizes[i] && index < sizes[i] && \"index out of bounds\"` failed.\n",
      "../aten/src/ATen/native/cuda/IndexKernel.cu:91: operator(): block: [134,0,0], thread: [29,0,0] Assertion `index >= -sizes[i] && index < sizes[i] && \"index out of bounds\"` failed.\n",
      "../aten/src/ATen/native/cuda/IndexKernel.cu:91: operator(): block: [134,0,0], thread: [30,0,0] Assertion `index >= -sizes[i] && index < sizes[i] && \"index out of bounds\"` failed.\n",
      "../aten/src/ATen/native/cuda/IndexKernel.cu:91: operator(): block: [134,0,0], thread: [31,0,0] Assertion `index >= -sizes[i] && index < sizes[i] && \"index out of bounds\"` failed.\n",
      "../aten/src/ATen/native/cuda/IndexKernel.cu:91: operator(): block: [15,0,0], thread: [32,0,0] Assertion `index >= -sizes[i] && index < sizes[i] && \"index out of bounds\"` failed.\n",
      "../aten/src/ATen/native/cuda/IndexKernel.cu:91: operator(): block: [15,0,0], thread: [33,0,0] Assertion `index >= -sizes[i] && index < sizes[i] && \"index out of bounds\"` failed.\n",
      "../aten/src/ATen/native/cuda/IndexKernel.cu:91: operator(): block: [15,0,0], thread: [34,0,0] Assertion `index >= -sizes[i] && index < sizes[i] && \"index out of bounds\"` failed.\n",
      "../aten/src/ATen/native/cuda/IndexKernel.cu:91: operator(): block: [15,0,0], thread: [35,0,0] Assertion `index >= -sizes[i] && index < sizes[i] && \"index out of bounds\"` failed.\n",
      "../aten/src/ATen/native/cuda/IndexKernel.cu:91: operator(): block: [15,0,0], thread: [36,0,0] Assertion `index >= -sizes[i] && index < sizes[i] && \"index out of bounds\"` failed.\n",
      "../aten/src/ATen/native/cuda/IndexKernel.cu:91: operator(): block: [15,0,0], thread: [37,0,0] Assertion `index >= -sizes[i] && index < sizes[i] && \"index out of bounds\"` failed.\n",
      "../aten/src/ATen/native/cuda/IndexKernel.cu:91: operator(): block: [15,0,0], thread: [38,0,0] Assertion `index >= -sizes[i] && index < sizes[i] && \"index out of bounds\"` failed.\n",
      "../aten/src/ATen/native/cuda/IndexKernel.cu:91: operator(): block: [15,0,0], thread: [39,0,0] Assertion `index >= -sizes[i] && index < sizes[i] && \"index out of bounds\"` failed.\n",
      "../aten/src/ATen/native/cuda/IndexKernel.cu:91: operator(): block: [15,0,0], thread: [40,0,0] Assertion `index >= -sizes[i] && index < sizes[i] && \"index out of bounds\"` failed.\n",
      "../aten/src/ATen/native/cuda/IndexKernel.cu:91: operator(): block: [15,0,0], thread: [41,0,0] Assertion `index >= -sizes[i] && index < sizes[i] && \"index out of bounds\"` failed.\n",
      "../aten/src/ATen/native/cuda/IndexKernel.cu:91: operator(): block: [15,0,0], thread: [42,0,0] Assertion `index >= -sizes[i] && index < sizes[i] && \"index out of bounds\"` failed.\n",
      "../aten/src/ATen/native/cuda/IndexKernel.cu:91: operator(): block: [15,0,0], thread: [43,0,0] Assertion `index >= -sizes[i] && index < sizes[i] && \"index out of bounds\"` failed.\n",
      "../aten/src/ATen/native/cuda/IndexKernel.cu:91: operator(): block: [15,0,0], thread: [44,0,0] Assertion `index >= -sizes[i] && index < sizes[i] && \"index out of bounds\"` failed.\n",
      "../aten/src/ATen/native/cuda/IndexKernel.cu:91: operator(): block: [15,0,0], thread: [45,0,0] Assertion `index >= -sizes[i] && index < sizes[i] && \"index out of bounds\"` failed.\n",
      "../aten/src/ATen/native/cuda/IndexKernel.cu:91: operator(): block: [15,0,0], thread: [46,0,0] Assertion `index >= -sizes[i] && index < sizes[i] && \"index out of bounds\"` failed.\n",
      "../aten/src/ATen/native/cuda/IndexKernel.cu:91: operator(): block: [15,0,0], thread: [47,0,0] Assertion `index >= -sizes[i] && index < sizes[i] && \"index out of bounds\"` failed.\n",
      "../aten/src/ATen/native/cuda/IndexKernel.cu:91: operator(): block: [15,0,0], thread: [48,0,0] Assertion `index >= -sizes[i] && index < sizes[i] && \"index out of bounds\"` failed.\n",
      "../aten/src/ATen/native/cuda/IndexKernel.cu:91: operator(): block: [15,0,0], thread: [49,0,0] Assertion `index >= -sizes[i] && index < sizes[i] && \"index out of bounds\"` failed.\n",
      "../aten/src/ATen/native/cuda/IndexKernel.cu:91: operator(): block: [15,0,0], thread: [50,0,0] Assertion `index >= -sizes[i] && index < sizes[i] && \"index out of bounds\"` failed.\n",
      "../aten/src/ATen/native/cuda/IndexKernel.cu:91: operator(): block: [15,0,0], thread: [51,0,0] Assertion `index >= -sizes[i] && index < sizes[i] && \"index out of bounds\"` failed.\n",
      "../aten/src/ATen/native/cuda/IndexKernel.cu:91: operator(): block: [15,0,0], thread: [52,0,0] Assertion `index >= -sizes[i] && index < sizes[i] && \"index out of bounds\"` failed.\n",
      "../aten/src/ATen/native/cuda/IndexKernel.cu:91: operator(): block: [15,0,0], thread: [53,0,0] Assertion `index >= -sizes[i] && index < sizes[i] && \"index out of bounds\"` failed.\n",
      "../aten/src/ATen/native/cuda/IndexKernel.cu:91: operator(): block: [15,0,0], thread: [54,0,0] Assertion `index >= -sizes[i] && index < sizes[i] && \"index out of bounds\"` failed.\n",
      "../aten/src/ATen/native/cuda/IndexKernel.cu:91: operator(): block: [15,0,0], thread: [55,0,0] Assertion `index >= -sizes[i] && index < sizes[i] && \"index out of bounds\"` failed.\n",
      "../aten/src/ATen/native/cuda/IndexKernel.cu:91: operator(): block: [15,0,0], thread: [56,0,0] Assertion `index >= -sizes[i] && index < sizes[i] && \"index out of bounds\"` failed.\n",
      "../aten/src/ATen/native/cuda/IndexKernel.cu:91: operator(): block: [15,0,0], thread: [57,0,0] Assertion `index >= -sizes[i] && index < sizes[i] && \"index out of bounds\"` failed.\n",
      "../aten/src/ATen/native/cuda/IndexKernel.cu:91: operator(): block: [15,0,0], thread: [58,0,0] Assertion `index >= -sizes[i] && index < sizes[i] && \"index out of bounds\"` failed.\n",
      "../aten/src/ATen/native/cuda/IndexKernel.cu:91: operator(): block: [15,0,0], thread: [59,0,0] Assertion `index >= -sizes[i] && index < sizes[i] && \"index out of bounds\"` failed.\n",
      "../aten/src/ATen/native/cuda/IndexKernel.cu:91: operator(): block: [15,0,0], thread: [60,0,0] Assertion `index >= -sizes[i] && index < sizes[i] && \"index out of bounds\"` failed.\n",
      "../aten/src/ATen/native/cuda/IndexKernel.cu:91: operator(): block: [15,0,0], thread: [61,0,0] Assertion `index >= -sizes[i] && index < sizes[i] && \"index out of bounds\"` failed.\n",
      "../aten/src/ATen/native/cuda/IndexKernel.cu:91: operator(): block: [15,0,0], thread: [62,0,0] Assertion `index >= -sizes[i] && index < sizes[i] && \"index out of bounds\"` failed.\n",
      "../aten/src/ATen/native/cuda/IndexKernel.cu:91: operator(): block: [15,0,0], thread: [63,0,0] Assertion `index >= -sizes[i] && index < sizes[i] && \"index out of bounds\"` failed.\n",
      "../aten/src/ATen/native/cuda/IndexKernel.cu:91: operator(): block: [10,0,0], thread: [0,0,0] Assertion `index >= -sizes[i] && index < sizes[i] && \"index out of bounds\"` failed.\n",
      "../aten/src/ATen/native/cuda/IndexKernel.cu:91: operator(): block: [10,0,0], thread: [1,0,0] Assertion `index >= -sizes[i] && index < sizes[i] && \"index out of bounds\"` failed.\n",
      "../aten/src/ATen/native/cuda/IndexKernel.cu:91: operator(): block: [10,0,0], thread: [2,0,0] Assertion `index >= -sizes[i] && index < sizes[i] && \"index out of bounds\"` failed.\n",
      "../aten/src/ATen/native/cuda/IndexKernel.cu:91: operator(): block: [10,0,0], thread: [3,0,0] Assertion `index >= -sizes[i] && index < sizes[i] && \"index out of bounds\"` failed.\n",
      "../aten/src/ATen/native/cuda/IndexKernel.cu:91: operator(): block: [10,0,0], thread: [4,0,0] Assertion `index >= -sizes[i] && index < sizes[i] && \"index out of bounds\"` failed.\n",
      "../aten/src/ATen/native/cuda/IndexKernel.cu:91: operator(): block: [10,0,0], thread: [5,0,0] Assertion `index >= -sizes[i] && index < sizes[i] && \"index out of bounds\"` failed.\n",
      "../aten/src/ATen/native/cuda/IndexKernel.cu:91: operator(): block: [10,0,0], thread: [6,0,0] Assertion `index >= -sizes[i] && index < sizes[i] && \"index out of bounds\"` failed.\n",
      "../aten/src/ATen/native/cuda/IndexKernel.cu:91: operator(): block: [10,0,0], thread: [7,0,0] Assertion `index >= -sizes[i] && index < sizes[i] && \"index out of bounds\"` failed.\n",
      "../aten/src/ATen/native/cuda/IndexKernel.cu:91: operator(): block: [10,0,0], thread: [8,0,0] Assertion `index >= -sizes[i] && index < sizes[i] && \"index out of bounds\"` failed.\n",
      "../aten/src/ATen/native/cuda/IndexKernel.cu:91: operator(): block: [10,0,0], thread: [9,0,0] Assertion `index >= -sizes[i] && index < sizes[i] && \"index out of bounds\"` failed.\n",
      "../aten/src/ATen/native/cuda/IndexKernel.cu:91: operator(): block: [10,0,0], thread: [10,0,0] Assertion `index >= -sizes[i] && index < sizes[i] && \"index out of bounds\"` failed.\n",
      "../aten/src/ATen/native/cuda/IndexKernel.cu:91: operator(): block: [10,0,0], thread: [11,0,0] Assertion `index >= -sizes[i] && index < sizes[i] && \"index out of bounds\"` failed.\n",
      "../aten/src/ATen/native/cuda/IndexKernel.cu:91: operator(): block: [10,0,0], thread: [12,0,0] Assertion `index >= -sizes[i] && index < sizes[i] && \"index out of bounds\"` failed.\n",
      "../aten/src/ATen/native/cuda/IndexKernel.cu:91: operator(): block: [10,0,0], thread: [13,0,0] Assertion `index >= -sizes[i] && index < sizes[i] && \"index out of bounds\"` failed.\n",
      "../aten/src/ATen/native/cuda/IndexKernel.cu:91: operator(): block: [10,0,0], thread: [14,0,0] Assertion `index >= -sizes[i] && index < sizes[i] && \"index out of bounds\"` failed.\n",
      "../aten/src/ATen/native/cuda/IndexKernel.cu:91: operator(): block: [10,0,0], thread: [15,0,0] Assertion `index >= -sizes[i] && index < sizes[i] && \"index out of bounds\"` failed.\n",
      "../aten/src/ATen/native/cuda/IndexKernel.cu:91: operator(): block: [10,0,0], thread: [16,0,0] Assertion `index >= -sizes[i] && index < sizes[i] && \"index out of bounds\"` failed.\n",
      "../aten/src/ATen/native/cuda/IndexKernel.cu:91: operator(): block: [10,0,0], thread: [17,0,0] Assertion `index >= -sizes[i] && index < sizes[i] && \"index out of bounds\"` failed.\n",
      "../aten/src/ATen/native/cuda/IndexKernel.cu:91: operator(): block: [10,0,0], thread: [18,0,0] Assertion `index >= -sizes[i] && index < sizes[i] && \"index out of bounds\"` failed.\n",
      "../aten/src/ATen/native/cuda/IndexKernel.cu:91: operator(): block: [10,0,0], thread: [19,0,0] Assertion `index >= -sizes[i] && index < sizes[i] && \"index out of bounds\"` failed.\n",
      "../aten/src/ATen/native/cuda/IndexKernel.cu:91: operator(): block: [10,0,0], thread: [20,0,0] Assertion `index >= -sizes[i] && index < sizes[i] && \"index out of bounds\"` failed.\n",
      "../aten/src/ATen/native/cuda/IndexKernel.cu:91: operator(): block: [10,0,0], thread: [21,0,0] Assertion `index >= -sizes[i] && index < sizes[i] && \"index out of bounds\"` failed.\n",
      "../aten/src/ATen/native/cuda/IndexKernel.cu:91: operator(): block: [10,0,0], thread: [22,0,0] Assertion `index >= -sizes[i] && index < sizes[i] && \"index out of bounds\"` failed.\n",
      "../aten/src/ATen/native/cuda/IndexKernel.cu:91: operator(): block: [10,0,0], thread: [23,0,0] Assertion `index >= -sizes[i] && index < sizes[i] && \"index out of bounds\"` failed.\n",
      "../aten/src/ATen/native/cuda/IndexKernel.cu:91: operator(): block: [10,0,0], thread: [24,0,0] Assertion `index >= -sizes[i] && index < sizes[i] && \"index out of bounds\"` failed.\n",
      "../aten/src/ATen/native/cuda/IndexKernel.cu:91: operator(): block: [10,0,0], thread: [25,0,0] Assertion `index >= -sizes[i] && index < sizes[i] && \"index out of bounds\"` failed.\n",
      "../aten/src/ATen/native/cuda/IndexKernel.cu:91: operator(): block: [10,0,0], thread: [26,0,0] Assertion `index >= -sizes[i] && index < sizes[i] && \"index out of bounds\"` failed.\n",
      "../aten/src/ATen/native/cuda/IndexKernel.cu:91: operator(): block: [10,0,0], thread: [27,0,0] Assertion `index >= -sizes[i] && index < sizes[i] && \"index out of bounds\"` failed.\n",
      "../aten/src/ATen/native/cuda/IndexKernel.cu:91: operator(): block: [10,0,0], thread: [28,0,0] Assertion `index >= -sizes[i] && index < sizes[i] && \"index out of bounds\"` failed.\n",
      "../aten/src/ATen/native/cuda/IndexKernel.cu:91: operator(): block: [10,0,0], thread: [29,0,0] Assertion `index >= -sizes[i] && index < sizes[i] && \"index out of bounds\"` failed.\n",
      "../aten/src/ATen/native/cuda/IndexKernel.cu:91: operator(): block: [10,0,0], thread: [30,0,0] Assertion `index >= -sizes[i] && index < sizes[i] && \"index out of bounds\"` failed.\n",
      "../aten/src/ATen/native/cuda/IndexKernel.cu:91: operator(): block: [10,0,0], thread: [31,0,0] Assertion `index >= -sizes[i] && index < sizes[i] && \"index out of bounds\"` failed.\n"
     ]
    },
    {
     "name": "stderr",
     "output_type": "stream",
     "text": [
      "Retraining epoch 0: 0it [00:00, ?it/s]\n",
      "Epoch:   0%|                                                                                      | 0/1 [00:00<?, ?it/s]\n"
     ]
    },
    {
     "ename": "RuntimeError",
     "evalue": "CUDA error: device-side assert triggered\nCUDA kernel errors might be asynchronously reported at some other API call,so the stacktrace below might be incorrect.\nFor debugging consider passing CUDA_LAUNCH_BLOCKING=1.",
     "output_type": "error",
     "traceback": [
      "\u001b[0;31m---------------------------------------------------------------------------\u001b[0m",
      "\u001b[0;31mRuntimeError\u001b[0m                              Traceback (most recent call last)",
      "Cell \u001b[0;32mIn[6], line 1\u001b[0m\n\u001b[0;32m----> 1\u001b[0m num_wrong \u001b[38;5;241m=\u001b[39m \u001b[43mretrain\u001b[49m\u001b[43m(\u001b[49m\u001b[43mhd_model\u001b[49m\u001b[43m,\u001b[49m\u001b[43m \u001b[49m\u001b[43mepochs\u001b[49m\u001b[38;5;241;43m=\u001b[39;49m\u001b[38;5;241;43m1\u001b[39;49m\u001b[43m)\u001b[49m\n",
      "Cell \u001b[0;32mIn[3], line 50\u001b[0m, in \u001b[0;36mretrain\u001b[0;34m(hd_model, epochs)\u001b[0m\n\u001b[1;32m     46\u001b[0m num_wrong \u001b[38;5;241m=\u001b[39m []\n\u001b[1;32m     48\u001b[0m \u001b[38;5;28;01mfor\u001b[39;00m it, batch \u001b[38;5;129;01min\u001b[39;00m tqdm(\u001b[38;5;28menumerate\u001b[39m(hd_model\u001b[38;5;241m.\u001b[39mtrain_loader), desc\u001b[38;5;241m=\u001b[39m\u001b[38;5;124mf\u001b[39m\u001b[38;5;124m\"\u001b[39m\u001b[38;5;124mRetraining epoch \u001b[39m\u001b[38;5;132;01m{\u001b[39;00me\u001b[38;5;132;01m}\u001b[39;00m\u001b[38;5;124m\"\u001b[39m):\n\u001b[0;32m---> 50\u001b[0m     samples_hv, labels \u001b[38;5;241m=\u001b[39m \u001b[43mhd_model\u001b[49m\u001b[38;5;241;43m.\u001b[39;49m\u001b[43msample_to_encode\u001b[49m\u001b[43m(\u001b[49m\u001b[43mit\u001b[49m\u001b[43m,\u001b[49m\u001b[43m \u001b[49m\u001b[43mbatch\u001b[49m\u001b[43m,\u001b[49m\u001b[43m \u001b[49m\u001b[43mstep_type\u001b[49m\u001b[38;5;241;43m=\u001b[39;49m\u001b[38;5;124;43m\"\u001b[39;49m\u001b[38;5;124;43mretrain\u001b[39;49m\u001b[38;5;124;43m\"\u001b[39;49m\u001b[43m)\u001b[49m\n\u001b[1;32m     51\u001b[0m     is_wrong_count \u001b[38;5;241m=\u001b[39m \u001b[38;5;241m0\u001b[39m\n\u001b[1;32m     52\u001b[0m     \u001b[38;5;28;01mfor\u001b[39;00m b \u001b[38;5;129;01min\u001b[39;00m \u001b[38;5;28mrange\u001b[39m(\u001b[38;5;241m0\u001b[39m, samples_hv\u001b[38;5;241m.\u001b[39mshape[\u001b[38;5;241m0\u001b[39m], hd_model\u001b[38;5;241m.\u001b[39mpoint_per_iter):\n",
      "Cell \u001b[0;32mIn[1], line 257\u001b[0m, in \u001b[0;36mHD_Model.sample_to_encode\u001b[0;34m(self, it, batch, step_type)\u001b[0m\n\u001b[1;32m    256\u001b[0m \u001b[38;5;28;01mdef\u001b[39;00m\u001b[38;5;250m \u001b[39m\u001b[38;5;21msample_to_encode\u001b[39m(\u001b[38;5;28mself\u001b[39m, it, batch, step_type\u001b[38;5;241m=\u001b[39m\u001b[38;5;124m\"\u001b[39m\u001b[38;5;124mtrain\u001b[39m\u001b[38;5;124m\"\u001b[39m):\n\u001b[0;32m--> 257\u001b[0m     features, labels, soa_result, exit_layer \u001b[38;5;241m=\u001b[39m \u001b[38;5;28;43mself\u001b[39;49m\u001b[38;5;241;43m.\u001b[39;49m\u001b[43mfeature_extractor\u001b[49m\u001b[38;5;241;43m.\u001b[39;49m\u001b[43mforward_model\u001b[49m\u001b[43m(\u001b[49m\u001b[43mit\u001b[49m\u001b[43m,\u001b[49m\u001b[43m \u001b[49m\u001b[43mbatch\u001b[49m\u001b[43m,\u001b[49m\u001b[43m \u001b[49m\u001b[43mstep_type\u001b[49m\u001b[38;5;241;43m=\u001b[39;49m\u001b[43mstep_type\u001b[49m\u001b[43m)\u001b[49m \u001b[38;5;66;03m# Everything for what hasn't been dropped\u001b[39;00m\n\u001b[1;32m    258\u001b[0m     features \u001b[38;5;241m=\u001b[39m torch\u001b[38;5;241m.\u001b[39mtranspose(features, \u001b[38;5;241m0\u001b[39m, \u001b[38;5;241m1\u001b[39m)\u001b[38;5;241m.\u001b[39mto(dtype\u001b[38;5;241m=\u001b[39mtorch\u001b[38;5;241m.\u001b[39mfloat32, device \u001b[38;5;241m=\u001b[39m \u001b[38;5;28mself\u001b[39m\u001b[38;5;241m.\u001b[39mdevice, non_blocking\u001b[38;5;241m=\u001b[39m\u001b[38;5;28;01mTrue\u001b[39;00m)\n\u001b[1;32m    259\u001b[0m     labels \u001b[38;5;241m=\u001b[39m labels\u001b[38;5;241m.\u001b[39mto(dtype\u001b[38;5;241m=\u001b[39mtorch\u001b[38;5;241m.\u001b[39mint64, device \u001b[38;5;241m=\u001b[39m \u001b[38;5;28mself\u001b[39m\u001b[38;5;241m.\u001b[39mdevice, non_blocking\u001b[38;5;241m=\u001b[39m\u001b[38;5;28;01mTrue\u001b[39;00m)\n",
      "Cell \u001b[0;32mIn[1], line 132\u001b[0m, in \u001b[0;36mFeature_Extractor.forward_model\u001b[0;34m(self, it, batch, step_type)\u001b[0m\n\u001b[1;32m    129\u001b[0m \u001b[38;5;28;01mwith\u001b[39;00m torch\u001b[38;5;241m.\u001b[39mautocast(\u001b[38;5;124m\"\u001b[39m\u001b[38;5;124mcuda\u001b[39m\u001b[38;5;124m\"\u001b[39m, enabled\u001b[38;5;241m=\u001b[39m\u001b[38;5;28;01mTrue\u001b[39;00m):\n\u001b[1;32m    130\u001b[0m     \u001b[38;5;66;03m# Logits\u001b[39;00m\n\u001b[1;32m    131\u001b[0m     \u001b[38;5;28;01mwith\u001b[39;00m torch\u001b[38;5;241m.\u001b[39mno_grad():\n\u001b[0;32m--> 132\u001b[0m         out \u001b[38;5;241m=\u001b[39m \u001b[38;5;28;43mself\u001b[39;49m\u001b[38;5;241;43m.\u001b[39;49m\u001b[43mmodel\u001b[49m\u001b[43m(\u001b[49m\u001b[38;5;241;43m*\u001b[39;49m\u001b[43mnet_inputs\u001b[49m\u001b[43m,\u001b[49m\u001b[43m \u001b[49m\u001b[43mstep_type\u001b[49m\u001b[43m)\u001b[49m\n\u001b[1;32m    133\u001b[0m         encode, tokens, out, exit_layer \u001b[38;5;241m=\u001b[39m out[\u001b[38;5;241m0\u001b[39m], out[\u001b[38;5;241m1\u001b[39m], out[\u001b[38;5;241m2\u001b[39m], out[\u001b[38;5;241m3\u001b[39m]\n\u001b[1;32m    134\u001b[0m         pred_label \u001b[38;5;241m=\u001b[39m out\u001b[38;5;241m.\u001b[39mmax(\u001b[38;5;241m1\u001b[39m)[\u001b[38;5;241m1\u001b[39m]\n",
      "File \u001b[0;32m~/anaconda3/envs/env/lib/python3.8/site-packages/torch/nn/modules/module.py:1130\u001b[0m, in \u001b[0;36mModule._call_impl\u001b[0;34m(self, *input, **kwargs)\u001b[0m\n\u001b[1;32m   1126\u001b[0m \u001b[38;5;66;03m# If we don't have any hooks, we want to skip the rest of the logic in\u001b[39;00m\n\u001b[1;32m   1127\u001b[0m \u001b[38;5;66;03m# this function, and just call forward.\u001b[39;00m\n\u001b[1;32m   1128\u001b[0m \u001b[38;5;28;01mif\u001b[39;00m \u001b[38;5;129;01mnot\u001b[39;00m (\u001b[38;5;28mself\u001b[39m\u001b[38;5;241m.\u001b[39m_backward_hooks \u001b[38;5;129;01mor\u001b[39;00m \u001b[38;5;28mself\u001b[39m\u001b[38;5;241m.\u001b[39m_forward_hooks \u001b[38;5;129;01mor\u001b[39;00m \u001b[38;5;28mself\u001b[39m\u001b[38;5;241m.\u001b[39m_forward_pre_hooks \u001b[38;5;129;01mor\u001b[39;00m _global_backward_hooks\n\u001b[1;32m   1129\u001b[0m         \u001b[38;5;129;01mor\u001b[39;00m _global_forward_hooks \u001b[38;5;129;01mor\u001b[39;00m _global_forward_pre_hooks):\n\u001b[0;32m-> 1130\u001b[0m     \u001b[38;5;28;01mreturn\u001b[39;00m \u001b[43mforward_call\u001b[49m\u001b[43m(\u001b[49m\u001b[38;5;241;43m*\u001b[39;49m\u001b[38;5;28;43minput\u001b[39;49m\u001b[43m,\u001b[49m\u001b[43m \u001b[49m\u001b[38;5;241;43m*\u001b[39;49m\u001b[38;5;241;43m*\u001b[39;49m\u001b[43mkwargs\u001b[49m\u001b[43m)\u001b[49m\n\u001b[1;32m   1131\u001b[0m \u001b[38;5;66;03m# Do not call functions when jit is used\u001b[39;00m\n\u001b[1;32m   1132\u001b[0m full_backward_hooks, non_full_backward_hooks \u001b[38;5;241m=\u001b[39m [], []\n",
      "File \u001b[0;32m/home/HyperLiDAR/models/waffleiron/segmenter.py:49\u001b[0m, in \u001b[0;36mSegmenter.forward\u001b[0;34m(self, feats, cell_ind, occupied_cell, neighbors, step_type)\u001b[0m\n\u001b[1;32m     47\u001b[0m tokens_1 \u001b[38;5;241m=\u001b[39m \u001b[38;5;28mself\u001b[39m\u001b[38;5;241m.\u001b[39membed(feats, neighbors) \u001b[38;5;66;03m# radius can change based on the local density \u001b[39;00m\n\u001b[1;32m     48\u001b[0m \u001b[38;5;66;03m# Node classification -> self and its neighbors\u001b[39;00m\n\u001b[0;32m---> 49\u001b[0m tokens, exit_layer \u001b[38;5;241m=\u001b[39m \u001b[38;5;28;43mself\u001b[39;49m\u001b[38;5;241;43m.\u001b[39;49m\u001b[43mwaffleiron\u001b[49m\u001b[43m(\u001b[49m\u001b[43mtokens_1\u001b[49m\u001b[43m,\u001b[49m\u001b[43m \u001b[49m\u001b[43mcell_ind\u001b[49m\u001b[43m,\u001b[49m\u001b[43m \u001b[49m\u001b[43moccupied_cell\u001b[49m\u001b[43m,\u001b[49m\u001b[43m \u001b[49m\u001b[43mstep_type\u001b[49m\u001b[43m)\u001b[49m\n\u001b[1;32m     51\u001b[0m \u001b[38;5;66;03m#if all_features:\u001b[39;00m\n\u001b[1;32m     52\u001b[0m \u001b[38;5;66;03m#    return tokens_1, tokens, self.classif(tokens[-1])\u001b[39;00m\n\u001b[1;32m     53\u001b[0m \u001b[38;5;66;03m#else:\u001b[39;00m\n\u001b[1;32m     54\u001b[0m \u001b[38;5;28;01mreturn\u001b[39;00m tokens_1, tokens, \u001b[38;5;28mself\u001b[39m\u001b[38;5;241m.\u001b[39mclassif(tokens), exit_layer\n",
      "File \u001b[0;32m~/anaconda3/envs/env/lib/python3.8/site-packages/torch/nn/modules/module.py:1130\u001b[0m, in \u001b[0;36mModule._call_impl\u001b[0;34m(self, *input, **kwargs)\u001b[0m\n\u001b[1;32m   1126\u001b[0m \u001b[38;5;66;03m# If we don't have any hooks, we want to skip the rest of the logic in\u001b[39;00m\n\u001b[1;32m   1127\u001b[0m \u001b[38;5;66;03m# this function, and just call forward.\u001b[39;00m\n\u001b[1;32m   1128\u001b[0m \u001b[38;5;28;01mif\u001b[39;00m \u001b[38;5;129;01mnot\u001b[39;00m (\u001b[38;5;28mself\u001b[39m\u001b[38;5;241m.\u001b[39m_backward_hooks \u001b[38;5;129;01mor\u001b[39;00m \u001b[38;5;28mself\u001b[39m\u001b[38;5;241m.\u001b[39m_forward_hooks \u001b[38;5;129;01mor\u001b[39;00m \u001b[38;5;28mself\u001b[39m\u001b[38;5;241m.\u001b[39m_forward_pre_hooks \u001b[38;5;129;01mor\u001b[39;00m _global_backward_hooks\n\u001b[1;32m   1129\u001b[0m         \u001b[38;5;129;01mor\u001b[39;00m _global_forward_hooks \u001b[38;5;129;01mor\u001b[39;00m _global_forward_pre_hooks):\n\u001b[0;32m-> 1130\u001b[0m     \u001b[38;5;28;01mreturn\u001b[39;00m \u001b[43mforward_call\u001b[49m\u001b[43m(\u001b[49m\u001b[38;5;241;43m*\u001b[39;49m\u001b[38;5;28;43minput\u001b[39;49m\u001b[43m,\u001b[49m\u001b[43m \u001b[49m\u001b[38;5;241;43m*\u001b[39;49m\u001b[38;5;241;43m*\u001b[39;49m\u001b[43mkwargs\u001b[49m\u001b[43m)\u001b[49m\n\u001b[1;32m   1131\u001b[0m \u001b[38;5;66;03m# Do not call functions when jit is used\u001b[39;00m\n\u001b[1;32m   1132\u001b[0m full_backward_hooks, non_full_backward_hooks \u001b[38;5;241m=\u001b[39m [], []\n",
      "File \u001b[0;32m/home/HyperLiDAR/models/waffleiron/backbone.py:255\u001b[0m, in \u001b[0;36mWaffleIron.forward\u001b[0;34m(self, tokens, cell_ind, occupied_cell, step_type)\u001b[0m\n\u001b[1;32m    252\u001b[0m         prev_gram \u001b[38;5;241m=\u001b[39m gram_current\n\u001b[1;32m    254\u001b[0m     tokens \u001b[38;5;241m=\u001b[39m smix(tokens, \u001b[38;5;28mself\u001b[39m\u001b[38;5;241m.\u001b[39msp_mat[d \u001b[38;5;241m%\u001b[39m \u001b[38;5;28mlen\u001b[39m(\u001b[38;5;28mself\u001b[39m\u001b[38;5;241m.\u001b[39msp_mat)])\n\u001b[0;32m--> 255\u001b[0m     tokens \u001b[38;5;241m=\u001b[39m \u001b[43mcmix\u001b[49m\u001b[43m(\u001b[49m\u001b[43mtokens\u001b[49m\u001b[43m)\u001b[49m\n\u001b[1;32m    256\u001b[0m     \u001b[38;5;66;03m#print(tokens.shape)\u001b[39;00m\n\u001b[1;32m    257\u001b[0m \u001b[38;5;66;03m#tokens = F.normalize(tokens)\u001b[39;00m\n\u001b[1;32m    258\u001b[0m \u001b[38;5;28;01mreturn\u001b[39;00m tokens, d\n",
      "File \u001b[0;32m~/anaconda3/envs/env/lib/python3.8/site-packages/torch/nn/modules/module.py:1130\u001b[0m, in \u001b[0;36mModule._call_impl\u001b[0;34m(self, *input, **kwargs)\u001b[0m\n\u001b[1;32m   1126\u001b[0m \u001b[38;5;66;03m# If we don't have any hooks, we want to skip the rest of the logic in\u001b[39;00m\n\u001b[1;32m   1127\u001b[0m \u001b[38;5;66;03m# this function, and just call forward.\u001b[39;00m\n\u001b[1;32m   1128\u001b[0m \u001b[38;5;28;01mif\u001b[39;00m \u001b[38;5;129;01mnot\u001b[39;00m (\u001b[38;5;28mself\u001b[39m\u001b[38;5;241m.\u001b[39m_backward_hooks \u001b[38;5;129;01mor\u001b[39;00m \u001b[38;5;28mself\u001b[39m\u001b[38;5;241m.\u001b[39m_forward_hooks \u001b[38;5;129;01mor\u001b[39;00m \u001b[38;5;28mself\u001b[39m\u001b[38;5;241m.\u001b[39m_forward_pre_hooks \u001b[38;5;129;01mor\u001b[39;00m _global_backward_hooks\n\u001b[1;32m   1129\u001b[0m         \u001b[38;5;129;01mor\u001b[39;00m _global_forward_hooks \u001b[38;5;129;01mor\u001b[39;00m _global_forward_pre_hooks):\n\u001b[0;32m-> 1130\u001b[0m     \u001b[38;5;28;01mreturn\u001b[39;00m \u001b[43mforward_call\u001b[49m\u001b[43m(\u001b[49m\u001b[38;5;241;43m*\u001b[39;49m\u001b[38;5;28;43minput\u001b[39;49m\u001b[43m,\u001b[49m\u001b[43m \u001b[49m\u001b[38;5;241;43m*\u001b[39;49m\u001b[38;5;241;43m*\u001b[39;49m\u001b[43mkwargs\u001b[49m\u001b[43m)\u001b[49m\n\u001b[1;32m   1131\u001b[0m \u001b[38;5;66;03m# Do not call functions when jit is used\u001b[39;00m\n\u001b[1;32m   1132\u001b[0m full_backward_hooks, non_full_backward_hooks \u001b[38;5;241m=\u001b[39m [], []\n",
      "File \u001b[0;32m/home/HyperLiDAR/models/waffleiron/backbone.py:115\u001b[0m, in \u001b[0;36mChannelMix.forward\u001b[0;34m(self, tokens)\u001b[0m\n\u001b[1;32m    113\u001b[0m     \u001b[38;5;28;01mreturn\u001b[39;00m tokens \u001b[38;5;241m+\u001b[39m \u001b[38;5;28mself\u001b[39m\u001b[38;5;241m.\u001b[39mdrop_path(\u001b[38;5;28mself\u001b[39m\u001b[38;5;241m.\u001b[39mmlp(tokens))\n\u001b[1;32m    114\u001b[0m \u001b[38;5;28;01melse\u001b[39;00m:\n\u001b[0;32m--> 115\u001b[0m     \u001b[38;5;28;01mreturn\u001b[39;00m tokens \u001b[38;5;241m+\u001b[39m \u001b[38;5;28mself\u001b[39m\u001b[38;5;241m.\u001b[39mdrop_path(\u001b[38;5;28mself\u001b[39m\u001b[38;5;241m.\u001b[39mscale(\u001b[38;5;28mself\u001b[39m\u001b[38;5;241m.\u001b[39mmlp(\u001b[38;5;28;43mself\u001b[39;49m\u001b[38;5;241;43m.\u001b[39;49m\u001b[43mnorm\u001b[49m\u001b[43m(\u001b[49m\u001b[43mtokens\u001b[49m\u001b[43m)\u001b[49m)))\n",
      "File \u001b[0;32m~/anaconda3/envs/env/lib/python3.8/site-packages/torch/nn/modules/module.py:1130\u001b[0m, in \u001b[0;36mModule._call_impl\u001b[0;34m(self, *input, **kwargs)\u001b[0m\n\u001b[1;32m   1126\u001b[0m \u001b[38;5;66;03m# If we don't have any hooks, we want to skip the rest of the logic in\u001b[39;00m\n\u001b[1;32m   1127\u001b[0m \u001b[38;5;66;03m# this function, and just call forward.\u001b[39;00m\n\u001b[1;32m   1128\u001b[0m \u001b[38;5;28;01mif\u001b[39;00m \u001b[38;5;129;01mnot\u001b[39;00m (\u001b[38;5;28mself\u001b[39m\u001b[38;5;241m.\u001b[39m_backward_hooks \u001b[38;5;129;01mor\u001b[39;00m \u001b[38;5;28mself\u001b[39m\u001b[38;5;241m.\u001b[39m_forward_hooks \u001b[38;5;129;01mor\u001b[39;00m \u001b[38;5;28mself\u001b[39m\u001b[38;5;241m.\u001b[39m_forward_pre_hooks \u001b[38;5;129;01mor\u001b[39;00m _global_backward_hooks\n\u001b[1;32m   1129\u001b[0m         \u001b[38;5;129;01mor\u001b[39;00m _global_forward_hooks \u001b[38;5;129;01mor\u001b[39;00m _global_forward_pre_hooks):\n\u001b[0;32m-> 1130\u001b[0m     \u001b[38;5;28;01mreturn\u001b[39;00m \u001b[43mforward_call\u001b[49m\u001b[43m(\u001b[49m\u001b[38;5;241;43m*\u001b[39;49m\u001b[38;5;28;43minput\u001b[39;49m\u001b[43m,\u001b[49m\u001b[43m \u001b[49m\u001b[38;5;241;43m*\u001b[39;49m\u001b[38;5;241;43m*\u001b[39;49m\u001b[43mkwargs\u001b[49m\u001b[43m)\u001b[49m\n\u001b[1;32m   1131\u001b[0m \u001b[38;5;66;03m# Do not call functions when jit is used\u001b[39;00m\n\u001b[1;32m   1132\u001b[0m full_backward_hooks, non_full_backward_hooks \u001b[38;5;241m=\u001b[39m [], []\n",
      "File \u001b[0;32m/home/HyperLiDAR/models/waffleiron/backbone.py:37\u001b[0m, in \u001b[0;36mmyLayerNorm.forward\u001b[0;34m(self, x)\u001b[0m\n\u001b[1;32m     36\u001b[0m \u001b[38;5;28;01mdef\u001b[39;00m\u001b[38;5;250m \u001b[39m\u001b[38;5;21mforward\u001b[39m(\u001b[38;5;28mself\u001b[39m, x):\n\u001b[0;32m---> 37\u001b[0m     \u001b[38;5;28;01mreturn\u001b[39;00m \u001b[38;5;28;43msuper\u001b[39;49m\u001b[43m(\u001b[49m\u001b[43m)\u001b[49m\u001b[38;5;241;43m.\u001b[39;49m\u001b[43mforward\u001b[49m\u001b[43m(\u001b[49m\u001b[43mx\u001b[49m\u001b[38;5;241;43m.\u001b[39;49m\u001b[43mtranspose\u001b[49m\u001b[43m(\u001b[49m\u001b[38;5;241;43m1\u001b[39;49m\u001b[43m,\u001b[49m\u001b[43m \u001b[49m\u001b[38;5;241;43m-\u001b[39;49m\u001b[38;5;241;43m1\u001b[39;49m\u001b[43m)\u001b[49m\u001b[43m)\u001b[49m\u001b[38;5;241m.\u001b[39mtranspose(\u001b[38;5;241m1\u001b[39m, \u001b[38;5;241m-\u001b[39m\u001b[38;5;241m1\u001b[39m)\n",
      "File \u001b[0;32m~/anaconda3/envs/env/lib/python3.8/site-packages/torch/nn/modules/normalization.py:189\u001b[0m, in \u001b[0;36mLayerNorm.forward\u001b[0;34m(self, input)\u001b[0m\n\u001b[1;32m    188\u001b[0m \u001b[38;5;28;01mdef\u001b[39;00m\u001b[38;5;250m \u001b[39m\u001b[38;5;21mforward\u001b[39m(\u001b[38;5;28mself\u001b[39m, \u001b[38;5;28minput\u001b[39m: Tensor) \u001b[38;5;241m-\u001b[39m\u001b[38;5;241m>\u001b[39m Tensor:\n\u001b[0;32m--> 189\u001b[0m     \u001b[38;5;28;01mreturn\u001b[39;00m \u001b[43mF\u001b[49m\u001b[38;5;241;43m.\u001b[39;49m\u001b[43mlayer_norm\u001b[49m\u001b[43m(\u001b[49m\n\u001b[1;32m    190\u001b[0m \u001b[43m        \u001b[49m\u001b[38;5;28;43minput\u001b[39;49m\u001b[43m,\u001b[49m\u001b[43m \u001b[49m\u001b[38;5;28;43mself\u001b[39;49m\u001b[38;5;241;43m.\u001b[39;49m\u001b[43mnormalized_shape\u001b[49m\u001b[43m,\u001b[49m\u001b[43m \u001b[49m\u001b[38;5;28;43mself\u001b[39;49m\u001b[38;5;241;43m.\u001b[39;49m\u001b[43mweight\u001b[49m\u001b[43m,\u001b[49m\u001b[43m \u001b[49m\u001b[38;5;28;43mself\u001b[39;49m\u001b[38;5;241;43m.\u001b[39;49m\u001b[43mbias\u001b[49m\u001b[43m,\u001b[49m\u001b[43m \u001b[49m\u001b[38;5;28;43mself\u001b[39;49m\u001b[38;5;241;43m.\u001b[39;49m\u001b[43meps\u001b[49m\u001b[43m)\u001b[49m\n",
      "File \u001b[0;32m~/anaconda3/envs/env/lib/python3.8/site-packages/torch/nn/functional.py:2503\u001b[0m, in \u001b[0;36mlayer_norm\u001b[0;34m(input, normalized_shape, weight, bias, eps)\u001b[0m\n\u001b[1;32m   2499\u001b[0m \u001b[38;5;28;01mif\u001b[39;00m has_torch_function_variadic(\u001b[38;5;28minput\u001b[39m, weight, bias):\n\u001b[1;32m   2500\u001b[0m     \u001b[38;5;28;01mreturn\u001b[39;00m handle_torch_function(\n\u001b[1;32m   2501\u001b[0m         layer_norm, (\u001b[38;5;28minput\u001b[39m, weight, bias), \u001b[38;5;28minput\u001b[39m, normalized_shape, weight\u001b[38;5;241m=\u001b[39mweight, bias\u001b[38;5;241m=\u001b[39mbias, eps\u001b[38;5;241m=\u001b[39meps\n\u001b[1;32m   2502\u001b[0m     )\n\u001b[0;32m-> 2503\u001b[0m \u001b[38;5;28;01mreturn\u001b[39;00m \u001b[43mtorch\u001b[49m\u001b[38;5;241;43m.\u001b[39;49m\u001b[43mlayer_norm\u001b[49m\u001b[43m(\u001b[49m\u001b[38;5;28;43minput\u001b[39;49m\u001b[43m,\u001b[49m\u001b[43m \u001b[49m\u001b[43mnormalized_shape\u001b[49m\u001b[43m,\u001b[49m\u001b[43m \u001b[49m\u001b[43mweight\u001b[49m\u001b[43m,\u001b[49m\u001b[43m \u001b[49m\u001b[43mbias\u001b[49m\u001b[43m,\u001b[49m\u001b[43m \u001b[49m\u001b[43meps\u001b[49m\u001b[43m,\u001b[49m\u001b[43m \u001b[49m\u001b[43mtorch\u001b[49m\u001b[38;5;241;43m.\u001b[39;49m\u001b[43mbackends\u001b[49m\u001b[38;5;241;43m.\u001b[39;49m\u001b[43mcudnn\u001b[49m\u001b[38;5;241;43m.\u001b[39;49m\u001b[43menabled\u001b[49m\u001b[43m)\u001b[49m\n",
      "\u001b[0;31mRuntimeError\u001b[0m: CUDA error: device-side assert triggered\nCUDA kernel errors might be asynchronously reported at some other API call,so the stacktrace below might be incorrect.\nFor debugging consider passing CUDA_LAUNCH_BLOCKING=1."
     ]
    }
   ],
   "source": [
    "num_wrong = retrain(hd_model, epochs=1)"
   ]
  },
  {
   "cell_type": "code",
   "execution_count": 58,
   "id": "a9ab39e8",
   "metadata": {},
   "outputs": [
    {
     "data": {
      "text/plain": [
       "[MAPTensor(1349, device='cuda:0'),\n",
       " MAPTensor(1357, device='cuda:0'),\n",
       " MAPTensor(583, device='cuda:0'),\n",
       " MAPTensor(1707, device='cuda:0'),\n",
       " MAPTensor(1174, device='cuda:0'),\n",
       " MAPTensor(1055, device='cuda:0'),\n",
       " MAPTensor(1275, device='cuda:0'),\n",
       " MAPTensor(1370, device='cuda:0'),\n",
       " MAPTensor(1221, device='cuda:0'),\n",
       " MAPTensor(737, device='cuda:0'),\n",
       " MAPTensor(326, device='cuda:0'),\n",
       " MAPTensor(581, device='cuda:0'),\n",
       " MAPTensor(1353, device='cuda:0'),\n",
       " MAPTensor(358, device='cuda:0'),\n",
       " MAPTensor(956, device='cuda:0'),\n",
       " MAPTensor(302, device='cuda:0'),\n",
       " MAPTensor(248, device='cuda:0'),\n",
       " MAPTensor(423, device='cuda:0'),\n",
       " MAPTensor(1744, device='cuda:0'),\n",
       " MAPTensor(419, device='cuda:0'),\n",
       " MAPTensor(1436, device='cuda:0'),\n",
       " MAPTensor(1063, device='cuda:0'),\n",
       " MAPTensor(2065, device='cuda:0'),\n",
       " MAPTensor(1324, device='cuda:0'),\n",
       " MAPTensor(1838, device='cuda:0'),\n",
       " MAPTensor(833, device='cuda:0'),\n",
       " MAPTensor(1361, device='cuda:0'),\n",
       " MAPTensor(453, device='cuda:0'),\n",
       " MAPTensor(352, device='cuda:0'),\n",
       " MAPTensor(1306, device='cuda:0'),\n",
       " MAPTensor(998, device='cuda:0'),\n",
       " MAPTensor(578, device='cuda:0'),\n",
       " MAPTensor(936, device='cuda:0'),\n",
       " MAPTensor(424, device='cuda:0'),\n",
       " MAPTensor(317, device='cuda:0'),\n",
       " MAPTensor(1076, device='cuda:0'),\n",
       " MAPTensor(794, device='cuda:0'),\n",
       " MAPTensor(1675, device='cuda:0'),\n",
       " MAPTensor(983, device='cuda:0'),\n",
       " MAPTensor(298, device='cuda:0'),\n",
       " MAPTensor(273, device='cuda:0'),\n",
       " MAPTensor(229, device='cuda:0'),\n",
       " MAPTensor(1110, device='cuda:0'),\n",
       " MAPTensor(530, device='cuda:0'),\n",
       " MAPTensor(1019, device='cuda:0'),\n",
       " MAPTensor(779, device='cuda:0'),\n",
       " MAPTensor(1043, device='cuda:0'),\n",
       " MAPTensor(306, device='cuda:0'),\n",
       " MAPTensor(1005, device='cuda:0'),\n",
       " MAPTensor(1073, device='cuda:0'),\n",
       " MAPTensor(1681, device='cuda:0'),\n",
       " MAPTensor(311, device='cuda:0'),\n",
       " MAPTensor(1233, device='cuda:0'),\n",
       " MAPTensor(344, device='cuda:0'),\n",
       " MAPTensor(1331, device='cuda:0'),\n",
       " MAPTensor(932, device='cuda:0'),\n",
       " MAPTensor(1230, device='cuda:0'),\n",
       " MAPTensor(1719, device='cuda:0'),\n",
       " MAPTensor(1020, device='cuda:0'),\n",
       " MAPTensor(302, device='cuda:0'),\n",
       " MAPTensor(744, device='cuda:0'),\n",
       " MAPTensor(710, device='cuda:0'),\n",
       " MAPTensor(504, device='cuda:0'),\n",
       " MAPTensor(1029, device='cuda:0'),\n",
       " MAPTensor(1111, device='cuda:0'),\n",
       " MAPTensor(952, device='cuda:0'),\n",
       " MAPTensor(1255, device='cuda:0'),\n",
       " MAPTensor(324, device='cuda:0'),\n",
       " MAPTensor(990, device='cuda:0'),\n",
       " MAPTensor(644, device='cuda:0'),\n",
       " MAPTensor(1986, device='cuda:0'),\n",
       " MAPTensor(288, device='cuda:0'),\n",
       " MAPTensor(469, device='cuda:0'),\n",
       " MAPTensor(1346, device='cuda:0'),\n",
       " MAPTensor(1030, device='cuda:0'),\n",
       " MAPTensor(788, device='cuda:0'),\n",
       " MAPTensor(958, device='cuda:0'),\n",
       " MAPTensor(732, device='cuda:0'),\n",
       " MAPTensor(1093, device='cuda:0'),\n",
       " MAPTensor(1210, device='cuda:0'),\n",
       " MAPTensor(299, device='cuda:0'),\n",
       " MAPTensor(270, device='cuda:0'),\n",
       " MAPTensor(1101, device='cuda:0'),\n",
       " MAPTensor(1450, device='cuda:0'),\n",
       " MAPTensor(1217, device='cuda:0'),\n",
       " MAPTensor(1166, device='cuda:0'),\n",
       " MAPTensor(1112, device='cuda:0'),\n",
       " MAPTensor(381, device='cuda:0'),\n",
       " MAPTensor(326, device='cuda:0'),\n",
       " MAPTensor(1233, device='cuda:0'),\n",
       " MAPTensor(1354, device='cuda:0'),\n",
       " MAPTensor(1846, device='cuda:0'),\n",
       " MAPTensor(266, device='cuda:0'),\n",
       " MAPTensor(1065, device='cuda:0'),\n",
       " MAPTensor(1159, device='cuda:0'),\n",
       " MAPTensor(659, device='cuda:0'),\n",
       " MAPTensor(306, device='cuda:0'),\n",
       " MAPTensor(1088, device='cuda:0'),\n",
       " MAPTensor(1207, device='cuda:0'),\n",
       " MAPTensor(771, device='cuda:0'),\n",
       " MAPTensor(318, device='cuda:0'),\n",
       " MAPTensor(263, device='cuda:0'),\n",
       " MAPTensor(1378, device='cuda:0'),\n",
       " MAPTensor(943, device='cuda:0'),\n",
       " MAPTensor(1316, device='cuda:0'),\n",
       " MAPTensor(851, device='cuda:0'),\n",
       " MAPTensor(1238, device='cuda:0'),\n",
       " MAPTensor(674, device='cuda:0'),\n",
       " MAPTensor(253, device='cuda:0'),\n",
       " MAPTensor(1125, device='cuda:0'),\n",
       " MAPTensor(548, device='cuda:0'),\n",
       " MAPTensor(1002, device='cuda:0'),\n",
       " MAPTensor(1047, device='cuda:0'),\n",
       " MAPTensor(743, device='cuda:0'),\n",
       " MAPTensor(929, device='cuda:0'),\n",
       " MAPTensor(880, device='cuda:0'),\n",
       " MAPTensor(604, device='cuda:0'),\n",
       " MAPTensor(1154, device='cuda:0'),\n",
       " MAPTensor(1037, device='cuda:0'),\n",
       " MAPTensor(1047, device='cuda:0'),\n",
       " MAPTensor(1623, device='cuda:0'),\n",
       " MAPTensor(1036, device='cuda:0'),\n",
       " MAPTensor(381, device='cuda:0'),\n",
       " MAPTensor(909, device='cuda:0'),\n",
       " MAPTensor(381, device='cuda:0'),\n",
       " MAPTensor(580, device='cuda:0'),\n",
       " MAPTensor(1610, device='cuda:0'),\n",
       " MAPTensor(705, device='cuda:0'),\n",
       " MAPTensor(1245, device='cuda:0'),\n",
       " MAPTensor(346, device='cuda:0'),\n",
       " MAPTensor(991, device='cuda:0'),\n",
       " MAPTensor(1907, device='cuda:0'),\n",
       " MAPTensor(1330, device='cuda:0'),\n",
       " MAPTensor(994, device='cuda:0'),\n",
       " MAPTensor(945, device='cuda:0'),\n",
       " MAPTensor(1113, device='cuda:0'),\n",
       " MAPTensor(1185, device='cuda:0'),\n",
       " MAPTensor(505, device='cuda:0'),\n",
       " MAPTensor(1031, device='cuda:0'),\n",
       " MAPTensor(713, device='cuda:0'),\n",
       " MAPTensor(1137, device='cuda:0'),\n",
       " MAPTensor(579, device='cuda:0'),\n",
       " MAPTensor(1233, device='cuda:0'),\n",
       " MAPTensor(608, device='cuda:0'),\n",
       " MAPTensor(879, device='cuda:0'),\n",
       " MAPTensor(1744, device='cuda:0'),\n",
       " MAPTensor(1033, device='cuda:0'),\n",
       " MAPTensor(955, device='cuda:0'),\n",
       " MAPTensor(298, device='cuda:0'),\n",
       " MAPTensor(1405, device='cuda:0'),\n",
       " MAPTensor(1089, device='cuda:0'),\n",
       " MAPTensor(1329, device='cuda:0'),\n",
       " MAPTensor(1022, device='cuda:0'),\n",
       " MAPTensor(485, device='cuda:0'),\n",
       " MAPTensor(821, device='cuda:0'),\n",
       " MAPTensor(1091, device='cuda:0'),\n",
       " MAPTensor(1278, device='cuda:0'),\n",
       " MAPTensor(1028, device='cuda:0'),\n",
       " MAPTensor(1118, device='cuda:0'),\n",
       " MAPTensor(563, device='cuda:0'),\n",
       " MAPTensor(1054, device='cuda:0'),\n",
       " MAPTensor(1016, device='cuda:0'),\n",
       " MAPTensor(1463, device='cuda:0'),\n",
       " MAPTensor(1377, device='cuda:0'),\n",
       " MAPTensor(1301, device='cuda:0'),\n",
       " MAPTensor(1451, device='cuda:0'),\n",
       " MAPTensor(1858, device='cuda:0'),\n",
       " MAPTensor(991, device='cuda:0'),\n",
       " MAPTensor(1527, device='cuda:0'),\n",
       " MAPTensor(1376, device='cuda:0'),\n",
       " MAPTensor(833, device='cuda:0'),\n",
       " MAPTensor(875, device='cuda:0'),\n",
       " MAPTensor(1034, device='cuda:0'),\n",
       " MAPTensor(1237, device='cuda:0'),\n",
       " MAPTensor(1090, device='cuda:0'),\n",
       " MAPTensor(1197, device='cuda:0'),\n",
       " MAPTensor(716, device='cuda:0'),\n",
       " MAPTensor(1302, device='cuda:0'),\n",
       " MAPTensor(1428, device='cuda:0'),\n",
       " MAPTensor(1656, device='cuda:0'),\n",
       " MAPTensor(1088, device='cuda:0'),\n",
       " MAPTensor(1275, device='cuda:0'),\n",
       " MAPTensor(937, device='cuda:0'),\n",
       " MAPTensor(762, device='cuda:0'),\n",
       " MAPTensor(1279, device='cuda:0'),\n",
       " MAPTensor(781, device='cuda:0'),\n",
       " MAPTensor(1050, device='cuda:0'),\n",
       " MAPTensor(1485, device='cuda:0'),\n",
       " MAPTensor(352, device='cuda:0'),\n",
       " MAPTensor(298, device='cuda:0'),\n",
       " MAPTensor(356, device='cuda:0'),\n",
       " MAPTensor(1718, device='cuda:0'),\n",
       " MAPTensor(664, device='cuda:0'),\n",
       " MAPTensor(491, device='cuda:0'),\n",
       " MAPTensor(1014, device='cuda:0'),\n",
       " MAPTensor(1072, device='cuda:0'),\n",
       " MAPTensor(613, device='cuda:0'),\n",
       " MAPTensor(805, device='cuda:0'),\n",
       " MAPTensor(808, device='cuda:0'),\n",
       " MAPTensor(745, device='cuda:0'),\n",
       " MAPTensor(1355, device='cuda:0'),\n",
       " MAPTensor(1089, device='cuda:0'),\n",
       " MAPTensor(1063, device='cuda:0'),\n",
       " MAPTensor(318, device='cuda:0'),\n",
       " MAPTensor(258, device='cuda:0'),\n",
       " MAPTensor(614, device='cuda:0'),\n",
       " MAPTensor(1390, device='cuda:0'),\n",
       " MAPTensor(779, device='cuda:0'),\n",
       " MAPTensor(1562, device='cuda:0'),\n",
       " MAPTensor(1472, device='cuda:0'),\n",
       " MAPTensor(814, device='cuda:0'),\n",
       " MAPTensor(964, device='cuda:0'),\n",
       " MAPTensor(1672, device='cuda:0'),\n",
       " MAPTensor(803, device='cuda:0'),\n",
       " MAPTensor(1286, device='cuda:0'),\n",
       " MAPTensor(1104, device='cuda:0'),\n",
       " MAPTensor(357, device='cuda:0'),\n",
       " MAPTensor(847, device='cuda:0'),\n",
       " MAPTensor(804, device='cuda:0'),\n",
       " MAPTensor(1456, device='cuda:0'),\n",
       " MAPTensor(1103, device='cuda:0'),\n",
       " MAPTensor(892, device='cuda:0'),\n",
       " MAPTensor(1137, device='cuda:0'),\n",
       " MAPTensor(614, device='cuda:0'),\n",
       " MAPTensor(279, device='cuda:0'),\n",
       " MAPTensor(829, device='cuda:0'),\n",
       " MAPTensor(1408, device='cuda:0'),\n",
       " MAPTensor(1400, device='cuda:0'),\n",
       " MAPTensor(1591, device='cuda:0'),\n",
       " MAPTensor(983, device='cuda:0'),\n",
       " MAPTensor(657, device='cuda:0'),\n",
       " MAPTensor(385, device='cuda:0'),\n",
       " MAPTensor(510, device='cuda:0'),\n",
       " MAPTensor(1380, device='cuda:0'),\n",
       " MAPTensor(1067, device='cuda:0'),\n",
       " MAPTensor(310, device='cuda:0'),\n",
       " MAPTensor(1609, device='cuda:0'),\n",
       " MAPTensor(1523, device='cuda:0'),\n",
       " MAPTensor(1020, device='cuda:0'),\n",
       " MAPTensor(363, device='cuda:0'),\n",
       " MAPTensor(1027, device='cuda:0'),\n",
       " MAPTensor(1125, device='cuda:0'),\n",
       " MAPTensor(1538, device='cuda:0'),\n",
       " MAPTensor(1809, device='cuda:0'),\n",
       " MAPTensor(1013, device='cuda:0'),\n",
       " MAPTensor(1114, device='cuda:0'),\n",
       " MAPTensor(987, device='cuda:0'),\n",
       " MAPTensor(658, device='cuda:0'),\n",
       " MAPTensor(1064, device='cuda:0'),\n",
       " MAPTensor(1653, device='cuda:0'),\n",
       " MAPTensor(960, device='cuda:0'),\n",
       " MAPTensor(1559, device='cuda:0'),\n",
       " MAPTensor(305, device='cuda:0'),\n",
       " MAPTensor(1004, device='cuda:0'),\n",
       " MAPTensor(1078, device='cuda:0'),\n",
       " MAPTensor(1216, device='cuda:0'),\n",
       " MAPTensor(1223, device='cuda:0'),\n",
       " MAPTensor(685, device='cuda:0'),\n",
       " MAPTensor(1424, device='cuda:0'),\n",
       " MAPTensor(1260, device='cuda:0'),\n",
       " MAPTensor(1974, device='cuda:0'),\n",
       " MAPTensor(1338, device='cuda:0'),\n",
       " MAPTensor(1365, device='cuda:0'),\n",
       " MAPTensor(2047, device='cuda:0'),\n",
       " MAPTensor(1573, device='cuda:0'),\n",
       " MAPTensor(999, device='cuda:0'),\n",
       " MAPTensor(1273, device='cuda:0'),\n",
       " MAPTensor(1004, device='cuda:0'),\n",
       " MAPTensor(1276, device='cuda:0'),\n",
       " MAPTensor(1536, device='cuda:0'),\n",
       " MAPTensor(964, device='cuda:0'),\n",
       " MAPTensor(1995, device='cuda:0'),\n",
       " MAPTensor(343, device='cuda:0'),\n",
       " MAPTensor(1667, device='cuda:0'),\n",
       " MAPTensor(327, device='cuda:0'),\n",
       " MAPTensor(1590, device='cuda:0'),\n",
       " MAPTensor(1777, device='cuda:0'),\n",
       " MAPTensor(1453, device='cuda:0'),\n",
       " MAPTensor(1213, device='cuda:0'),\n",
       " MAPTensor(428, device='cuda:0'),\n",
       " MAPTensor(1018, device='cuda:0'),\n",
       " MAPTensor(1018, device='cuda:0')]"
      ]
     },
     "execution_count": 58,
     "metadata": {},
     "output_type": "execute_result"
    }
   ],
   "source": [
    "num_wrong"
   ]
  },
  {
   "cell_type": "code",
   "execution_count": 59,
   "id": "3848acca",
   "metadata": {},
   "outputs": [
    {
     "name": "stdout",
     "output_type": "stream",
     "text": [
      "(282,)\n"
     ]
    }
   ],
   "source": [
    "num_wrong_parse = np.array([int(i.cpu()) for i in num_wrong])\n",
    "print(num_wrong_parse.shape)"
   ]
  },
  {
   "cell_type": "code",
   "execution_count": 42,
   "id": "73e442a5",
   "metadata": {},
   "outputs": [
    {
     "data": {
      "text/plain": [
       "564"
      ]
     },
     "execution_count": 42,
     "metadata": {},
     "output_type": "execute_result"
    }
   ],
   "source": [
    "len(hd_model.feature_extractor.model.waffleiron.cka_losses[24])"
   ]
  },
  {
   "cell_type": "code",
   "execution_count": 23,
   "id": "76a0b296",
   "metadata": {},
   "outputs": [
    {
     "name": "stdout",
     "output_type": "stream",
     "text": [
      "min:  tensor(0.4104, device='cuda:0', dtype=torch.float64)\n",
      "max:  tensor(0.5086, device='cuda:0', dtype=torch.float64)\n",
      "std:  0.020707216622319693\n",
      "mean:  0.4650592169123385\n"
     ]
    }
   ],
   "source": [
    "cka_24 = hd_model.feature_extractor.model.waffleiron.cka_losses[24]\n",
    "print(\"min: \", min(cka_24))\n",
    "print(\"max: \", max(cka_24))\n",
    "np_cka_24 = np.array([i.cpu() for i in cka_24])\n",
    "print(\"std: \", np.std(np_cka_24))\n",
    "print(\"mean: \", np.mean(np_cka_24))"
   ]
  },
  {
   "cell_type": "code",
   "execution_count": 24,
   "id": "d70bfb57",
   "metadata": {},
   "outputs": [
    {
     "name": "stdout",
     "output_type": "stream",
     "text": [
      "(282,)\n"
     ]
    },
    {
     "data": {
      "image/png": "[encoded data removed]",
      "text/plain": [
       "<Figure size 640x480 with 1 Axes>"
      ]
     },
     "metadata": {},
     "output_type": "display_data"
    }
   ],
   "source": [
    "import matplotlib.pyplot as plt\n",
    "import numpy as np\n",
    "\n",
    "# Generate sample data\n",
    "data = np_cka_24\n",
    "print(data.shape)\n",
    "\n",
    "# Create a histogram\n",
    "plt.hist(data, bins=30, density=True, alpha=0.6, color='g')\n",
    "plt.xlabel('Value')\n",
    "plt.ylabel('Frequency')\n",
    "plt.title('Distribution of Data')\n",
    "plt.grid(True)\n",
    "plt.show()"
   ]
  },
  {
   "cell_type": "code",
   "execution_count": 12,
   "id": "604f8a79",
   "metadata": {},
   "outputs": [],
   "source": [
    "np_cka_24_filt = np_cka_24 < np.mean(np_cka_24) - np.std(np_cka_24)"
   ]
  },
  {
   "cell_type": "code",
   "execution_count": 25,
   "id": "91ba3b98",
   "metadata": {},
   "outputs": [
    {
     "name": "stdout",
     "output_type": "stream",
     "text": [
      "min:  tensor(0.6505, device='cuda:0', dtype=torch.float64)\n",
      "max:  tensor(0.8405, device='cuda:0', dtype=torch.float64)\n",
      "std:  0.04024422912890107\n",
      "mean:  0.7511503923313992\n"
     ]
    }
   ],
   "source": [
    "cka_36 = hd_model.feature_extractor.model.waffleiron.cka_losses[36]\n",
    "print(\"min: \", min(cka_36))\n",
    "print(\"max: \", max(cka_36))\n",
    "np_cka_36 = np.array([i.cpu() for i in cka_36])\n",
    "print(\"std: \", np.std(np_cka_36))\n",
    "print(\"mean: \", np.mean(np_cka_36))"
   ]
  },
  {
   "cell_type": "code",
   "execution_count": 26,
   "id": "26c52164",
   "metadata": {},
   "outputs": [
    {
     "data": {
      "image/png": "[encoded data removed]",
      "text/plain": [
       "<Figure size 640x480 with 1 Axes>"
      ]
     },
     "metadata": {},
     "output_type": "display_data"
    }
   ],
   "source": [
    "import matplotlib.pyplot as plt\n",
    "import numpy as np\n",
    "\n",
    "# Generate sample data\n",
    "data = np_cka_36\n",
    "\n",
    "# Create a histogram\n",
    "plt.hist(data, bins=30, density=True, alpha=0.6, color='g')\n",
    "plt.xlabel('Value')\n",
    "plt.ylabel('Frequency')\n",
    "plt.title('Distribution of Data')\n",
    "plt.grid(True)\n",
    "plt.show()"
   ]
  },
  {
   "cell_type": "code",
   "execution_count": 15,
   "id": "3e3c506c",
   "metadata": {},
   "outputs": [],
   "source": [
    "np_cka_36_filt = np_cka_36 < np.mean(np_cka_36) - np.std(np_cka_36)"
   ]
  },
  {
   "cell_type": "code",
   "execution_count": 16,
   "id": "a3fc6b94",
   "metadata": {},
   "outputs": [
    {
     "data": {
      "image/png": "[encoded data removed]",
      "text/plain": [
       "<Figure size 640x480 with 1 Axes>"
      ]
     },
     "metadata": {},
     "output_type": "display_data"
    }
   ],
   "source": [
    "import matplotlib.pyplot as plt\n",
    "import numpy as np\n",
    "\n",
    "# Generate sample data\n",
    "data = np_cka_36[np_cka_24_filt]\n",
    "\n",
    "# Create a histogram\n",
    "plt.hist(data, bins=30, density=True, alpha=0.6, color='g')\n",
    "plt.xlabel('Value')\n",
    "plt.ylabel('Frequency')\n",
    "plt.title('Distribution of Data')\n",
    "plt.grid(True)\n",
    "plt.show()"
   ]
  },
  {
   "cell_type": "code",
   "execution_count": 17,
   "id": "bc840dd6",
   "metadata": {},
   "outputs": [
    {
     "name": "stdout",
     "output_type": "stream",
     "text": [
      "(49,)\n"
     ]
    }
   ],
   "source": [
    "print(data.shape) ## Amount of values that are left"
   ]
  },
  {
   "cell_type": "code",
   "execution_count": 18,
   "id": "b10553a7",
   "metadata": {},
   "outputs": [
    {
     "data": {
      "text/plain": [
       "(4,)"
      ]
     },
     "execution_count": 18,
     "metadata": {},
     "output_type": "execute_result"
    }
   ],
   "source": [
    "np_cka_36[[i & j for i,j in zip(np_cka_24_filt, np_cka_36_filt)]].shape"
   ]
  },
  {
   "cell_type": "markdown",
   "id": "853e69f3",
   "metadata": {},
   "source": [
    "## Get num_wrong"
   ]
  },
  {
   "cell_type": "code",
   "execution_count": 60,
   "id": "868785b6",
   "metadata": {},
   "outputs": [
    {
     "data": {
      "text/plain": [
       "(282,)"
      ]
     },
     "execution_count": 60,
     "metadata": {},
     "output_type": "execute_result"
    }
   ],
   "source": [
    "num_wrong_parse.shape"
   ]
  },
  {
   "cell_type": "code",
   "execution_count": 61,
   "id": "4bb40f7f",
   "metadata": {},
   "outputs": [
    {
     "name": "stdout",
     "output_type": "stream",
     "text": [
      "min:  tensor(0.4104, device='cuda:0', dtype=torch.float64)\n",
      "max:  tensor(0.5086, device='cuda:0', dtype=torch.float64)\n"
     ]
    }
   ],
   "source": [
    "cka_24 = hd_model.feature_extractor.model.waffleiron.cka_losses[24][-282:]\n",
    "print(\"min: \", min(cka_24))\n",
    "print(\"max: \", max(cka_24))\n",
    "np_cka_24 = np.array([i.cpu() for i in cka_24])"
   ]
  },
  {
   "cell_type": "code",
   "execution_count": 62,
   "id": "a0ee4b89",
   "metadata": {},
   "outputs": [
    {
     "name": "stdout",
     "output_type": "stream",
     "text": [
      "min:  tensor(0.6505, device='cuda:0', dtype=torch.float64)\n",
      "max:  tensor(0.8405, device='cuda:0', dtype=torch.float64)\n"
     ]
    }
   ],
   "source": [
    "cka_36 = hd_model.feature_extractor.model.waffleiron.cka_losses[36][-282:]\n",
    "print(\"min: \", min(cka_36))\n",
    "print(\"max: \", max(cka_36))\n",
    "np_cka_36 = np.array([i.cpu() for i in cka_36])"
   ]
  },
  {
   "cell_type": "code",
   "execution_count": 63,
   "id": "9dd9261d",
   "metadata": {},
   "outputs": [
    {
     "data": {
      "text/plain": [
       "(282,)"
      ]
     },
     "execution_count": 63,
     "metadata": {},
     "output_type": "execute_result"
    }
   ],
   "source": [
    "np_cka_36.shape"
   ]
  },
  {
   "cell_type": "code",
   "execution_count": 64,
   "id": "45b68698",
   "metadata": {},
   "outputs": [
    {
     "data": {
      "image/png": "[encoded data removed]",
      "text/plain": [
       "<Figure size 600x400 with 1 Axes>"
      ]
     },
     "metadata": {},
     "output_type": "display_data"
    }
   ],
   "source": [
    "import numpy as np\n",
    "import matplotlib.pyplot as plt\n",
    "import seaborn as sns\n",
    "\n",
    "# Example Data\n",
    "x = np_cka_24\n",
    "  # Categories\n",
    "y = num_wrong_parse  # Values\n",
    "\n",
    "# Create the Boxplot\n",
    "plt.figure(figsize=(6, 4))\n",
    "plt.plot(x, y, linestyle='', marker='o')\n",
    "\n",
    "# Labels and Title\n",
    "plt.xlabel(\"Category\")\n",
    "plt.ylabel(\"Values\")\n",
    "plt.title(\"Boxplot of Two Arrays\")\n",
    "\n",
    "# Show the Plot\n",
    "plt.show()"
   ]
  },
  {
   "cell_type": "code",
   "execution_count": 65,
   "id": "b92774b3",
   "metadata": {},
   "outputs": [
    {
     "data": {
      "image/png": "[encoded data removed]",
      "text/plain": [
       "<Figure size 600x400 with 1 Axes>"
      ]
     },
     "metadata": {},
     "output_type": "display_data"
    }
   ],
   "source": [
    "import numpy as np\n",
    "import matplotlib.pyplot as plt\n",
    "import seaborn as sns\n",
    "\n",
    "# Example Data\n",
    "x = np_cka_36\n",
    "  # Categories\n",
    "y = num_wrong_parse  # Values\n",
    "\n",
    "# Create the Boxplot\n",
    "plt.figure(figsize=(6, 4))\n",
    "plt.plot(x, y, linestyle='', marker='o')\n",
    "\n",
    "# Labels and Title\n",
    "plt.xlabel(\"Category\")\n",
    "plt.ylabel(\"Values\")\n",
    "plt.title(\"Boxplot of Two Arrays\")\n",
    "\n",
    "# Show the Plot\n",
    "plt.show()"
   ]
  },
  {
   "cell_type": "code",
   "execution_count": 66,
   "id": "d138fede",
   "metadata": {},
   "outputs": [],
   "source": [
    "np.save('num_wrong_epoch_2.np', num_wrong_parse)"
   ]
  },
  {
   "cell_type": "code",
   "execution_count": 67,
   "id": "7625b36f",
   "metadata": {},
   "outputs": [],
   "source": [
    "np.save('np_cka_36_epoch_2.np', np_cka_36)\n",
    "np.save('np_cka_24_epoch_2.np', np_cka_36)"
   ]
  },
  {
   "cell_type": "code",
   "execution_count": null,
   "id": "a12c587c",
   "metadata": {},
   "outputs": [],
   "source": []
  }
 ],
 "metadata": {
  "kernelspec": {
   "display_name": "env",
   "language": "python",
   "name": "env"
  },
  "language_info": {
   "codemirror_mode": {
    "name": "ipython",
    "version": 3
   },
   "file_extension": ".py",
   "mimetype": "text/x-python",
   "name": "python",
   "nbconvert_exporter": "python",
   "pygments_lexer": "ipython3",
   "version": "3.8.20"
  }
 },
 "nbformat": 4,
 "nbformat_minor": 5
}
