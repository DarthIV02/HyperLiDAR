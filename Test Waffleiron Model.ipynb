{
 "cells": [
  {
   "cell_type": "markdown",
   "id": "7bd417ca",
   "metadata": {},
   "source": [
    "# Test WaffleIron Model"
   ]
  },
  {
   "cell_type": "code",
   "execution_count": 1,
   "id": "3afc500f",
   "metadata": {},
   "outputs": [
    {
     "name": "stdout",
     "output_type": "stream",
     "text": [
      "Using torch.scatter_reduce for 3D to 2D projection.\n",
      "Using torch.scatter_reduce for 3D to 2D projection.\n"
     ]
    }
   ],
   "source": [
    "from models.waffleiron.segmenter import Segmenter"
   ]
  },
  {
   "cell_type": "code",
   "execution_count": 2,
   "id": "12df3ee2",
   "metadata": {},
   "outputs": [],
   "source": [
    "model = Segmenter(\n",
    "    input_channels=5,\n",
    "    feat_channels=768,\n",
    "    depth=48,\n",
    "    grid_shape=[[256, 256], [256, 32], [256, 32]],\n",
    "    nb_class=16,\n",
    "    #drop_path_prob=config[\"waffleiron\"][\"drop_path\"],\n",
    "    layer_norm=True,\n",
    ")"
   ]
  },
  {
   "cell_type": "code",
   "execution_count": 3,
   "id": "ff7e82e0",
   "metadata": {},
   "outputs": [],
   "source": [
    "import torch\n",
    "\n",
    "# Load pretrained model\n",
    "ckpt = torch.load('./saved_models/ckpt_last_scalr.pth', map_location=\"cpu\")\n",
    "ckpt = ckpt[\"net\"]"
   ]
  },
  {
   "cell_type": "code",
   "execution_count": 4,
   "id": "4933ff55",
   "metadata": {},
   "outputs": [
    {
     "name": "stdout",
     "output_type": "stream",
     "text": [
      "dict_keys(['module.embed.norm.weight', 'module.embed.norm.bias', 'module.embed.norm.running_mean', 'module.embed.norm.running_var', 'module.embed.norm.num_batches_tracked', 'module.embed.conv1.weight', 'module.embed.conv1.bias', 'module.embed.conv2.0.weight', 'module.embed.conv2.0.bias', 'module.embed.conv2.0.running_mean', 'module.embed.conv2.0.running_var', 'module.embed.conv2.0.num_batches_tracked', 'module.embed.conv2.1.weight', 'module.embed.conv2.2.weight', 'module.embed.conv2.2.bias', 'module.embed.conv2.2.running_mean', 'module.embed.conv2.2.running_var', 'module.embed.conv2.2.num_batches_tracked', 'module.embed.conv2.4.weight', 'module.embed.final.weight', 'module.embed.final.bias', 'module.waffleiron.channel_mix.0.scale.weight', 'module.waffleiron.channel_mix.0.norm.weight', 'module.waffleiron.channel_mix.0.norm.bias', 'module.waffleiron.channel_mix.0.mlp.0.weight', 'module.waffleiron.channel_mix.0.mlp.0.bias', 'module.waffleiron.channel_mix.0.mlp.2.weight', 'module.waffleiron.channel_mix.0.mlp.2.bias', 'module.waffleiron.channel_mix.1.scale.weight', 'module.waffleiron.channel_mix.1.norm.weight', 'module.waffleiron.channel_mix.1.norm.bias', 'module.waffleiron.channel_mix.1.mlp.0.weight', 'module.waffleiron.channel_mix.1.mlp.0.bias', 'module.waffleiron.channel_mix.1.mlp.2.weight', 'module.waffleiron.channel_mix.1.mlp.2.bias', 'module.waffleiron.channel_mix.2.scale.weight', 'module.waffleiron.channel_mix.2.norm.weight', 'module.waffleiron.channel_mix.2.norm.bias', 'module.waffleiron.channel_mix.2.mlp.0.weight', 'module.waffleiron.channel_mix.2.mlp.0.bias', 'module.waffleiron.channel_mix.2.mlp.2.weight', 'module.waffleiron.channel_mix.2.mlp.2.bias', 'module.waffleiron.channel_mix.3.scale.weight', 'module.waffleiron.channel_mix.3.norm.weight', 'module.waffleiron.channel_mix.3.norm.bias', 'module.waffleiron.channel_mix.3.mlp.0.weight', 'module.waffleiron.channel_mix.3.mlp.0.bias', 'module.waffleiron.channel_mix.3.mlp.2.weight', 'module.waffleiron.channel_mix.3.mlp.2.bias', 'module.waffleiron.channel_mix.4.scale.weight', 'module.waffleiron.channel_mix.4.norm.weight', 'module.waffleiron.channel_mix.4.norm.bias', 'module.waffleiron.channel_mix.4.mlp.0.weight', 'module.waffleiron.channel_mix.4.mlp.0.bias', 'module.waffleiron.channel_mix.4.mlp.2.weight', 'module.waffleiron.channel_mix.4.mlp.2.bias', 'module.waffleiron.channel_mix.5.scale.weight', 'module.waffleiron.channel_mix.5.norm.weight', 'module.waffleiron.channel_mix.5.norm.bias', 'module.waffleiron.channel_mix.5.mlp.0.weight', 'module.waffleiron.channel_mix.5.mlp.0.bias', 'module.waffleiron.channel_mix.5.mlp.2.weight', 'module.waffleiron.channel_mix.5.mlp.2.bias', 'module.waffleiron.channel_mix.6.scale.weight', 'module.waffleiron.channel_mix.6.norm.weight', 'module.waffleiron.channel_mix.6.norm.bias', 'module.waffleiron.channel_mix.6.mlp.0.weight', 'module.waffleiron.channel_mix.6.mlp.0.bias', 'module.waffleiron.channel_mix.6.mlp.2.weight', 'module.waffleiron.channel_mix.6.mlp.2.bias', 'module.waffleiron.channel_mix.7.scale.weight', 'module.waffleiron.channel_mix.7.norm.weight', 'module.waffleiron.channel_mix.7.norm.bias', 'module.waffleiron.channel_mix.7.mlp.0.weight', 'module.waffleiron.channel_mix.7.mlp.0.bias', 'module.waffleiron.channel_mix.7.mlp.2.weight', 'module.waffleiron.channel_mix.7.mlp.2.bias', 'module.waffleiron.channel_mix.8.scale.weight', 'module.waffleiron.channel_mix.8.norm.weight', 'module.waffleiron.channel_mix.8.norm.bias', 'module.waffleiron.channel_mix.8.mlp.0.weight', 'module.waffleiron.channel_mix.8.mlp.0.bias', 'module.waffleiron.channel_mix.8.mlp.2.weight', 'module.waffleiron.channel_mix.8.mlp.2.bias', 'module.waffleiron.channel_mix.9.scale.weight', 'module.waffleiron.channel_mix.9.norm.weight', 'module.waffleiron.channel_mix.9.norm.bias', 'module.waffleiron.channel_mix.9.mlp.0.weight', 'module.waffleiron.channel_mix.9.mlp.0.bias', 'module.waffleiron.channel_mix.9.mlp.2.weight', 'module.waffleiron.channel_mix.9.mlp.2.bias', 'module.waffleiron.channel_mix.10.scale.weight', 'module.waffleiron.channel_mix.10.norm.weight', 'module.waffleiron.channel_mix.10.norm.bias', 'module.waffleiron.channel_mix.10.mlp.0.weight', 'module.waffleiron.channel_mix.10.mlp.0.bias', 'module.waffleiron.channel_mix.10.mlp.2.weight', 'module.waffleiron.channel_mix.10.mlp.2.bias', 'module.waffleiron.channel_mix.11.scale.weight', 'module.waffleiron.channel_mix.11.norm.weight', 'module.waffleiron.channel_mix.11.norm.bias', 'module.waffleiron.channel_mix.11.mlp.0.weight', 'module.waffleiron.channel_mix.11.mlp.0.bias', 'module.waffleiron.channel_mix.11.mlp.2.weight', 'module.waffleiron.channel_mix.11.mlp.2.bias', 'module.waffleiron.channel_mix.12.scale.weight', 'module.waffleiron.channel_mix.12.norm.weight', 'module.waffleiron.channel_mix.12.norm.bias', 'module.waffleiron.channel_mix.12.mlp.0.weight', 'module.waffleiron.channel_mix.12.mlp.0.bias', 'module.waffleiron.channel_mix.12.mlp.2.weight', 'module.waffleiron.channel_mix.12.mlp.2.bias', 'module.waffleiron.channel_mix.13.scale.weight', 'module.waffleiron.channel_mix.13.norm.weight', 'module.waffleiron.channel_mix.13.norm.bias', 'module.waffleiron.channel_mix.13.mlp.0.weight', 'module.waffleiron.channel_mix.13.mlp.0.bias', 'module.waffleiron.channel_mix.13.mlp.2.weight', 'module.waffleiron.channel_mix.13.mlp.2.bias', 'module.waffleiron.channel_mix.14.scale.weight', 'module.waffleiron.channel_mix.14.norm.weight', 'module.waffleiron.channel_mix.14.norm.bias', 'module.waffleiron.channel_mix.14.mlp.0.weight', 'module.waffleiron.channel_mix.14.mlp.0.bias', 'module.waffleiron.channel_mix.14.mlp.2.weight', 'module.waffleiron.channel_mix.14.mlp.2.bias', 'module.waffleiron.channel_mix.15.scale.weight', 'module.waffleiron.channel_mix.15.norm.weight', 'module.waffleiron.channel_mix.15.norm.bias', 'module.waffleiron.channel_mix.15.mlp.0.weight', 'module.waffleiron.channel_mix.15.mlp.0.bias', 'module.waffleiron.channel_mix.15.mlp.2.weight', 'module.waffleiron.channel_mix.15.mlp.2.bias', 'module.waffleiron.channel_mix.16.scale.weight', 'module.waffleiron.channel_mix.16.norm.weight', 'module.waffleiron.channel_mix.16.norm.bias', 'module.waffleiron.channel_mix.16.mlp.0.weight', 'module.waffleiron.channel_mix.16.mlp.0.bias', 'module.waffleiron.channel_mix.16.mlp.2.weight', 'module.waffleiron.channel_mix.16.mlp.2.bias', 'module.waffleiron.channel_mix.17.scale.weight', 'module.waffleiron.channel_mix.17.norm.weight', 'module.waffleiron.channel_mix.17.norm.bias', 'module.waffleiron.channel_mix.17.mlp.0.weight', 'module.waffleiron.channel_mix.17.mlp.0.bias', 'module.waffleiron.channel_mix.17.mlp.2.weight', 'module.waffleiron.channel_mix.17.mlp.2.bias', 'module.waffleiron.channel_mix.18.scale.weight', 'module.waffleiron.channel_mix.18.norm.weight', 'module.waffleiron.channel_mix.18.norm.bias', 'module.waffleiron.channel_mix.18.mlp.0.weight', 'module.waffleiron.channel_mix.18.mlp.0.bias', 'module.waffleiron.channel_mix.18.mlp.2.weight', 'module.waffleiron.channel_mix.18.mlp.2.bias', 'module.waffleiron.channel_mix.19.scale.weight', 'module.waffleiron.channel_mix.19.norm.weight', 'module.waffleiron.channel_mix.19.norm.bias', 'module.waffleiron.channel_mix.19.mlp.0.weight', 'module.waffleiron.channel_mix.19.mlp.0.bias', 'module.waffleiron.channel_mix.19.mlp.2.weight', 'module.waffleiron.channel_mix.19.mlp.2.bias', 'module.waffleiron.channel_mix.20.scale.weight', 'module.waffleiron.channel_mix.20.norm.weight', 'module.waffleiron.channel_mix.20.norm.bias', 'module.waffleiron.channel_mix.20.mlp.0.weight', 'module.waffleiron.channel_mix.20.mlp.0.bias', 'module.waffleiron.channel_mix.20.mlp.2.weight', 'module.waffleiron.channel_mix.20.mlp.2.bias', 'module.waffleiron.channel_mix.21.scale.weight', 'module.waffleiron.channel_mix.21.norm.weight', 'module.waffleiron.channel_mix.21.norm.bias', 'module.waffleiron.channel_mix.21.mlp.0.weight', 'module.waffleiron.channel_mix.21.mlp.0.bias', 'module.waffleiron.channel_mix.21.mlp.2.weight', 'module.waffleiron.channel_mix.21.mlp.2.bias', 'module.waffleiron.channel_mix.22.scale.weight', 'module.waffleiron.channel_mix.22.norm.weight', 'module.waffleiron.channel_mix.22.norm.bias', 'module.waffleiron.channel_mix.22.mlp.0.weight', 'module.waffleiron.channel_mix.22.mlp.0.bias', 'module.waffleiron.channel_mix.22.mlp.2.weight', 'module.waffleiron.channel_mix.22.mlp.2.bias', 'module.waffleiron.channel_mix.23.scale.weight', 'module.waffleiron.channel_mix.23.norm.weight', 'module.waffleiron.channel_mix.23.norm.bias', 'module.waffleiron.channel_mix.23.mlp.0.weight', 'module.waffleiron.channel_mix.23.mlp.0.bias', 'module.waffleiron.channel_mix.23.mlp.2.weight', 'module.waffleiron.channel_mix.23.mlp.2.bias', 'module.waffleiron.channel_mix.24.scale.weight', 'module.waffleiron.channel_mix.24.norm.weight', 'module.waffleiron.channel_mix.24.norm.bias', 'module.waffleiron.channel_mix.24.mlp.0.weight', 'module.waffleiron.channel_mix.24.mlp.0.bias', 'module.waffleiron.channel_mix.24.mlp.2.weight', 'module.waffleiron.channel_mix.24.mlp.2.bias', 'module.waffleiron.channel_mix.25.scale.weight', 'module.waffleiron.channel_mix.25.norm.weight', 'module.waffleiron.channel_mix.25.norm.bias', 'module.waffleiron.channel_mix.25.mlp.0.weight', 'module.waffleiron.channel_mix.25.mlp.0.bias', 'module.waffleiron.channel_mix.25.mlp.2.weight', 'module.waffleiron.channel_mix.25.mlp.2.bias', 'module.waffleiron.channel_mix.26.scale.weight', 'module.waffleiron.channel_mix.26.norm.weight', 'module.waffleiron.channel_mix.26.norm.bias', 'module.waffleiron.channel_mix.26.mlp.0.weight', 'module.waffleiron.channel_mix.26.mlp.0.bias', 'module.waffleiron.channel_mix.26.mlp.2.weight', 'module.waffleiron.channel_mix.26.mlp.2.bias', 'module.waffleiron.channel_mix.27.scale.weight', 'module.waffleiron.channel_mix.27.norm.weight', 'module.waffleiron.channel_mix.27.norm.bias', 'module.waffleiron.channel_mix.27.mlp.0.weight', 'module.waffleiron.channel_mix.27.mlp.0.bias', 'module.waffleiron.channel_mix.27.mlp.2.weight', 'module.waffleiron.channel_mix.27.mlp.2.bias', 'module.waffleiron.channel_mix.28.scale.weight', 'module.waffleiron.channel_mix.28.norm.weight', 'module.waffleiron.channel_mix.28.norm.bias', 'module.waffleiron.channel_mix.28.mlp.0.weight', 'module.waffleiron.channel_mix.28.mlp.0.bias', 'module.waffleiron.channel_mix.28.mlp.2.weight', 'module.waffleiron.channel_mix.28.mlp.2.bias', 'module.waffleiron.channel_mix.29.scale.weight', 'module.waffleiron.channel_mix.29.norm.weight', 'module.waffleiron.channel_mix.29.norm.bias', 'module.waffleiron.channel_mix.29.mlp.0.weight', 'module.waffleiron.channel_mix.29.mlp.0.bias', 'module.waffleiron.channel_mix.29.mlp.2.weight', 'module.waffleiron.channel_mix.29.mlp.2.bias', 'module.waffleiron.channel_mix.30.scale.weight', 'module.waffleiron.channel_mix.30.norm.weight', 'module.waffleiron.channel_mix.30.norm.bias', 'module.waffleiron.channel_mix.30.mlp.0.weight', 'module.waffleiron.channel_mix.30.mlp.0.bias', 'module.waffleiron.channel_mix.30.mlp.2.weight', 'module.waffleiron.channel_mix.30.mlp.2.bias', 'module.waffleiron.channel_mix.31.scale.weight', 'module.waffleiron.channel_mix.31.norm.weight', 'module.waffleiron.channel_mix.31.norm.bias', 'module.waffleiron.channel_mix.31.mlp.0.weight', 'module.waffleiron.channel_mix.31.mlp.0.bias', 'module.waffleiron.channel_mix.31.mlp.2.weight', 'module.waffleiron.channel_mix.31.mlp.2.bias', 'module.waffleiron.channel_mix.32.scale.weight', 'module.waffleiron.channel_mix.32.norm.weight', 'module.waffleiron.channel_mix.32.norm.bias', 'module.waffleiron.channel_mix.32.mlp.0.weight', 'module.waffleiron.channel_mix.32.mlp.0.bias', 'module.waffleiron.channel_mix.32.mlp.2.weight', 'module.waffleiron.channel_mix.32.mlp.2.bias', 'module.waffleiron.channel_mix.33.scale.weight', 'module.waffleiron.channel_mix.33.norm.weight', 'module.waffleiron.channel_mix.33.norm.bias', 'module.waffleiron.channel_mix.33.mlp.0.weight', 'module.waffleiron.channel_mix.33.mlp.0.bias', 'module.waffleiron.channel_mix.33.mlp.2.weight', 'module.waffleiron.channel_mix.33.mlp.2.bias', 'module.waffleiron.channel_mix.34.scale.weight', 'module.waffleiron.channel_mix.34.norm.weight', 'module.waffleiron.channel_mix.34.norm.bias', 'module.waffleiron.channel_mix.34.mlp.0.weight', 'module.waffleiron.channel_mix.34.mlp.0.bias', 'module.waffleiron.channel_mix.34.mlp.2.weight', 'module.waffleiron.channel_mix.34.mlp.2.bias', 'module.waffleiron.channel_mix.35.scale.weight', 'module.waffleiron.channel_mix.35.norm.weight', 'module.waffleiron.channel_mix.35.norm.bias', 'module.waffleiron.channel_mix.35.mlp.0.weight', 'module.waffleiron.channel_mix.35.mlp.0.bias', 'module.waffleiron.channel_mix.35.mlp.2.weight', 'module.waffleiron.channel_mix.35.mlp.2.bias', 'module.waffleiron.channel_mix.36.scale.weight', 'module.waffleiron.channel_mix.36.norm.weight', 'module.waffleiron.channel_mix.36.norm.bias', 'module.waffleiron.channel_mix.36.mlp.0.weight', 'module.waffleiron.channel_mix.36.mlp.0.bias', 'module.waffleiron.channel_mix.36.mlp.2.weight', 'module.waffleiron.channel_mix.36.mlp.2.bias', 'module.waffleiron.channel_mix.37.scale.weight', 'module.waffleiron.channel_mix.37.norm.weight', 'module.waffleiron.channel_mix.37.norm.bias', 'module.waffleiron.channel_mix.37.mlp.0.weight', 'module.waffleiron.channel_mix.37.mlp.0.bias', 'module.waffleiron.channel_mix.37.mlp.2.weight', 'module.waffleiron.channel_mix.37.mlp.2.bias', 'module.waffleiron.channel_mix.38.scale.weight', 'module.waffleiron.channel_mix.38.norm.weight', 'module.waffleiron.channel_mix.38.norm.bias', 'module.waffleiron.channel_mix.38.mlp.0.weight', 'module.waffleiron.channel_mix.38.mlp.0.bias', 'module.waffleiron.channel_mix.38.mlp.2.weight', 'module.waffleiron.channel_mix.38.mlp.2.bias', 'module.waffleiron.channel_mix.39.scale.weight', 'module.waffleiron.channel_mix.39.norm.weight', 'module.waffleiron.channel_mix.39.norm.bias', 'module.waffleiron.channel_mix.39.mlp.0.weight', 'module.waffleiron.channel_mix.39.mlp.0.bias', 'module.waffleiron.channel_mix.39.mlp.2.weight', 'module.waffleiron.channel_mix.39.mlp.2.bias', 'module.waffleiron.channel_mix.40.scale.weight', 'module.waffleiron.channel_mix.40.norm.weight', 'module.waffleiron.channel_mix.40.norm.bias', 'module.waffleiron.channel_mix.40.mlp.0.weight', 'module.waffleiron.channel_mix.40.mlp.0.bias', 'module.waffleiron.channel_mix.40.mlp.2.weight', 'module.waffleiron.channel_mix.40.mlp.2.bias', 'module.waffleiron.channel_mix.41.scale.weight', 'module.waffleiron.channel_mix.41.norm.weight', 'module.waffleiron.channel_mix.41.norm.bias', 'module.waffleiron.channel_mix.41.mlp.0.weight', 'module.waffleiron.channel_mix.41.mlp.0.bias', 'module.waffleiron.channel_mix.41.mlp.2.weight', 'module.waffleiron.channel_mix.41.mlp.2.bias', 'module.waffleiron.channel_mix.42.scale.weight', 'module.waffleiron.channel_mix.42.norm.weight', 'module.waffleiron.channel_mix.42.norm.bias', 'module.waffleiron.channel_mix.42.mlp.0.weight', 'module.waffleiron.channel_mix.42.mlp.0.bias', 'module.waffleiron.channel_mix.42.mlp.2.weight', 'module.waffleiron.channel_mix.42.mlp.2.bias', 'module.waffleiron.channel_mix.43.scale.weight', 'module.waffleiron.channel_mix.43.norm.weight', 'module.waffleiron.channel_mix.43.norm.bias', 'module.waffleiron.channel_mix.43.mlp.0.weight', 'module.waffleiron.channel_mix.43.mlp.0.bias', 'module.waffleiron.channel_mix.43.mlp.2.weight', 'module.waffleiron.channel_mix.43.mlp.2.bias', 'module.waffleiron.channel_mix.44.scale.weight', 'module.waffleiron.channel_mix.44.norm.weight', 'module.waffleiron.channel_mix.44.norm.bias', 'module.waffleiron.channel_mix.44.mlp.0.weight', 'module.waffleiron.channel_mix.44.mlp.0.bias', 'module.waffleiron.channel_mix.44.mlp.2.weight', 'module.waffleiron.channel_mix.44.mlp.2.bias', 'module.waffleiron.channel_mix.45.scale.weight', 'module.waffleiron.channel_mix.45.norm.weight', 'module.waffleiron.channel_mix.45.norm.bias', 'module.waffleiron.channel_mix.45.mlp.0.weight', 'module.waffleiron.channel_mix.45.mlp.0.bias', 'module.waffleiron.channel_mix.45.mlp.2.weight', 'module.waffleiron.channel_mix.45.mlp.2.bias', 'module.waffleiron.channel_mix.46.scale.weight', 'module.waffleiron.channel_mix.46.norm.weight', 'module.waffleiron.channel_mix.46.norm.bias', 'module.waffleiron.channel_mix.46.mlp.0.weight', 'module.waffleiron.channel_mix.46.mlp.0.bias', 'module.waffleiron.channel_mix.46.mlp.2.weight', 'module.waffleiron.channel_mix.46.mlp.2.bias', 'module.waffleiron.channel_mix.47.scale.weight', 'module.waffleiron.channel_mix.47.norm.weight', 'module.waffleiron.channel_mix.47.norm.bias', 'module.waffleiron.channel_mix.47.mlp.0.weight', 'module.waffleiron.channel_mix.47.mlp.0.bias', 'module.waffleiron.channel_mix.47.mlp.2.weight', 'module.waffleiron.channel_mix.47.mlp.2.bias', 'module.waffleiron.spatial_mix.0.scale.weight', 'module.waffleiron.spatial_mix.0.norm.weight', 'module.waffleiron.spatial_mix.0.norm.bias', 'module.waffleiron.spatial_mix.0.ffn.0.weight', 'module.waffleiron.spatial_mix.0.ffn.0.bias', 'module.waffleiron.spatial_mix.0.ffn.2.weight', 'module.waffleiron.spatial_mix.0.ffn.2.bias', 'module.waffleiron.spatial_mix.1.scale.weight', 'module.waffleiron.spatial_mix.1.norm.weight', 'module.waffleiron.spatial_mix.1.norm.bias', 'module.waffleiron.spatial_mix.1.ffn.0.weight', 'module.waffleiron.spatial_mix.1.ffn.0.bias', 'module.waffleiron.spatial_mix.1.ffn.2.weight', 'module.waffleiron.spatial_mix.1.ffn.2.bias', 'module.waffleiron.spatial_mix.2.scale.weight', 'module.waffleiron.spatial_mix.2.norm.weight', 'module.waffleiron.spatial_mix.2.norm.bias', 'module.waffleiron.spatial_mix.2.ffn.0.weight', 'module.waffleiron.spatial_mix.2.ffn.0.bias', 'module.waffleiron.spatial_mix.2.ffn.2.weight', 'module.waffleiron.spatial_mix.2.ffn.2.bias', 'module.waffleiron.spatial_mix.3.scale.weight', 'module.waffleiron.spatial_mix.3.norm.weight', 'module.waffleiron.spatial_mix.3.norm.bias', 'module.waffleiron.spatial_mix.3.ffn.0.weight', 'module.waffleiron.spatial_mix.3.ffn.0.bias', 'module.waffleiron.spatial_mix.3.ffn.2.weight', 'module.waffleiron.spatial_mix.3.ffn.2.bias', 'module.waffleiron.spatial_mix.4.scale.weight', 'module.waffleiron.spatial_mix.4.norm.weight', 'module.waffleiron.spatial_mix.4.norm.bias', 'module.waffleiron.spatial_mix.4.ffn.0.weight', 'module.waffleiron.spatial_mix.4.ffn.0.bias', 'module.waffleiron.spatial_mix.4.ffn.2.weight', 'module.waffleiron.spatial_mix.4.ffn.2.bias', 'module.waffleiron.spatial_mix.5.scale.weight', 'module.waffleiron.spatial_mix.5.norm.weight', 'module.waffleiron.spatial_mix.5.norm.bias', 'module.waffleiron.spatial_mix.5.ffn.0.weight', 'module.waffleiron.spatial_mix.5.ffn.0.bias', 'module.waffleiron.spatial_mix.5.ffn.2.weight', 'module.waffleiron.spatial_mix.5.ffn.2.bias', 'module.waffleiron.spatial_mix.6.scale.weight', 'module.waffleiron.spatial_mix.6.norm.weight', 'module.waffleiron.spatial_mix.6.norm.bias', 'module.waffleiron.spatial_mix.6.ffn.0.weight', 'module.waffleiron.spatial_mix.6.ffn.0.bias', 'module.waffleiron.spatial_mix.6.ffn.2.weight', 'module.waffleiron.spatial_mix.6.ffn.2.bias', 'module.waffleiron.spatial_mix.7.scale.weight', 'module.waffleiron.spatial_mix.7.norm.weight', 'module.waffleiron.spatial_mix.7.norm.bias', 'module.waffleiron.spatial_mix.7.ffn.0.weight', 'module.waffleiron.spatial_mix.7.ffn.0.bias', 'module.waffleiron.spatial_mix.7.ffn.2.weight', 'module.waffleiron.spatial_mix.7.ffn.2.bias', 'module.waffleiron.spatial_mix.8.scale.weight', 'module.waffleiron.spatial_mix.8.norm.weight', 'module.waffleiron.spatial_mix.8.norm.bias', 'module.waffleiron.spatial_mix.8.ffn.0.weight', 'module.waffleiron.spatial_mix.8.ffn.0.bias', 'module.waffleiron.spatial_mix.8.ffn.2.weight', 'module.waffleiron.spatial_mix.8.ffn.2.bias', 'module.waffleiron.spatial_mix.9.scale.weight', 'module.waffleiron.spatial_mix.9.norm.weight', 'module.waffleiron.spatial_mix.9.norm.bias', 'module.waffleiron.spatial_mix.9.ffn.0.weight', 'module.waffleiron.spatial_mix.9.ffn.0.bias', 'module.waffleiron.spatial_mix.9.ffn.2.weight', 'module.waffleiron.spatial_mix.9.ffn.2.bias', 'module.waffleiron.spatial_mix.10.scale.weight', 'module.waffleiron.spatial_mix.10.norm.weight', 'module.waffleiron.spatial_mix.10.norm.bias', 'module.waffleiron.spatial_mix.10.ffn.0.weight', 'module.waffleiron.spatial_mix.10.ffn.0.bias', 'module.waffleiron.spatial_mix.10.ffn.2.weight', 'module.waffleiron.spatial_mix.10.ffn.2.bias', 'module.waffleiron.spatial_mix.11.scale.weight', 'module.waffleiron.spatial_mix.11.norm.weight', 'module.waffleiron.spatial_mix.11.norm.bias', 'module.waffleiron.spatial_mix.11.ffn.0.weight', 'module.waffleiron.spatial_mix.11.ffn.0.bias', 'module.waffleiron.spatial_mix.11.ffn.2.weight', 'module.waffleiron.spatial_mix.11.ffn.2.bias', 'module.waffleiron.spatial_mix.12.scale.weight', 'module.waffleiron.spatial_mix.12.norm.weight', 'module.waffleiron.spatial_mix.12.norm.bias', 'module.waffleiron.spatial_mix.12.ffn.0.weight', 'module.waffleiron.spatial_mix.12.ffn.0.bias', 'module.waffleiron.spatial_mix.12.ffn.2.weight', 'module.waffleiron.spatial_mix.12.ffn.2.bias', 'module.waffleiron.spatial_mix.13.scale.weight', 'module.waffleiron.spatial_mix.13.norm.weight', 'module.waffleiron.spatial_mix.13.norm.bias', 'module.waffleiron.spatial_mix.13.ffn.0.weight', 'module.waffleiron.spatial_mix.13.ffn.0.bias', 'module.waffleiron.spatial_mix.13.ffn.2.weight', 'module.waffleiron.spatial_mix.13.ffn.2.bias', 'module.waffleiron.spatial_mix.14.scale.weight', 'module.waffleiron.spatial_mix.14.norm.weight', 'module.waffleiron.spatial_mix.14.norm.bias', 'module.waffleiron.spatial_mix.14.ffn.0.weight', 'module.waffleiron.spatial_mix.14.ffn.0.bias', 'module.waffleiron.spatial_mix.14.ffn.2.weight', 'module.waffleiron.spatial_mix.14.ffn.2.bias', 'module.waffleiron.spatial_mix.15.scale.weight', 'module.waffleiron.spatial_mix.15.norm.weight', 'module.waffleiron.spatial_mix.15.norm.bias', 'module.waffleiron.spatial_mix.15.ffn.0.weight', 'module.waffleiron.spatial_mix.15.ffn.0.bias', 'module.waffleiron.spatial_mix.15.ffn.2.weight', 'module.waffleiron.spatial_mix.15.ffn.2.bias', 'module.waffleiron.spatial_mix.16.scale.weight', 'module.waffleiron.spatial_mix.16.norm.weight', 'module.waffleiron.spatial_mix.16.norm.bias', 'module.waffleiron.spatial_mix.16.ffn.0.weight', 'module.waffleiron.spatial_mix.16.ffn.0.bias', 'module.waffleiron.spatial_mix.16.ffn.2.weight', 'module.waffleiron.spatial_mix.16.ffn.2.bias', 'module.waffleiron.spatial_mix.17.scale.weight', 'module.waffleiron.spatial_mix.17.norm.weight', 'module.waffleiron.spatial_mix.17.norm.bias', 'module.waffleiron.spatial_mix.17.ffn.0.weight', 'module.waffleiron.spatial_mix.17.ffn.0.bias', 'module.waffleiron.spatial_mix.17.ffn.2.weight', 'module.waffleiron.spatial_mix.17.ffn.2.bias', 'module.waffleiron.spatial_mix.18.scale.weight', 'module.waffleiron.spatial_mix.18.norm.weight', 'module.waffleiron.spatial_mix.18.norm.bias', 'module.waffleiron.spatial_mix.18.ffn.0.weight', 'module.waffleiron.spatial_mix.18.ffn.0.bias', 'module.waffleiron.spatial_mix.18.ffn.2.weight', 'module.waffleiron.spatial_mix.18.ffn.2.bias', 'module.waffleiron.spatial_mix.19.scale.weight', 'module.waffleiron.spatial_mix.19.norm.weight', 'module.waffleiron.spatial_mix.19.norm.bias', 'module.waffleiron.spatial_mix.19.ffn.0.weight', 'module.waffleiron.spatial_mix.19.ffn.0.bias', 'module.waffleiron.spatial_mix.19.ffn.2.weight', 'module.waffleiron.spatial_mix.19.ffn.2.bias', 'module.waffleiron.spatial_mix.20.scale.weight', 'module.waffleiron.spatial_mix.20.norm.weight', 'module.waffleiron.spatial_mix.20.norm.bias', 'module.waffleiron.spatial_mix.20.ffn.0.weight', 'module.waffleiron.spatial_mix.20.ffn.0.bias', 'module.waffleiron.spatial_mix.20.ffn.2.weight', 'module.waffleiron.spatial_mix.20.ffn.2.bias', 'module.waffleiron.spatial_mix.21.scale.weight', 'module.waffleiron.spatial_mix.21.norm.weight', 'module.waffleiron.spatial_mix.21.norm.bias', 'module.waffleiron.spatial_mix.21.ffn.0.weight', 'module.waffleiron.spatial_mix.21.ffn.0.bias', 'module.waffleiron.spatial_mix.21.ffn.2.weight', 'module.waffleiron.spatial_mix.21.ffn.2.bias', 'module.waffleiron.spatial_mix.22.scale.weight', 'module.waffleiron.spatial_mix.22.norm.weight', 'module.waffleiron.spatial_mix.22.norm.bias', 'module.waffleiron.spatial_mix.22.ffn.0.weight', 'module.waffleiron.spatial_mix.22.ffn.0.bias', 'module.waffleiron.spatial_mix.22.ffn.2.weight', 'module.waffleiron.spatial_mix.22.ffn.2.bias', 'module.waffleiron.spatial_mix.23.scale.weight', 'module.waffleiron.spatial_mix.23.norm.weight', 'module.waffleiron.spatial_mix.23.norm.bias', 'module.waffleiron.spatial_mix.23.ffn.0.weight', 'module.waffleiron.spatial_mix.23.ffn.0.bias', 'module.waffleiron.spatial_mix.23.ffn.2.weight', 'module.waffleiron.spatial_mix.23.ffn.2.bias', 'module.waffleiron.spatial_mix.24.scale.weight', 'module.waffleiron.spatial_mix.24.norm.weight', 'module.waffleiron.spatial_mix.24.norm.bias', 'module.waffleiron.spatial_mix.24.ffn.0.weight', 'module.waffleiron.spatial_mix.24.ffn.0.bias', 'module.waffleiron.spatial_mix.24.ffn.2.weight', 'module.waffleiron.spatial_mix.24.ffn.2.bias', 'module.waffleiron.spatial_mix.25.scale.weight', 'module.waffleiron.spatial_mix.25.norm.weight', 'module.waffleiron.spatial_mix.25.norm.bias', 'module.waffleiron.spatial_mix.25.ffn.0.weight', 'module.waffleiron.spatial_mix.25.ffn.0.bias', 'module.waffleiron.spatial_mix.25.ffn.2.weight', 'module.waffleiron.spatial_mix.25.ffn.2.bias', 'module.waffleiron.spatial_mix.26.scale.weight', 'module.waffleiron.spatial_mix.26.norm.weight', 'module.waffleiron.spatial_mix.26.norm.bias', 'module.waffleiron.spatial_mix.26.ffn.0.weight', 'module.waffleiron.spatial_mix.26.ffn.0.bias', 'module.waffleiron.spatial_mix.26.ffn.2.weight', 'module.waffleiron.spatial_mix.26.ffn.2.bias', 'module.waffleiron.spatial_mix.27.scale.weight', 'module.waffleiron.spatial_mix.27.norm.weight', 'module.waffleiron.spatial_mix.27.norm.bias', 'module.waffleiron.spatial_mix.27.ffn.0.weight', 'module.waffleiron.spatial_mix.27.ffn.0.bias', 'module.waffleiron.spatial_mix.27.ffn.2.weight', 'module.waffleiron.spatial_mix.27.ffn.2.bias', 'module.waffleiron.spatial_mix.28.scale.weight', 'module.waffleiron.spatial_mix.28.norm.weight', 'module.waffleiron.spatial_mix.28.norm.bias', 'module.waffleiron.spatial_mix.28.ffn.0.weight', 'module.waffleiron.spatial_mix.28.ffn.0.bias', 'module.waffleiron.spatial_mix.28.ffn.2.weight', 'module.waffleiron.spatial_mix.28.ffn.2.bias', 'module.waffleiron.spatial_mix.29.scale.weight', 'module.waffleiron.spatial_mix.29.norm.weight', 'module.waffleiron.spatial_mix.29.norm.bias', 'module.waffleiron.spatial_mix.29.ffn.0.weight', 'module.waffleiron.spatial_mix.29.ffn.0.bias', 'module.waffleiron.spatial_mix.29.ffn.2.weight', 'module.waffleiron.spatial_mix.29.ffn.2.bias', 'module.waffleiron.spatial_mix.30.scale.weight', 'module.waffleiron.spatial_mix.30.norm.weight', 'module.waffleiron.spatial_mix.30.norm.bias', 'module.waffleiron.spatial_mix.30.ffn.0.weight', 'module.waffleiron.spatial_mix.30.ffn.0.bias', 'module.waffleiron.spatial_mix.30.ffn.2.weight', 'module.waffleiron.spatial_mix.30.ffn.2.bias', 'module.waffleiron.spatial_mix.31.scale.weight', 'module.waffleiron.spatial_mix.31.norm.weight', 'module.waffleiron.spatial_mix.31.norm.bias', 'module.waffleiron.spatial_mix.31.ffn.0.weight', 'module.waffleiron.spatial_mix.31.ffn.0.bias', 'module.waffleiron.spatial_mix.31.ffn.2.weight', 'module.waffleiron.spatial_mix.31.ffn.2.bias', 'module.waffleiron.spatial_mix.32.scale.weight', 'module.waffleiron.spatial_mix.32.norm.weight', 'module.waffleiron.spatial_mix.32.norm.bias', 'module.waffleiron.spatial_mix.32.ffn.0.weight', 'module.waffleiron.spatial_mix.32.ffn.0.bias', 'module.waffleiron.spatial_mix.32.ffn.2.weight', 'module.waffleiron.spatial_mix.32.ffn.2.bias', 'module.waffleiron.spatial_mix.33.scale.weight', 'module.waffleiron.spatial_mix.33.norm.weight', 'module.waffleiron.spatial_mix.33.norm.bias', 'module.waffleiron.spatial_mix.33.ffn.0.weight', 'module.waffleiron.spatial_mix.33.ffn.0.bias', 'module.waffleiron.spatial_mix.33.ffn.2.weight', 'module.waffleiron.spatial_mix.33.ffn.2.bias', 'module.waffleiron.spatial_mix.34.scale.weight', 'module.waffleiron.spatial_mix.34.norm.weight', 'module.waffleiron.spatial_mix.34.norm.bias', 'module.waffleiron.spatial_mix.34.ffn.0.weight', 'module.waffleiron.spatial_mix.34.ffn.0.bias', 'module.waffleiron.spatial_mix.34.ffn.2.weight', 'module.waffleiron.spatial_mix.34.ffn.2.bias', 'module.waffleiron.spatial_mix.35.scale.weight', 'module.waffleiron.spatial_mix.35.norm.weight', 'module.waffleiron.spatial_mix.35.norm.bias', 'module.waffleiron.spatial_mix.35.ffn.0.weight', 'module.waffleiron.spatial_mix.35.ffn.0.bias', 'module.waffleiron.spatial_mix.35.ffn.2.weight', 'module.waffleiron.spatial_mix.35.ffn.2.bias', 'module.waffleiron.spatial_mix.36.scale.weight', 'module.waffleiron.spatial_mix.36.norm.weight', 'module.waffleiron.spatial_mix.36.norm.bias', 'module.waffleiron.spatial_mix.36.ffn.0.weight', 'module.waffleiron.spatial_mix.36.ffn.0.bias', 'module.waffleiron.spatial_mix.36.ffn.2.weight', 'module.waffleiron.spatial_mix.36.ffn.2.bias', 'module.waffleiron.spatial_mix.37.scale.weight', 'module.waffleiron.spatial_mix.37.norm.weight', 'module.waffleiron.spatial_mix.37.norm.bias', 'module.waffleiron.spatial_mix.37.ffn.0.weight', 'module.waffleiron.spatial_mix.37.ffn.0.bias', 'module.waffleiron.spatial_mix.37.ffn.2.weight', 'module.waffleiron.spatial_mix.37.ffn.2.bias', 'module.waffleiron.spatial_mix.38.scale.weight', 'module.waffleiron.spatial_mix.38.norm.weight', 'module.waffleiron.spatial_mix.38.norm.bias', 'module.waffleiron.spatial_mix.38.ffn.0.weight', 'module.waffleiron.spatial_mix.38.ffn.0.bias', 'module.waffleiron.spatial_mix.38.ffn.2.weight', 'module.waffleiron.spatial_mix.38.ffn.2.bias', 'module.waffleiron.spatial_mix.39.scale.weight', 'module.waffleiron.spatial_mix.39.norm.weight', 'module.waffleiron.spatial_mix.39.norm.bias', 'module.waffleiron.spatial_mix.39.ffn.0.weight', 'module.waffleiron.spatial_mix.39.ffn.0.bias', 'module.waffleiron.spatial_mix.39.ffn.2.weight', 'module.waffleiron.spatial_mix.39.ffn.2.bias', 'module.waffleiron.spatial_mix.40.scale.weight', 'module.waffleiron.spatial_mix.40.norm.weight', 'module.waffleiron.spatial_mix.40.norm.bias', 'module.waffleiron.spatial_mix.40.ffn.0.weight', 'module.waffleiron.spatial_mix.40.ffn.0.bias', 'module.waffleiron.spatial_mix.40.ffn.2.weight', 'module.waffleiron.spatial_mix.40.ffn.2.bias', 'module.waffleiron.spatial_mix.41.scale.weight', 'module.waffleiron.spatial_mix.41.norm.weight', 'module.waffleiron.spatial_mix.41.norm.bias', 'module.waffleiron.spatial_mix.41.ffn.0.weight', 'module.waffleiron.spatial_mix.41.ffn.0.bias', 'module.waffleiron.spatial_mix.41.ffn.2.weight', 'module.waffleiron.spatial_mix.41.ffn.2.bias', 'module.waffleiron.spatial_mix.42.scale.weight', 'module.waffleiron.spatial_mix.42.norm.weight', 'module.waffleiron.spatial_mix.42.norm.bias', 'module.waffleiron.spatial_mix.42.ffn.0.weight', 'module.waffleiron.spatial_mix.42.ffn.0.bias', 'module.waffleiron.spatial_mix.42.ffn.2.weight', 'module.waffleiron.spatial_mix.42.ffn.2.bias', 'module.waffleiron.spatial_mix.43.scale.weight', 'module.waffleiron.spatial_mix.43.norm.weight', 'module.waffleiron.spatial_mix.43.norm.bias', 'module.waffleiron.spatial_mix.43.ffn.0.weight', 'module.waffleiron.spatial_mix.43.ffn.0.bias', 'module.waffleiron.spatial_mix.43.ffn.2.weight', 'module.waffleiron.spatial_mix.43.ffn.2.bias', 'module.waffleiron.spatial_mix.44.scale.weight', 'module.waffleiron.spatial_mix.44.norm.weight', 'module.waffleiron.spatial_mix.44.norm.bias', 'module.waffleiron.spatial_mix.44.ffn.0.weight', 'module.waffleiron.spatial_mix.44.ffn.0.bias', 'module.waffleiron.spatial_mix.44.ffn.2.weight', 'module.waffleiron.spatial_mix.44.ffn.2.bias', 'module.waffleiron.spatial_mix.45.scale.weight', 'module.waffleiron.spatial_mix.45.norm.weight', 'module.waffleiron.spatial_mix.45.norm.bias', 'module.waffleiron.spatial_mix.45.ffn.0.weight', 'module.waffleiron.spatial_mix.45.ffn.0.bias', 'module.waffleiron.spatial_mix.45.ffn.2.weight', 'module.waffleiron.spatial_mix.45.ffn.2.bias', 'module.waffleiron.spatial_mix.46.scale.weight', 'module.waffleiron.spatial_mix.46.norm.weight', 'module.waffleiron.spatial_mix.46.norm.bias', 'module.waffleiron.spatial_mix.46.ffn.0.weight', 'module.waffleiron.spatial_mix.46.ffn.0.bias', 'module.waffleiron.spatial_mix.46.ffn.2.weight', 'module.waffleiron.spatial_mix.46.ffn.2.bias', 'module.waffleiron.spatial_mix.47.scale.weight', 'module.waffleiron.spatial_mix.47.norm.weight', 'module.waffleiron.spatial_mix.47.norm.bias', 'module.waffleiron.spatial_mix.47.ffn.0.weight', 'module.waffleiron.spatial_mix.47.ffn.0.bias', 'module.waffleiron.spatial_mix.47.ffn.2.weight', 'module.waffleiron.spatial_mix.47.ffn.2.bias', 'module.classif.0.weight', 'module.classif.0.bias', 'module.classif.0.running_mean', 'module.classif.0.running_var', 'module.classif.0.num_batches_tracked', 'module.classif.1.weight', 'module.classif.1.bias'])\n"
     ]
    }
   ],
   "source": [
    "print(ckpt.keys())"
   ]
  },
  {
   "cell_type": "code",
   "execution_count": 5,
   "id": "0c587871",
   "metadata": {},
   "outputs": [],
   "source": [
    "new_ckpt = {}\n",
    "for k in ckpt.keys():\n",
    "    if k.startswith(\"module\"):\n",
    "        if k.startswith(\"module.classif.0\"):\n",
    "            continue\n",
    "        elif k.startswith(\"module.classif.1\"):\n",
    "            new_ckpt[\"classif\" + k[len(\"module.classif.1\") :]] = ckpt[k]\n",
    "        else:\n",
    "            new_ckpt[k[len(\"module.\") :]] = ckpt[k]\n",
    "    else:\n",
    "        new_ckpt[k] = ckpt[k]"
   ]
  },
  {
   "cell_type": "code",
   "execution_count": 6,
   "id": "23a10e57",
   "metadata": {},
   "outputs": [
    {
     "data": {
      "text/plain": [
       "torch.Size([16, 768, 1])"
      ]
     },
     "execution_count": 6,
     "metadata": {},
     "output_type": "execute_result"
    }
   ],
   "source": [
    "new_ckpt.get(\"classif.weight\").shape"
   ]
  },
  {
   "cell_type": "code",
   "execution_count": 7,
   "id": "0ca00085",
   "metadata": {},
   "outputs": [
    {
     "data": {
      "text/plain": [
       "<All keys matched successfully>"
      ]
     },
     "execution_count": 7,
     "metadata": {},
     "output_type": "execute_result"
    }
   ],
   "source": [
    "model.load_state_dict(new_ckpt)"
   ]
  },
  {
   "cell_type": "markdown",
   "id": "5c84e7d8",
   "metadata": {},
   "source": [
    "## Model loaded --> Test features somehow"
   ]
  },
  {
   "cell_type": "code",
   "execution_count": 13,
   "id": "70f791bf",
   "metadata": {},
   "outputs": [
    {
     "name": "stdout",
     "output_type": "stream",
     "text": [
      "Creating dataloader...\n",
      "Len: 82\n"
     ]
    }
   ],
   "source": [
    "import os\n",
    "import torch\n",
    "from auxiliary.process_data.nuscenes.nuscenes_dataset import DatasetTrainVal\n",
    "\n",
    "print(\"Creating dataloader...\", flush=True)\n",
    "\n",
    "target = '/root/main/dataset/processed'\n",
    "\n",
    "filelist_train = [os.path.join(target, 'train_pointclouds', fname) for fname in os.listdir(os.path.join(target, 'train_pointclouds')) if os.path.splitext(fname)[1]==\".npy\"]\n",
    "filelist_train.sort()\n",
    "filelist_val = filelist_train[:3]\n",
    "filelist_train = filelist_train[3:]\n",
    "\n",
    "ds = DatasetTrainVal(filelist_train, os.path.join(target, 'train_pointclouds'),\n",
    "                            training=True,\n",
    "                            npoints=2000,\n",
    "                            iteration_number=(2*10)*10,\n",
    "                            jitter=0.2)\n",
    "train_loader = torch.utils.data.DataLoader(ds, batch_size=1, shuffle=False, # Change batch_size\n",
    "                                    num_workers=1)"
   ]
  },
  {
   "cell_type": "code",
   "execution_count": 18,
   "id": "ba2884a1",
   "metadata": {},
   "outputs": [
    {
     "name": "stdout",
     "output_type": "stream",
     "text": [
      "tensor([1244,  274,    0,    0,    0,    0,    0,  482])\n",
      "\n",
      "tensor([1191,  376,    0,    0,    0,    0,    0,  433])\n",
      "\n",
      "tensor([1149,  277,    0,    0,    0,    0,    0,  574])\n",
      "\n",
      "tensor([1139,  272,    0,    0,    0,    0,    0,  589])\n",
      "\n",
      "tensor([1059,  343,    0,    0,    0,    0,    0,  598])\n",
      "\n",
      "tensor([1264,  448,    0,    0,    0,    0,    0,  288])\n",
      "\n",
      "tensor([1208,   68,    0,    0,    0,    0,    0,  724])\n",
      "\n",
      "tensor([1421,  133,    0,    0,    0,    0,    0,  446])\n",
      "\n",
      "tensor([1095,  317,    0,    0,    0,    0,    0,  588])\n",
      "\n",
      "tensor([1157,  145,    0,    0,    0,    0,    0,  698])\n",
      "\n",
      "tensor([1089,  320,    0,    0,    0,    0,    0,  591])\n",
      "\n",
      "tensor([1084,  284,    0,    0,    0,    0,    0,  632])\n",
      "\n",
      "tensor([1059,  360,    0,    0,    0,    0,    0,  581])\n",
      "\n",
      "tensor([1114,  247,    0,    0,    0,    0,    0,  639])\n",
      "\n",
      "tensor([1138,  285,    0,    0,    0,    0,    0,  577])\n",
      "\n",
      "tensor([994, 552,   0,   0,   0,   0,   0, 454])\n"
     ]
    },
    {
     "ename": "KeyboardInterrupt",
     "evalue": "Interrupted by user",
     "output_type": "error",
     "traceback": [
      "\u001b[0;31m---------------------------------------------------------------------------\u001b[0m",
      "\u001b[0;31mKeyboardInterrupt\u001b[0m                         Traceback (most recent call last)",
      "\u001b[0;32m/tmp/ipykernel_18037/4137771631.py\u001b[0m in \u001b[0;36m<module>\u001b[0;34m\u001b[0m\n\u001b[1;32m      1\u001b[0m \u001b[0;32mfor\u001b[0m \u001b[0mt\u001b[0m \u001b[0;32min\u001b[0m \u001b[0mtrain_loader\u001b[0m\u001b[0;34m:\u001b[0m\u001b[0;34m\u001b[0m\u001b[0;34m\u001b[0m\u001b[0m\n\u001b[1;32m      2\u001b[0m     \u001b[0mprint\u001b[0m\u001b[0;34m(\u001b[0m\u001b[0mtorch\u001b[0m\u001b[0;34m.\u001b[0m\u001b[0mbincount\u001b[0m\u001b[0;34m(\u001b[0m\u001b[0mt\u001b[0m\u001b[0;34m[\u001b[0m\u001b[0;34m'target'\u001b[0m\u001b[0;34m]\u001b[0m\u001b[0;34m[\u001b[0m\u001b[0;36m0\u001b[0m\u001b[0;34m]\u001b[0m\u001b[0;34m)\u001b[0m\u001b[0;34m)\u001b[0m\u001b[0;34m\u001b[0m\u001b[0;34m\u001b[0m\u001b[0m\n\u001b[0;32m----> 3\u001b[0;31m     \u001b[0mx\u001b[0m \u001b[0;34m=\u001b[0m \u001b[0minput\u001b[0m\u001b[0;34m(\u001b[0m\u001b[0;34m)\u001b[0m\u001b[0;34m\u001b[0m\u001b[0;34m\u001b[0m\u001b[0m\n\u001b[0m",
      "\u001b[0;32m~/anaconda3/envs/3DLabelProp/lib/python3.7/site-packages/ipykernel/kernelbase.py\u001b[0m in \u001b[0;36mraw_input\u001b[0;34m(self, prompt)\u001b[0m\n\u001b[1;32m   1179\u001b[0m             \u001b[0mself\u001b[0m\u001b[0;34m.\u001b[0m\u001b[0m_parent_ident\u001b[0m\u001b[0;34m[\u001b[0m\u001b[0;34m\"shell\"\u001b[0m\u001b[0;34m]\u001b[0m\u001b[0;34m,\u001b[0m\u001b[0;34m\u001b[0m\u001b[0;34m\u001b[0m\u001b[0m\n\u001b[1;32m   1180\u001b[0m             \u001b[0mself\u001b[0m\u001b[0;34m.\u001b[0m\u001b[0mget_parent\u001b[0m\u001b[0;34m(\u001b[0m\u001b[0;34m\"shell\"\u001b[0m\u001b[0;34m)\u001b[0m\u001b[0;34m,\u001b[0m\u001b[0;34m\u001b[0m\u001b[0;34m\u001b[0m\u001b[0m\n\u001b[0;32m-> 1181\u001b[0;31m             \u001b[0mpassword\u001b[0m\u001b[0;34m=\u001b[0m\u001b[0;32mFalse\u001b[0m\u001b[0;34m,\u001b[0m\u001b[0;34m\u001b[0m\u001b[0;34m\u001b[0m\u001b[0m\n\u001b[0m\u001b[1;32m   1182\u001b[0m         )\n\u001b[1;32m   1183\u001b[0m \u001b[0;34m\u001b[0m\u001b[0m\n",
      "\u001b[0;32m~/anaconda3/envs/3DLabelProp/lib/python3.7/site-packages/ipykernel/kernelbase.py\u001b[0m in \u001b[0;36m_input_request\u001b[0;34m(self, prompt, ident, parent, password)\u001b[0m\n\u001b[1;32m   1217\u001b[0m             \u001b[0;32mexcept\u001b[0m \u001b[0mKeyboardInterrupt\u001b[0m\u001b[0;34m:\u001b[0m\u001b[0;34m\u001b[0m\u001b[0;34m\u001b[0m\u001b[0m\n\u001b[1;32m   1218\u001b[0m                 \u001b[0;31m# re-raise KeyboardInterrupt, to truncate traceback\u001b[0m\u001b[0;34m\u001b[0m\u001b[0;34m\u001b[0m\u001b[0;34m\u001b[0m\u001b[0m\n\u001b[0;32m-> 1219\u001b[0;31m                 \u001b[0;32mraise\u001b[0m \u001b[0mKeyboardInterrupt\u001b[0m\u001b[0;34m(\u001b[0m\u001b[0;34m\"Interrupted by user\"\u001b[0m\u001b[0;34m)\u001b[0m \u001b[0;32mfrom\u001b[0m \u001b[0;32mNone\u001b[0m\u001b[0;34m\u001b[0m\u001b[0;34m\u001b[0m\u001b[0m\n\u001b[0m\u001b[1;32m   1220\u001b[0m             \u001b[0;32mexcept\u001b[0m \u001b[0mException\u001b[0m\u001b[0;34m:\u001b[0m\u001b[0;34m\u001b[0m\u001b[0;34m\u001b[0m\u001b[0m\n\u001b[1;32m   1221\u001b[0m                 \u001b[0mself\u001b[0m\u001b[0;34m.\u001b[0m\u001b[0mlog\u001b[0m\u001b[0;34m.\u001b[0m\u001b[0mwarning\u001b[0m\u001b[0;34m(\u001b[0m\u001b[0;34m\"Invalid Message:\"\u001b[0m\u001b[0;34m,\u001b[0m \u001b[0mexc_info\u001b[0m\u001b[0;34m=\u001b[0m\u001b[0;32mTrue\u001b[0m\u001b[0;34m)\u001b[0m\u001b[0;34m\u001b[0m\u001b[0;34m\u001b[0m\u001b[0m\n",
      "\u001b[0;31mKeyboardInterrupt\u001b[0m: Interrupted by user"
     ]
    }
   ],
   "source": [
    "for t in train_loader:\n",
    "    print(torch.bincount(t['target'][0]))\n",
    "    x = input()"
   ]
  },
  {
   "cell_type": "code",
   "execution_count": 9,
   "id": "ca8d1725",
   "metadata": {},
   "outputs": [],
   "source": [
    "from plyfile import PlyData, PlyElement\n",
    "import numpy as np\n",
    "import os\n",
    "\n",
    "train_filenames = [\"Lille1_1.ply\",  \"Lille1_2.ply\",  \"Lille2.ply\",  \"Paris.ply\",]\n",
    "destdir = '/root/main/dataset/processed/'\n",
    "rootdir = '/root/main/dataset/'\n",
    "\n",
    "filenames = train_filenames\n",
    "save_dir = os.path.join(destdir,\"train_pointclouds\")\n",
    "pts_all = {}\n",
    "for filename in filenames:\n",
    "    fname = os.path.join(rootdir, \"training_10_classes\", filename)\n",
    "    plydata = PlyData.read(fname)\n",
    "    x = plydata[\"vertex\"].data[\"x\"].astype(np.float32)\n",
    "    y = plydata[\"vertex\"].data[\"y\"].astype(np.float32)\n",
    "    z = plydata[\"vertex\"].data[\"z\"].astype(np.float32)\n",
    "    reflectance = plydata[\"vertex\"].data[\"reflectance\"].astype(np.float32)\n",
    "    label = plydata[\"vertex\"].data[\"class\"].astype(np.float32)\n",
    "    pts = np.concatenate([\n",
    "        np.expand_dims(x,1),\n",
    "        np.expand_dims(y,1),\n",
    "        np.expand_dims(z,1),\n",
    "        np.expand_dims(reflectance,1),\n",
    "        np.expand_dims(label,1),\n",
    "    ], axis=1).astype(np.float32)\n",
    "    pts_all[filename] = pts"
   ]
  },
  {
   "cell_type": "code",
   "execution_count": 10,
   "id": "5dfc59a0",
   "metadata": {},
   "outputs": [
    {
     "data": {
      "text/plain": [
       "array([  83.03686 ,   83.05253 ,   83.117584, ..., -386.54715 ,\n",
       "       -386.5629  , -386.97958 ], dtype=float32)"
      ]
     },
     "execution_count": 10,
     "metadata": {},
     "output_type": "execute_result"
    }
   ],
   "source": [
    "pts_all[\"Lille1_1.ply\"][:,1]"
   ]
  },
  {
   "cell_type": "code",
   "execution_count": 11,
   "id": "6a6462b1",
   "metadata": {
    "scrolled": true
   },
   "outputs": [
    {
     "name": "stdout",
     "output_type": "stream",
     "text": [
      "-360.1785\n",
      "67.185555\n",
      "-412.13937\n",
      "101.893524\n",
      "32.78496\n",
      "66.74454\n"
     ]
    }
   ],
   "source": [
    "print(min(pts_all[\"Lille1_1.ply\"][:,0]))\n",
    "print(max(pts_all[\"Lille1_1.ply\"][:,0]))\n",
    "print(min(pts_all[\"Lille1_1.ply\"][:,1]))\n",
    "print(max(pts_all[\"Lille1_1.ply\"][:,1]))\n",
    "print(min(pts_all[\"Lille1_1.ply\"][:,2]))\n",
    "print(max(pts_all[\"Lille1_1.ply\"][:,2]))"
   ]
  },
  {
   "cell_type": "code",
   "execution_count": 13,
   "id": "4331e8b2",
   "metadata": {},
   "outputs": [
    {
     "data": {
      "text/plain": [
       "25.701644699999996"
      ]
     },
     "execution_count": 13,
     "metadata": {},
     "output_type": "execute_result"
    }
   ],
   "source": [
    "(101.893524 - (-412.13937))/20 "
   ]
  },
  {
   "cell_type": "code",
   "execution_count": 14,
   "id": "8e96dcc1",
   "metadata": {},
   "outputs": [
    {
     "data": {
      "text/plain": [
       "1500"
      ]
     },
     "execution_count": 14,
     "metadata": {},
     "output_type": "execute_result"
    }
   ],
   "source": [
    "20 * 25 * 3"
   ]
  },
  {
   "cell_type": "code",
   "execution_count": 16,
   "id": "8e7b17a3",
   "metadata": {},
   "outputs": [],
   "source": [
    "def voxelize_pointcloud(points, voxel_size):\n",
    "    \"\"\"\n",
    "    Voxelizes a point cloud.\n",
    "\n",
    "    Args:\n",
    "        points (np.ndarray): The point cloud as an Nx3 array of XYZ coordinates.\n",
    "        voxel_size (float): The size of the voxels (uniform along all axes).\n",
    "        \n",
    "    Returns:\n",
    "        voxel_indices (np.ndarray): The voxel indices for each point.\n",
    "        voxel_grid (dict): A dictionary where keys are voxel indices (tuples) and values are points in that voxel.\n",
    "    \"\"\"\n",
    "    # Normalize points by voxel size\n",
    "    voxel_indices = np.floor(points[:,:3] / voxel_size).astype(np.int32)\n",
    "    \n",
    "    # Create a dictionary to store points in each voxel\n",
    "    voxel_grid = {}\n",
    "    \n",
    "    for idx, voxel in tqdm(enumerate(voxel_indices)):\n",
    "        voxel_key = tuple(voxel)  # Use tuple to make it hashable for the dictionary\n",
    "        if voxel_key not in voxel_grid:\n",
    "            voxel_grid[voxel_key] = []\n",
    "        voxel_grid[voxel_key].append(points[idx])\n",
    "    \n",
    "    # Convert lists to arrays\n",
    "    for key in voxel_grid:\n",
    "        voxel_grid[key] = np.array(voxel_grid[key])\n",
    "    \n",
    "    return voxel_indices, voxel_grid"
   ]
  },
  {
   "cell_type": "code",
   "execution_count": 21,
   "id": "1b9efe65",
   "metadata": {},
   "outputs": [
    {
     "name": "stderr",
     "output_type": "stream",
     "text": [
      "30033430it [01:03, 469858.34it/s]\n"
     ]
    },
    {
     "name": "stdout",
     "output_type": "stream",
     "text": [
      "Voxel indices:\n",
      " [[1 4 2]\n",
      " [1 4 2]\n",
      " [1 4 2]\n",
      " [1 4 2]\n",
      " [1 4 2]\n",
      " [1 4 2]\n",
      " [1 4 2]\n",
      " [1 4 2]\n",
      " [1 4 2]\n",
      " [1 4 2]]\n",
      "\n",
      "Number of unique voxels: 147\n"
     ]
    }
   ],
   "source": [
    "from tqdm import tqdm\n",
    "#point_cloud = np.random.rand(1000, 3) * 100  # 1000 points in a 100x100x100 space\n",
    "voxel_size = 20.0  # Voxel size of 5 units\n",
    "\n",
    "# Voxelize the point cloud\n",
    "voxel_indices, voxel_grid = voxelize_pointcloud(pts_all[\"Lille1_1.ply\"], voxel_size)"
   ]
  },
  {
   "cell_type": "code",
   "execution_count": 27,
   "id": "83eac2cb",
   "metadata": {},
   "outputs": [
    {
     "name": "stdout",
     "output_type": "stream",
     "text": [
      "Voxel indices:\n",
      " [2 4 2]\n",
      "\n",
      "Number of unique voxels: 147\n"
     ]
    }
   ],
   "source": [
    "# Print some results\n",
    "print(\"Voxel indices:\\n\", voxel_indices[900])  # Show first 10 voxel indices\n",
    "print(\"\\nNumber of unique voxels:\", len(voxel_grid))"
   ]
  },
  {
   "cell_type": "code",
   "execution_count": 35,
   "id": "4679e124",
   "metadata": {},
   "outputs": [
    {
     "name": "stdout",
     "output_type": "stream",
     "text": [
      "\n",
      "Points in a specific voxel: 137409\n",
      "[   112   7322 124611      0      0   5252      0      0    112]\n",
      "\n",
      "Points in a specific voxel: 538482\n",
      "[  3266 340328 153348   4025      0      0   5988   1446  30081]\n",
      "\n",
      "Points in a specific voxel: 181\n",
      "[50 92 39]\n",
      "\n",
      "Points in a specific voxel: 25\n",
      "[ 0 25]\n",
      "\n",
      "Points in a specific voxel: 247\n",
      "[  4   0 243]\n",
      "\n",
      "Points in a specific voxel: 6\n",
      "[0 0 6]\n",
      "\n",
      "Points in a specific voxel: 522670\n",
      "[   510 222365 242290    382      0   6939      0      0  50184]\n",
      "\n",
      "Points in a specific voxel: 846415\n",
      "[  1142 370004 389402   1332      0   8646      0      0  75889]\n",
      "\n",
      "Points in a specific voxel: 122\n",
      "[  0   0 122]\n",
      "\n",
      "Points in a specific voxel: 51089\n",
      "[   61  1504 49479     0     0     0    45]\n",
      "\n",
      "Points in a specific voxel: 960760\n",
      "[   440 586447 255016   1551      0   2557   4577      0 104709   5463]\n",
      "\n",
      "Points in a specific voxel: 287051\n",
      "[  6363  55528 157370   3852      0      0  17028   1862   8393  36655]\n",
      "\n",
      "Points in a specific voxel: 697\n",
      "[  0   0  45   0   0   0   0   0   0 652]\n",
      "\n",
      "Points in a specific voxel: 461976\n",
      "[   428 114093 311927    292      0    349   3829      0  31058]\n",
      "\n",
      "Points in a specific voxel: 2\n",
      "[2]\n",
      "\n",
      "Points in a specific voxel: 474\n",
      "[  0 465   9]\n",
      "\n",
      "Points in a specific voxel: 72\n",
      "[ 0  0 72]\n",
      "\n",
      "Points in a specific voxel: 746584\n",
      "[   241 459321  44733   5988    905   1205 134361   1799  86857  11174]\n",
      "\n",
      "Points in a specific voxel: 2644\n",
      "[   0    0 2644]\n",
      "\n",
      "Points in a specific voxel: 56956\n",
      "[  259  2121 45341   854     0     0  6173     0     0  2208]\n",
      "\n",
      "Points in a specific voxel: 32\n",
      "[ 0  0  0  0  0  0 30  0  0  2]\n",
      "\n",
      "Points in a specific voxel: 725795\n",
      "[  2701 494101 165909   2580   1194   2539   6730      0  22059  27982]\n",
      "\n",
      "Points in a specific voxel: 26\n",
      "[ 0  0 26]\n",
      "\n",
      "Points in a specific voxel: 362\n",
      "[  0   0  16   0   0   0   0   0   0 346]\n",
      "\n",
      "Points in a specific voxel: 354846\n",
      "[    92 176286  49731   2180      0      0  25858      0   2182  98517]\n",
      "\n",
      "Points in a specific voxel: 4673\n",
      "[   2    0   28    0    0    0    0    0    0 4643]\n",
      "\n",
      "Points in a specific voxel: 288\n",
      "[  0   0  21   0   0   0   0   0   0 267]\n",
      "\n",
      "Points in a specific voxel: 169249\n",
      "[  892 97852 42696  5259     0    28     0     0  6837 15685]\n",
      "\n",
      "Points in a specific voxel: 888429\n",
      "[   563 608531  70588   3786   1281    298  76053      0  19752 107577]\n",
      "\n",
      "Points in a specific voxel: 35373\n",
      "[  236  3181   936     0     0     0 14385     0     0 16635]\n",
      "\n",
      "Points in a specific voxel: 2369\n",
      "[   0    0  294    0    0    0    0    0    0 2075]\n",
      "\n",
      "Points in a specific voxel: 499988\n",
      "[  3594 285333  53175      0      0   1025  54395      0  29174  73292]\n",
      "\n",
      "Points in a specific voxel: 744778\n",
      "[  1154 426407      0   4503      0      0 133103      0      0 179611]\n",
      "\n",
      "Points in a specific voxel: 14908\n",
      "[    0     0     0     0     0     0     0     0     0 14908]\n",
      "\n",
      "Points in a specific voxel: 169\n",
      "[  0   0   0   0   0   0   0   0   0 169]\n",
      "\n",
      "Points in a specific voxel: 111439\n",
      "[     5   2507 107348      0      0      0      0      0   1332    247]\n",
      "\n",
      "Points in a specific voxel: 852909\n",
      "[  1686 594098  57946      0      0    927  60792      0  12041 125419]\n",
      "\n",
      "Points in a specific voxel: 19859\n",
      "[  588  7717     0     0     0     0     0     0     0 11554]\n",
      "\n",
      "Points in a specific voxel: 12375\n",
      "[    2     0     0     0     0     0     0     0     0 12373]\n",
      "\n",
      "Points in a specific voxel: 349024\n",
      "[ 15957 130789      0    332      0      0  78954   2366      0 120626]\n",
      "\n",
      "Points in a specific voxel: 643\n",
      "[  0   0   0   0   0   0   0   0   0 643]\n",
      "\n",
      "Points in a specific voxel: 16965\n",
      "[    0     0     0     0     0     0     0     0     0 16965]\n",
      "\n",
      "Points in a specific voxel: 229769\n",
      "[   13 80709 98415  1646     0     0 11546     0  1668 35772]\n",
      "\n",
      "Points in a specific voxel: 408\n",
      "[  1  52 355]\n",
      "\n",
      "Points in a specific voxel: 942048\n",
      "[ 15691 670410      0  27047      0      0 106682      0    172 122046]\n",
      "\n",
      "Points in a specific voxel: 324\n",
      "[  0   0 324]\n",
      "\n",
      "Points in a specific voxel: 8976\n",
      "[   0    0    0    0    0    0    0    0    0 8976]\n",
      "\n",
      "Points in a specific voxel: 1265\n",
      "[ 146 1110    0    9]\n",
      "\n",
      "Points in a specific voxel: 110938\n",
      "[ 3051  7557 42619   151     0     0 11952     0     0 45608]\n",
      "\n",
      "Points in a specific voxel: 6575\n",
      "[   0 3819  126    0    0    0    0    0 1672  958]\n",
      "\n",
      "Points in a specific voxel: 1723\n",
      "[   0    0    0    0    0    0    0    0    0 1723]\n",
      "\n",
      "Points in a specific voxel: 443768\n",
      "[    68 262247 137942   3099      0      0      0   1931     78  38403]\n",
      "\n",
      "Points in a specific voxel: 948\n",
      "[  0   0 948]\n",
      "\n",
      "Points in a specific voxel: 658177\n",
      "[ 19577 389306  76007   4410      0      0 149563   1790   3298  14226]\n",
      "\n",
      "Points in a specific voxel: 68\n",
      "[ 0  0 68]\n",
      "\n",
      "Points in a specific voxel: 46829\n",
      "[    0  4313 42516]\n",
      "\n",
      "Points in a specific voxel: 28567\n",
      "[ 1154 10201     0     0     0     0     0     0   376 16836]\n",
      "\n",
      "Points in a specific voxel: 627904\n",
      "[   329 439709 128497    421      0      0  44553   2680   9391   2324]\n",
      "\n",
      "Points in a specific voxel: 238968\n",
      "[  1880 217465      0   4209      0    914  10682      0      0   3818]\n",
      "\n",
      "Points in a specific voxel: 172006\n",
      "[  1094  31541 137838      0      0      0      0      0   1533]\n",
      "\n",
      "Points in a specific voxel: 2821\n",
      "[   0 2821]\n",
      "\n",
      "Points in a specific voxel: 571885\n",
      "[  3609 501313  35347    517      0      0  13834      0  12356   4909]\n",
      "\n",
      "Points in a specific voxel: 51327\n",
      "[  905 43938     0   369     0   266     0     0     0  5849]\n",
      "\n",
      "Points in a specific voxel: 350318\n",
      "[  1193 247144   1132   1441      0      0  60543      0      0  38865]\n",
      "\n",
      "Points in a specific voxel: 2677\n",
      "[  14    0 2015    0    0    0    0    0    0  648]\n",
      "\n",
      "Points in a specific voxel: 213\n",
      "[  0   0   0   0   0   0   0   0   0 213]\n",
      "\n",
      "Points in a specific voxel: 386700\n",
      "[  5569 315099      0   4822      0      0   1393      0  28423  31394]\n",
      "\n",
      "Points in a specific voxel: 74400\n",
      "[   63  1810 71248     0     0     0   386     0     0   893]\n",
      "\n",
      "Points in a specific voxel: 720214\n",
      "[  3171 414451 242270   3672      0    775   3244      0  52631]\n",
      "\n",
      "Points in a specific voxel: 25976\n",
      "[    8  5411     0     0     0     0     0     0     0 20557]\n",
      "\n",
      "Points in a specific voxel: 210923\n",
      "[ 45171 132477      0    606   1136      0    864      0      0  30669]\n",
      "\n",
      "Points in a specific voxel: 216999\n",
      "[   167  33866 139862      0      0    775  27394   1099  13836]\n",
      "\n",
      "Points in a specific voxel: 49\n",
      "[ 0  0 49]\n",
      "\n",
      "Points in a specific voxel: 1657\n",
      "[   0    0    0    0    0    0    0    0    0 1657]\n",
      "\n",
      "Points in a specific voxel: 691424\n",
      "[  3549 607734  33542   5269      0    471      0    850  27732  12277]\n",
      "\n",
      "Points in a specific voxel: 500738\n",
      "[   300 255744 226975    456    246   1155      0      0  15862]\n",
      "\n",
      "Points in a specific voxel: 5507\n",
      "[   0  266 5241]\n",
      "\n",
      "Points in a specific voxel: 84129\n",
      "[   16 56912     0   815     0     0     0     0     0 26386]\n",
      "\n",
      "Points in a specific voxel: 563236\n",
      "[   636 487317      0  12461      0      0    889      0      0  61933]\n",
      "\n",
      "Points in a specific voxel: 126609\n",
      "[   280  10988 114869    472]\n",
      "\n",
      "Points in a specific voxel: 28071\n",
      "[ 2844 20165     0     0     0     0     0     0     0  5062]\n",
      "\n",
      "Points in a specific voxel: 42\n",
      "[ 0  0  0  0  0  0  0  0  0 42]\n",
      "\n",
      "Points in a specific voxel: 602325\n",
      "[   223 488689  93724    339      0      0      0      0  19350]\n",
      "\n",
      "Points in a specific voxel: 212231\n",
      "[    52  29484 172010      0      0      0      0      0  10685]\n",
      "\n",
      "Points in a specific voxel: 313611\n",
      "[  9964 293360      0   4435      0      0   1572      0   4280]\n",
      "\n",
      "Points in a specific voxel: 15006\n",
      "[  13 6254    0    0    0 1082    0    0 2629 5028]\n",
      "\n",
      "Points in a specific voxel: 655776\n",
      "[   228 589855  53596     31      0      0      0      0  12066]\n",
      "\n",
      "Points in a specific voxel: 332574\n",
      "[   147 196722      0   4185      0   1453      0      0      0 130067]\n",
      "\n",
      "Points in a specific voxel: 197135\n",
      "[   611  79355 111521   1123      0      0    143    467    706   3209]\n",
      "\n",
      "Points in a specific voxel: 91\n",
      "[ 0  0 91]\n",
      "\n",
      "Points in a specific voxel: 686066\n",
      "[   189 610659      0   2296    408      0   2956      0     56  69502]\n",
      "\n",
      "Points in a specific voxel: 6302\n",
      "[   0 3193  604    0    0    0 1246    0    0 1259]\n",
      "\n",
      "Points in a specific voxel: 252452\n",
      "[  2629 180801  46374   3953      0      0    669      0  14968   3058]\n",
      "\n",
      "Points in a specific voxel: 3226\n",
      "[  19  697 1218    0    0    0  690    0  602]\n",
      "\n",
      "Points in a specific voxel: 204895\n",
      "[  725 54467 94904     0     0     0 15365     0 14618 24816]\n",
      "\n",
      "Points in a specific voxel: 619200\n",
      "[  1036 511049  42733   1398      0      0   1379      0  54779   6826]\n",
      "\n",
      "Points in a specific voxel: 60858\n",
      "[    0  3737 57121]\n",
      "\n",
      "Points in a specific voxel: 130241\n",
      "[  865 34166 27647     0     0  2302  6105     0  3269 55887]\n",
      "\n",
      "Points in a specific voxel: 2689\n",
      "[   0    0 2689]\n",
      "\n",
      "Points in a specific voxel: 407354\n",
      "[   561 189797 149522   3341      0      0   4197      0  41245  18691]\n",
      "\n",
      "Points in a specific voxel: 755070\n",
      "[   582 380366 283572      0      0   2952   4343      0  74083   9172]\n",
      "\n",
      "Points in a specific voxel: 3\n",
      "[3]\n",
      "\n",
      "Points in a specific voxel: 4439\n",
      "[   0  181 3576    0    0    0  206    0    0  476]\n",
      "\n",
      "Points in a specific voxel: 637930\n",
      "[  6185 272954 305432   3246      0   3095      0      0  47018]\n",
      "\n",
      "Points in a specific voxel: 38823\n",
      "[   65   609 38149]\n",
      "\n",
      "Points in a specific voxel: 581160\n",
      "[   622 295106 191697      0      0    757  15649      0  44371  32958]\n",
      "\n",
      "Points in a specific voxel: 1\n",
      "[1]\n",
      "\n",
      "Points in a specific voxel: 5\n",
      "[5]\n",
      "\n",
      "Points in a specific voxel: 13\n",
      "[13]\n",
      "\n",
      "Points in a specific voxel: 31297\n",
      "[ 3175 19661  5192   516     0     0     0     0  2753]\n",
      "\n",
      "Points in a specific voxel: 70887\n",
      "[    2  1686 69188     0     0     0     0     0     0    11]\n",
      "\n",
      "Points in a specific voxel: 689081\n",
      "[  8710 455907 203631   4222      0   2403   1737      0  12471]\n",
      "\n",
      "Points in a specific voxel: 1\n",
      "[1]\n",
      "\n",
      "Points in a specific voxel: 478475\n",
      "[   428 190627 233375    588      0   3992  24559      0  21434   3472]\n",
      "\n",
      "Points in a specific voxel: 124289\n",
      "[    46   9423 114820]\n",
      "\n",
      "Points in a specific voxel: 874382\n",
      "[   797 485237 281884   4022      0   7060  10441      0  60982  23959]\n",
      "\n",
      "Points in a specific voxel: 11\n",
      "[11]\n",
      "\n",
      "Points in a specific voxel: 20917\n",
      "[    0     0 20917]\n",
      "\n",
      "Points in a specific voxel: 340116\n",
      "[   587 112828 197320    622      0   1037  10819      0   4140  12763]\n",
      "\n",
      "Points in a specific voxel: 29\n",
      "[29]\n",
      "\n",
      "Points in a specific voxel: 215436\n",
      "[  1862  39304 159495      0      0      0      0      0  14775]\n",
      "\n",
      "Points in a specific voxel: 26\n",
      "[ 0  0 26]\n",
      "\n",
      "Points in a specific voxel: 213\n",
      "[  1 212]\n",
      "\n",
      "Points in a specific voxel: 14924\n",
      "[   60 14859     0     0     0     0     0     0     5]\n",
      "\n",
      "Points in a specific voxel: 1968\n",
      "[   4 1964]\n",
      "\n",
      "Points in a specific voxel: 319687\n",
      "[   657 211808   8346      0      0    223      0      0  70029  28624]\n",
      "\n",
      "Points in a specific voxel: 7062\n",
      "[  22  215 5831    0    0    0    0    0    0  994]\n",
      "\n",
      "Points in a specific voxel: 194688\n",
      "[   886   2534 116668   3194      0   1370      0      0  13862  56174]\n",
      "\n",
      "Points in a specific voxel: 2770\n",
      "[   0 2667  103]\n",
      "\n",
      "Points in a specific voxel: 372107\n",
      "[   433 370192      0      0      0      0      0      0   1482]\n",
      "\n",
      "Points in a specific voxel: 348132\n",
      "[    84      0 309591   3339      0   3380      0      0  30879    859]\n",
      "\n",
      "Points in a specific voxel: 3679\n",
      "[   1    0 3678]\n",
      "\n",
      "Points in a specific voxel: 121419\n",
      "[   791 105277  11260      0      0    726      0      0   3365]\n",
      "\n",
      "Points in a specific voxel: 27578\n",
      "[  150 24251     0    44     0   125     0     0  1050  1958]\n",
      "\n",
      "Points in a specific voxel: 186878\n",
      "[  618     0 49965 10898     0     0  4529     0 33499 87369]\n",
      "\n",
      "Points in a specific voxel: 660555\n",
      "[   771 635501   1521    303      0      0   5084      0  13600   3775]\n",
      "\n",
      "Points in a specific voxel: 184721\n",
      "[  1950      0   7672   5417      0      0  12365      0    569 156748]\n",
      "\n",
      "Points in a specific voxel: 102189\n",
      "[  245     3 79380     0     0   757     0     0   648 21156]\n",
      "\n",
      "Points in a specific voxel: 5523\n",
      "[  99    0 1349    0    0    0    0    0    0 4075]\n",
      "\n",
      "Points in a specific voxel: 319\n",
      "[  0   0   0   0   0   0   0   0   0 319]\n",
      "\n",
      "Points in a specific voxel: 171\n",
      "[  0 171]\n",
      "\n",
      "Points in a specific voxel: 15342\n",
      "[ 192 9014  458    0    0  217    0    0   28 5433]\n",
      "\n",
      "Points in a specific voxel: 309240\n",
      "[  1128 282299    711    802   2565      0  20648      0    822    265]\n",
      "\n",
      "Points in a specific voxel: 1209\n",
      "[210 997   2]\n",
      "\n",
      "Points in a specific voxel: 5740\n",
      "[   0    0    0    0    0   19    0    0 4552 1169]\n",
      "\n",
      "Points in a specific voxel: 29354\n",
      "[   90 22416     0     0     0     3     0     0  5828  1017]\n",
      "\n",
      "Points in a specific voxel: 2\n",
      "[0 2]\n"
     ]
    }
   ],
   "source": [
    "for i in list(voxel_grid.keys()):\n",
    "    print(\"\\nPoints in a specific voxel:\", len(voxel_grid[i]))\n",
    "    print(np.bincount(voxel_grid[i][:,4].astype(np.int64)))"
   ]
  },
  {
   "cell_type": "code",
   "execution_count": 30,
   "id": "d933654c",
   "metadata": {},
   "outputs": [
    {
     "ename": "TypeError",
     "evalue": "'dict_keys' object is not subscriptable",
     "output_type": "error",
     "traceback": [
      "\u001b[0;31m---------------------------------------------------------------------------\u001b[0m",
      "\u001b[0;31mTypeError\u001b[0m                                 Traceback (most recent call last)",
      "\u001b[0;32m/tmp/ipykernel_18499/700279709.py\u001b[0m in \u001b[0;36m<module>\u001b[0;34m\u001b[0m\n\u001b[0;32m----> 1\u001b[0;31m \u001b[0mprint\u001b[0m\u001b[0;34m(\u001b[0m\u001b[0mvoxel_grid\u001b[0m\u001b[0;34m[\u001b[0m\u001b[0mvoxel_grid\u001b[0m\u001b[0;34m.\u001b[0m\u001b[0mkeys\u001b[0m\u001b[0;34m(\u001b[0m\u001b[0;34m)\u001b[0m\u001b[0;34m[\u001b[0m\u001b[0;36m0\u001b[0m\u001b[0;34m]\u001b[0m\u001b[0;34m]\u001b[0m\u001b[0;34m)\u001b[0m\u001b[0;34m\u001b[0m\u001b[0;34m\u001b[0m\u001b[0m\n\u001b[0m",
      "\u001b[0;31mTypeError\u001b[0m: 'dict_keys' object is not subscriptable"
     ]
    }
   ],
   "source": [
    "print(voxel_grid[])"
   ]
  }
 ],
 "metadata": {
  "kernelspec": {
   "display_name": "3DLabelProp",
   "language": "python",
   "name": "3dlabelprop"
  },
  "language_info": {
   "codemirror_mode": {
    "name": "ipython",
    "version": 3
   },
   "file_extension": ".py",
   "mimetype": "text/x-python",
   "name": "python",
   "nbconvert_exporter": "python",
   "pygments_lexer": "ipython3",
   "version": "3.7.16"
  }
 },
 "nbformat": 4,
 "nbformat_minor": 5
}
