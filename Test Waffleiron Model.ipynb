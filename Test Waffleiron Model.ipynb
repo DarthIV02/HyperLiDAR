{
 "cells": [
  {
   "cell_type": "markdown",
   "id": "7bd417ca",
   "metadata": {},
   "source": [
    "# Test WaffleIron Model"
   ]
  },
  {
   "cell_type": "code",
   "execution_count": 2,
   "id": "3afc500f",
   "metadata": {},
   "outputs": [],
   "source": [
    "from models.waffleiron.segmenter import Segmenter"
   ]
  },
  {
   "cell_type": "code",
   "execution_count": 3,
   "id": "12df3ee2",
   "metadata": {},
   "outputs": [],
   "source": [
    "model = Segmenter(\n",
    "    input_channels=5,\n",
    "    feat_channels=768,\n",
    "    depth=48,\n",
    "    grid_shape=[[256, 256], [256, 32], [256, 32]],\n",
    "    nb_class=1024,\n",
    "    #drop_path_prob=config[\"waffleiron\"][\"drop_path\"],\n",
    "    layer_norm=True,\n",
    ")"
   ]
  },
  {
   "cell_type": "code",
   "execution_count": null,
   "id": "ff7e82e0",
   "metadata": {},
   "outputs": [],
   "source": [
    "# Load pretrained model\n",
    "ckpt = torch.load(args.pretrained_ckpt, map_location=\"cpu\")\n",
    "if ckpt.get(\"model_points\") is not None:\n",
    "    ckpt = ckpt[\"model_points\"]\n",
    "else:\n",
    "    ckpt = ckpt[\"model_point\"]\n",
    "new_ckpt = {}\n",
    "for k in ckpt.keys():\n",
    "    if k.startswith(\"module\"):\n",
    "        new_ckpt[k[len(\"module.\") :]] = ckpt[k]\n",
    "    else:\n",
    "        new_ckpt[k] = ckpt[k]\n",
    "model.classif = torch.nn.Conv1d(\n",
    "    config[\"waffleiron\"][\"nb_channels\"], config[\"waffleiron\"][\"pretrain_dim\"], 1\n",
    ")\n",
    "model.load_state_dict(new_ckpt)"
   ]
  }
 ],
 "metadata": {
  "kernelspec": {
   "display_name": "3DLabelProp3D",
   "language": "python",
   "name": "3dlabelprop3d"
  },
  "language_info": {
   "codemirror_mode": {
    "name": "ipython",
    "version": 3
   },
   "file_extension": ".py",
   "mimetype": "text/x-python",
   "name": "python",
   "nbconvert_exporter": "python",
   "pygments_lexer": "ipython3",
   "version": "3.7.16"
  }
 },
 "nbformat": 4,
 "nbformat_minor": 5
}
