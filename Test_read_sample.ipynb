{
 "cells": [
  {
   "cell_type": "code",
   "execution_count": 9,
   "id": "5a1f2122-259b-4e14-975f-c59cd1f904c7",
   "metadata": {},
   "outputs": [
    {
     "name": "stdout",
     "output_type": "stream",
     "text": [
      "======\n",
      "Loading NuScenes tables for version v1.0-mini...\n",
      "Loading nuScenes-lidarseg...\n",
      "32 category,\n",
      "8 attribute,\n",
      "4 visibility,\n",
      "911 instance,\n",
      "12 sensor,\n",
      "120 calibrated_sensor,\n",
      "31206 ego_pose,\n",
      "8 log,\n",
      "10 scene,\n",
      "404 sample,\n",
      "31206 sample_data,\n",
      "18538 sample_annotation,\n",
      "4 map,\n",
      "404 lidarseg,\n",
      "Done loading in 0.860 seconds.\n",
      "======\n",
      "Reverse indexing ...\n",
      "Done reverse indexing in 0.2 seconds.\n",
      "======\n"
     ]
    }
   ],
   "source": [
    "from nuscenes import NuScenes\n",
    "import os\n",
    "import numpy as np\n",
    "\n",
    "nusc = NuScenes(version='v1.0-mini', dataroot='/root/main/dataset/nuscenes/', verbose=True)\n",
    "\n",
    "array = []\n",
    "for i in range(int(len(nusc.sample)*0.70), int(len(nusc.sample)*0.85)):\n",
    "    base = nusc.sample[i]\n",
    "    for j, f in enumerate(os.listdir('/root/main/dataset/nuscenes/samples/LIDAR_TOP')):\n",
    "        if f[42:-8] == str(base['timestamp']):\n",
    "            break\n",
    "    sample = 'samples/LIDAR_TOP/' + f\n",
    "    lidarseg = 'lidarseg/v1.0-mini/' + base['data']['LIDAR_TOP'] + '_lidarseg.bin'\n",
    "    token = base['data']['LIDAR_TOP']\n",
    "    array.append([sample, lidarseg, token])\n",
    "list_frames = array"
   ]
  },
  {
   "cell_type": "code",
   "execution_count": 7,
   "id": "202f0a64-4bfb-48f9-8aed-dde93bc55700",
   "metadata": {},
   "outputs": [
    {
     "data": {
      "text/plain": [
       "[['samples/LIDAR_TOP/n015-2018-10-08-15-36-50+0800__LIDAR_TOP__1538984253447765.pcd.bin',\n",
       "  'lidarseg/v1.0-mini/76c090ac27774e66a592f40998d5537c_lidarseg.bin',\n",
       "  '76c090ac27774e66a592f40998d5537c'],\n",
       " ['samples/LIDAR_TOP/n015-2018-11-21-19-38-26+0800__LIDAR_TOP__1542800367947576.pcd.bin',\n",
       "  'lidarseg/v1.0-mini/5e8bbadecb8640c69a12857c6992f44c_lidarseg.bin',\n",
       "  '5e8bbadecb8640c69a12857c6992f44c'],\n",
       " ['samples/LIDAR_TOP/n015-2018-11-21-19-38-26+0800__LIDAR_TOP__1542800368447460.pcd.bin',\n",
       "  'lidarseg/v1.0-mini/77a132cf54f84881bdc8800e82068d4a_lidarseg.bin',\n",
       "  '77a132cf54f84881bdc8800e82068d4a'],\n",
       " ['samples/LIDAR_TOP/n015-2018-11-21-19-38-26+0800__LIDAR_TOP__1542800368948430.pcd.bin',\n",
       "  'lidarseg/v1.0-mini/6e9f7877390a4533a6bbf711516173a1_lidarseg.bin',\n",
       "  '6e9f7877390a4533a6bbf711516173a1'],\n",
       " ['samples/LIDAR_TOP/n015-2018-11-21-19-38-26+0800__LIDAR_TOP__1542800369448339.pcd.bin',\n",
       "  'lidarseg/v1.0-mini/560181e1085341a3a6edfd87710dc312_lidarseg.bin',\n",
       "  '560181e1085341a3a6edfd87710dc312'],\n",
       " ['samples/LIDAR_TOP/n015-2018-11-21-19-38-26+0800__LIDAR_TOP__1542800369949334.pcd.bin',\n",
       "  'lidarseg/v1.0-mini/8aa1a7754d6847d691685d29ee05ca33_lidarseg.bin',\n",
       "  '8aa1a7754d6847d691685d29ee05ca33'],\n",
       " ['samples/LIDAR_TOP/n015-2018-11-21-19-38-26+0800__LIDAR_TOP__1542800370450291.pcd.bin',\n",
       "  'lidarseg/v1.0-mini/3fae29536ac04b02a45fe07a4a994bdf_lidarseg.bin',\n",
       "  '3fae29536ac04b02a45fe07a4a994bdf'],\n",
       " ['samples/LIDAR_TOP/n015-2018-11-21-19-38-26+0800__LIDAR_TOP__1542800370949037.pcd.bin',\n",
       "  'lidarseg/v1.0-mini/41e8be1595df455aa74ae631ec869fc9_lidarseg.bin',\n",
       "  '41e8be1595df455aa74ae631ec869fc9'],\n",
       " ['samples/LIDAR_TOP/n015-2018-11-21-19-38-26+0800__LIDAR_TOP__1542800371448359.pcd.bin',\n",
       "  'lidarseg/v1.0-mini/e6eca216565a4620916ef5103cefe401_lidarseg.bin',\n",
       "  'e6eca216565a4620916ef5103cefe401'],\n",
       " ['samples/LIDAR_TOP/n015-2018-11-21-19-38-26+0800__LIDAR_TOP__1542800371948272.pcd.bin',\n",
       "  'lidarseg/v1.0-mini/3d7b552d1e3741509d844bf4b6791962_lidarseg.bin',\n",
       "  '3d7b552d1e3741509d844bf4b6791962'],\n",
       " ['samples/LIDAR_TOP/n015-2018-11-21-19-38-26+0800__LIDAR_TOP__1542800372397808.pcd.bin',\n",
       "  'lidarseg/v1.0-mini/6e5a2f9bc359433a9bc821d8558c85d3_lidarseg.bin',\n",
       "  '6e5a2f9bc359433a9bc821d8558c85d3'],\n",
       " ['samples/LIDAR_TOP/n015-2018-11-21-19-38-26+0800__LIDAR_TOP__1542800372948008.pcd.bin',\n",
       "  'lidarseg/v1.0-mini/0af1568c817a44048cfc67879f893f35_lidarseg.bin',\n",
       "  '0af1568c817a44048cfc67879f893f35'],\n",
       " ['samples/LIDAR_TOP/n015-2018-11-21-19-38-26+0800__LIDAR_TOP__1542800373447883.pcd.bin',\n",
       "  'lidarseg/v1.0-mini/86e42829043946a4bdbafa460919177b_lidarseg.bin',\n",
       "  '86e42829043946a4bdbafa460919177b'],\n",
       " ['samples/LIDAR_TOP/n015-2018-11-21-19-38-26+0800__LIDAR_TOP__1542800373947765.pcd.bin',\n",
       "  'lidarseg/v1.0-mini/80394e6e6f4d448184d03965a87fa413_lidarseg.bin',\n",
       "  '80394e6e6f4d448184d03965a87fa413'],\n",
       " ['samples/LIDAR_TOP/n015-2018-11-21-19-38-26+0800__LIDAR_TOP__1542800374447637.pcd.bin',\n",
       "  'lidarseg/v1.0-mini/c7f57453fbdc4fd08bb36f65f17f469a_lidarseg.bin',\n",
       "  'c7f57453fbdc4fd08bb36f65f17f469a'],\n",
       " ['samples/LIDAR_TOP/n015-2018-11-21-19-38-26+0800__LIDAR_TOP__1542800374947539.pcd.bin',\n",
       "  'lidarseg/v1.0-mini/c781207aebcb4b95ba9cc12ba30c44cb_lidarseg.bin',\n",
       "  'c781207aebcb4b95ba9cc12ba30c44cb'],\n",
       " ['samples/LIDAR_TOP/n015-2018-11-21-19-38-26+0800__LIDAR_TOP__1542800375447384.pcd.bin',\n",
       "  'lidarseg/v1.0-mini/6a2893ec6f1e4fc5a79f1709e88b0cd4_lidarseg.bin',\n",
       "  '6a2893ec6f1e4fc5a79f1709e88b0cd4'],\n",
       " ['samples/LIDAR_TOP/n015-2018-11-21-19-38-26+0800__LIDAR_TOP__1542800375947245.pcd.bin',\n",
       "  'lidarseg/v1.0-mini/5b219d0ca20446c68746b4ae3ce98eba_lidarseg.bin',\n",
       "  '5b219d0ca20446c68746b4ae3ce98eba'],\n",
       " ['samples/LIDAR_TOP/n015-2018-11-21-19-38-26+0800__LIDAR_TOP__1542800376447154.pcd.bin',\n",
       "  'lidarseg/v1.0-mini/3496cb2b32094b76bffff3c253463b3b_lidarseg.bin',\n",
       "  '3496cb2b32094b76bffff3c253463b3b'],\n",
       " ['samples/LIDAR_TOP/n015-2018-11-21-19-38-26+0800__LIDAR_TOP__1542800376947003.pcd.bin',\n",
       "  'lidarseg/v1.0-mini/db9c2232838d48c5968c5ace0b129f53_lidarseg.bin',\n",
       "  'db9c2232838d48c5968c5ace0b129f53'],\n",
       " ['samples/LIDAR_TOP/n015-2018-11-21-19-38-26+0800__LIDAR_TOP__1542800377447456.pcd.bin',\n",
       "  'lidarseg/v1.0-mini/ba504fabcb6d4eaa9cf4b33a49f99f9f_lidarseg.bin',\n",
       "  'ba504fabcb6d4eaa9cf4b33a49f99f9f'],\n",
       " ['samples/LIDAR_TOP/n015-2018-11-21-19-38-26+0800__LIDAR_TOP__1542800377898133.pcd.bin',\n",
       "  'lidarseg/v1.0-mini/a6b5ca4ced94480e91e4ff7fe141bcc6_lidarseg.bin',\n",
       "  'a6b5ca4ced94480e91e4ff7fe141bcc6'],\n",
       " ['samples/LIDAR_TOP/n015-2018-11-21-19-38-26+0800__LIDAR_TOP__1542800378397983.pcd.bin',\n",
       "  'lidarseg/v1.0-mini/95621ad99e9c4d6eba093c260c5fb92f_lidarseg.bin',\n",
       "  '95621ad99e9c4d6eba093c260c5fb92f'],\n",
       " ['samples/LIDAR_TOP/n015-2018-11-21-19-38-26+0800__LIDAR_TOP__1542800378897841.pcd.bin',\n",
       "  'lidarseg/v1.0-mini/a04994887b474a3f9e5b2d28e65f7e78_lidarseg.bin',\n",
       "  'a04994887b474a3f9e5b2d28e65f7e78'],\n",
       " ['samples/LIDAR_TOP/n015-2018-11-21-19-38-26+0800__LIDAR_TOP__1542800379397716.pcd.bin',\n",
       "  'lidarseg/v1.0-mini/07e8a798a39b49d6bd35d53156e64232_lidarseg.bin',\n",
       "  '07e8a798a39b49d6bd35d53156e64232'],\n",
       " ['samples/LIDAR_TOP/n015-2018-11-21-19-38-26+0800__LIDAR_TOP__1542800379897591.pcd.bin',\n",
       "  'lidarseg/v1.0-mini/f64be8fc951b4a77a4e1895188df261e_lidarseg.bin',\n",
       "  'f64be8fc951b4a77a4e1895188df261e'],\n",
       " ['samples/LIDAR_TOP/n015-2018-11-21-19-38-26+0800__LIDAR_TOP__1542800380398024.pcd.bin',\n",
       "  'lidarseg/v1.0-mini/9d65676f67ae42e688e0b0db45b927bf_lidarseg.bin',\n",
       "  '9d65676f67ae42e688e0b0db45b927bf'],\n",
       " ['samples/LIDAR_TOP/n015-2018-11-21-19-38-26+0800__LIDAR_TOP__1542800380947696.pcd.bin',\n",
       "  'lidarseg/v1.0-mini/9f4ac54175b143f7aa42c23b86bba95b_lidarseg.bin',\n",
       "  '9f4ac54175b143f7aa42c23b86bba95b'],\n",
       " ['samples/LIDAR_TOP/n015-2018-11-21-19-38-26+0800__LIDAR_TOP__1542800381448102.pcd.bin',\n",
       "  'lidarseg/v1.0-mini/d9ee706fc0e1481a82e1d1d2788b38f1_lidarseg.bin',\n",
       "  'd9ee706fc0e1481a82e1d1d2788b38f1'],\n",
       " ['samples/LIDAR_TOP/n015-2018-11-21-19-38-26+0800__LIDAR_TOP__1542800381897652.pcd.bin',\n",
       "  'lidarseg/v1.0-mini/73049bc284734389a16cd36f58cff3d7_lidarseg.bin',\n",
       "  '73049bc284734389a16cd36f58cff3d7'],\n",
       " ['samples/LIDAR_TOP/n015-2018-11-21-19-38-26+0800__LIDAR_TOP__1542800382397543.pcd.bin',\n",
       "  'lidarseg/v1.0-mini/eb8c268a648e47a1986867e1262f868f_lidarseg.bin',\n",
       "  'eb8c268a648e47a1986867e1262f868f'],\n",
       " ['samples/LIDAR_TOP/n015-2018-11-21-19-38-26+0800__LIDAR_TOP__1542800382897959.pcd.bin',\n",
       "  'lidarseg/v1.0-mini/bcd2da1ef3ed45b185fd2fbb492d5122_lidarseg.bin',\n",
       "  'bcd2da1ef3ed45b185fd2fbb492d5122'],\n",
       " ['samples/LIDAR_TOP/n015-2018-11-21-19-38-26+0800__LIDAR_TOP__1542800383397856.pcd.bin',\n",
       "  'lidarseg/v1.0-mini/4bbfaebece7b4af9914dca6630b0610e_lidarseg.bin',\n",
       "  '4bbfaebece7b4af9914dca6630b0610e'],\n",
       " ['samples/LIDAR_TOP/n015-2018-11-21-19-38-26+0800__LIDAR_TOP__1542800383897713.pcd.bin',\n",
       "  'lidarseg/v1.0-mini/06c93d995da14560be10806aa0506984_lidarseg.bin',\n",
       "  '06c93d995da14560be10806aa0506984'],\n",
       " ['samples/LIDAR_TOP/n015-2018-11-21-19-38-26+0800__LIDAR_TOP__1542800384397580.pcd.bin',\n",
       "  'lidarseg/v1.0-mini/22ede9793684495b91c953ffe2707ddc_lidarseg.bin',\n",
       "  '22ede9793684495b91c953ffe2707ddc'],\n",
       " ['samples/LIDAR_TOP/n015-2018-11-21-19-38-26+0800__LIDAR_TOP__1542800384947787.pcd.bin',\n",
       "  'lidarseg/v1.0-mini/ce808765ee7e47a09ea677ccbc58aefd_lidarseg.bin',\n",
       "  'ce808765ee7e47a09ea677ccbc58aefd'],\n",
       " ['samples/LIDAR_TOP/n015-2018-11-21-19-38-26+0800__LIDAR_TOP__1542800385448218.pcd.bin',\n",
       "  'lidarseg/v1.0-mini/9b69e262837d4fb59eb3f00a930e1e5a_lidarseg.bin',\n",
       "  '9b69e262837d4fb59eb3f00a930e1e5a'],\n",
       " ['samples/LIDAR_TOP/n015-2018-11-21-19-38-26+0800__LIDAR_TOP__1542800385948086.pcd.bin',\n",
       "  'lidarseg/v1.0-mini/05afff45782640739984210fc595c3a6_lidarseg.bin',\n",
       "  '05afff45782640739984210fc595c3a6'],\n",
       " ['samples/LIDAR_TOP/n015-2018-11-21-19-38-26+0800__LIDAR_TOP__1542800386398207.pcd.bin',\n",
       "  'lidarseg/v1.0-mini/bc4258e225e442f295822c63dc34db87_lidarseg.bin',\n",
       "  'bc4258e225e442f295822c63dc34db87'],\n",
       " ['samples/LIDAR_TOP/n015-2018-11-21-19-38-26+0800__LIDAR_TOP__1542800386898102.pcd.bin',\n",
       "  'lidarseg/v1.0-mini/58a21b7592f5489b9d15686d6c117375_lidarseg.bin',\n",
       "  '58a21b7592f5489b9d15686d6c117375'],\n",
       " ['samples/LIDAR_TOP/n015-2018-11-21-19-38-26+0800__LIDAR_TOP__1542800387397971.pcd.bin',\n",
       "  'lidarseg/v1.0-mini/5d229fdca3c74e3796f9c12ab3ef13ab_lidarseg.bin',\n",
       "  '5d229fdca3c74e3796f9c12ab3ef13ab'],\n",
       " ['samples/LIDAR_TOP/n015-2018-11-21-19-38-26+0800__LIDAR_TOP__1542800387897823.pcd.bin',\n",
       "  'lidarseg/v1.0-mini/07ad082b378a45a4bca7ac47fc6871bd_lidarseg.bin',\n",
       "  '07ad082b378a45a4bca7ac47fc6871bd'],\n",
       " ['samples/LIDAR_TOP/n015-2018-11-21-19-38-26+0800__LIDAR_TOP__1542800847948119.pcd.bin',\n",
       "  'lidarseg/v1.0-mini/da48bb33b1c847798767a03ed0dcee39_lidarseg.bin',\n",
       "  'da48bb33b1c847798767a03ed0dcee39'],\n",
       " ['samples/LIDAR_TOP/n015-2018-11-21-19-38-26+0800__LIDAR_TOP__1542800848447981.pcd.bin',\n",
       "  'lidarseg/v1.0-mini/15ef121927134d56b3431d762a288224_lidarseg.bin',\n",
       "  '15ef121927134d56b3431d762a288224'],\n",
       " ['samples/LIDAR_TOP/n015-2018-11-21-19-38-26+0800__LIDAR_TOP__1542800848947897.pcd.bin',\n",
       "  'lidarseg/v1.0-mini/58dfdc7b80f648ddb7812d3198229877_lidarseg.bin',\n",
       "  '58dfdc7b80f648ddb7812d3198229877'],\n",
       " ['samples/LIDAR_TOP/n015-2018-11-21-19-38-26+0800__LIDAR_TOP__1542800849447179.pcd.bin',\n",
       "  'lidarseg/v1.0-mini/746ac5a5b8594420b1870ac30a191a0d_lidarseg.bin',\n",
       "  '746ac5a5b8594420b1870ac30a191a0d'],\n",
       " ['samples/LIDAR_TOP/n015-2018-11-21-19-38-26+0800__LIDAR_TOP__1542800849947059.pcd.bin',\n",
       "  'lidarseg/v1.0-mini/87f8c309f9404ea5816a7a44c4ba14e6_lidarseg.bin',\n",
       "  '87f8c309f9404ea5816a7a44c4ba14e6'],\n",
       " ['samples/LIDAR_TOP/n015-2018-11-21-19-38-26+0800__LIDAR_TOP__1542800850447485.pcd.bin',\n",
       "  'lidarseg/v1.0-mini/531e4593fc0e46c393415279743586e6_lidarseg.bin',\n",
       "  '531e4593fc0e46c393415279743586e6'],\n",
       " ['samples/LIDAR_TOP/n015-2018-11-21-19-38-26+0800__LIDAR_TOP__1542800850947378.pcd.bin',\n",
       "  'lidarseg/v1.0-mini/f00a4081c44c4cdaa3292107041633f2_lidarseg.bin',\n",
       "  'f00a4081c44c4cdaa3292107041633f2'],\n",
       " ['samples/LIDAR_TOP/n015-2018-11-21-19-38-26+0800__LIDAR_TOP__1542800851450143.pcd.bin',\n",
       "  'lidarseg/v1.0-mini/acbffeaf383e4fad8b14a580ffaab052_lidarseg.bin',\n",
       "  'acbffeaf383e4fad8b14a580ffaab052'],\n",
       " ['samples/LIDAR_TOP/n015-2018-11-21-19-38-26+0800__LIDAR_TOP__1542800851947705.pcd.bin',\n",
       "  'lidarseg/v1.0-mini/159bf84dfb134dada96732c55061fb63_lidarseg.bin',\n",
       "  '159bf84dfb134dada96732c55061fb63'],\n",
       " ['samples/LIDAR_TOP/n015-2018-11-21-19-38-26+0800__LIDAR_TOP__1542800852448091.pcd.bin',\n",
       "  'lidarseg/v1.0-mini/cefe3d3fd2e84ea9872aec67024e35a5_lidarseg.bin',\n",
       "  'cefe3d3fd2e84ea9872aec67024e35a5'],\n",
       " ['samples/LIDAR_TOP/n015-2018-11-21-19-38-26+0800__LIDAR_TOP__1542800852947478.pcd.bin',\n",
       "  'lidarseg/v1.0-mini/ced4b55ba0954d4cba144e4e6cbe7efc_lidarseg.bin',\n",
       "  'ced4b55ba0954d4cba144e4e6cbe7efc'],\n",
       " ['samples/LIDAR_TOP/n015-2018-11-21-19-38-26+0800__LIDAR_TOP__1542800853447313.pcd.bin',\n",
       "  'lidarseg/v1.0-mini/6df51a723dd74012973f2a9600f79688_lidarseg.bin',\n",
       "  '6df51a723dd74012973f2a9600f79688'],\n",
       " ['samples/LIDAR_TOP/n015-2018-11-21-19-38-26+0800__LIDAR_TOP__1542800853947736.pcd.bin',\n",
       "  'lidarseg/v1.0-mini/43d5b80ebe6b4aafa64ae88bf923a7e9_lidarseg.bin',\n",
       "  '43d5b80ebe6b4aafa64ae88bf923a7e9'],\n",
       " ['samples/LIDAR_TOP/n015-2018-11-21-19-38-26+0800__LIDAR_TOP__1542800854447717.pcd.bin',\n",
       "  'lidarseg/v1.0-mini/83e831cdb74d491e897a39dd7c2e5f2b_lidarseg.bin',\n",
       "  '83e831cdb74d491e897a39dd7c2e5f2b'],\n",
       " ['samples/LIDAR_TOP/n015-2018-11-21-19-38-26+0800__LIDAR_TOP__1542800854948033.pcd.bin',\n",
       "  'lidarseg/v1.0-mini/c406776798d847e29a03ef2a4c801f41_lidarseg.bin',\n",
       "  'c406776798d847e29a03ef2a4c801f41'],\n",
       " ['samples/LIDAR_TOP/n015-2018-11-21-19-38-26+0800__LIDAR_TOP__1542800855448455.pcd.bin',\n",
       "  'lidarseg/v1.0-mini/36fef290c36a4aff8f66f58de617480a_lidarseg.bin',\n",
       "  '36fef290c36a4aff8f66f58de617480a'],\n",
       " ['samples/LIDAR_TOP/n015-2018-11-21-19-38-26+0800__LIDAR_TOP__1542800855949460.pcd.bin',\n",
       "  'lidarseg/v1.0-mini/5deba590a3e04b70bde08ce180ae5221_lidarseg.bin',\n",
       "  '5deba590a3e04b70bde08ce180ae5221'],\n",
       " ['samples/LIDAR_TOP/n015-2018-11-21-19-38-26+0800__LIDAR_TOP__1542800856450419.pcd.bin',\n",
       "  'lidarseg/v1.0-mini/bd7f9a8a1cf842ab8e6647675c8fca45_lidarseg.bin',\n",
       "  'bd7f9a8a1cf842ab8e6647675c8fca45'],\n",
       " ['samples/LIDAR_TOP/n015-2018-11-21-19-38-26+0800__LIDAR_TOP__1542800856950302.pcd.bin',\n",
       "  'lidarseg/v1.0-mini/ff9c5ce617164ff8b86931626aa72b63_lidarseg.bin',\n",
       "  'ff9c5ce617164ff8b86931626aa72b63']]"
      ]
     },
     "execution_count": 7,
     "metadata": {},
     "output_type": "execute_result"
    }
   ],
   "source": [
    "list_frames"
   ]
  },
  {
   "cell_type": "code",
   "execution_count": 17,
   "id": "0bfd259f-2ff5-4c12-b02c-b65bc3f13cc4",
   "metadata": {},
   "outputs": [],
   "source": [
    "class ClassMapper:\n",
    "    def __init__(self):\n",
    "        current_folder = '/home/HyperLiDAR/datasets/'\n",
    "        self.mapping = np.load(\n",
    "            os.path.join(current_folder, \"mapping_class_index_nuscenes.npy\")\n",
    "        )\n",
    "\n",
    "    def get_index(self, x):\n",
    "        return self.mapping[x] if x < len(self.mapping) else 0"
   ]
  },
  {
   "cell_type": "code",
   "execution_count": 18,
   "id": "30f13840-1e44-45be-b0c1-4ef4e723084b",
   "metadata": {},
   "outputs": [
    {
     "data": {
      "text/plain": [
       "(array([[-3.2174673e+00, -1.1190159e-01, -1.9096432e+00,  2.4000000e+01],\n",
       "        [-3.4635863e+00, -1.0483936e-01, -1.9471916e+00,  3.0000000e+01],\n",
       "        [-3.7374966e+00, -9.7581968e-02, -1.9880142e+00,  2.1000000e+01],\n",
       "        ...,\n",
       "        [-9.4530602e+00,  2.4750130e-02,  1.3285465e+00,  9.0000000e+00],\n",
       "        [-1.0203167e+01,  3.0272897e-02,  1.6763263e+00,  5.2000000e+01],\n",
       "        [-9.9567575e+00,  3.3019613e-02,  1.8759612e+00,  2.1000000e+01]],\n",
       "       dtype=float32),\n",
       " array([14, 14, 14, ..., 16, 16, 16]),\n",
       " '76c090ac27774e66a592f40998d5537c')"
      ]
     },
     "execution_count": 18,
     "metadata": {},
     "output_type": "execute_result"
    }
   ],
   "source": [
    "pc_load = list_frames[0]\n",
    "rootdir = '/root/main/dataset/nuscenes/'\n",
    "mapper = np.vectorize(ClassMapper().get_index)\n",
    "\n",
    "pc = np.fromfile(\n",
    "    os.path.join(rootdir, pc_load[0]),\n",
    "    dtype=np.float32,\n",
    ")\n",
    "pc = pc.reshape((-1, 5))[:, :4]\n",
    "\n",
    "# Load segmentation labels\n",
    "labels = np.fromfile(\n",
    "    os.path.join(rootdir, pc_load[1]),\n",
    "    dtype=np.uint8,\n",
    ")\n",
    "\n",
    "labels = mapper(labels)\n",
    "\n",
    "pc, labels, pc_load[2]"
   ]
  },
  {
   "cell_type": "code",
   "execution_count": 24,
   "id": "f9768dee-9440-431f-8efd-c6e2dd4b8cb1",
   "metadata": {},
   "outputs": [],
   "source": [
    "np.save('/home/points.npy', pc)"
   ]
  },
  {
   "cell_type": "code",
   "execution_count": 25,
   "id": "92a31319-fe6c-4110-ad2f-46f5bda7e85f",
   "metadata": {},
   "outputs": [],
   "source": [
    "np.save('/home/labels.npy', labels)"
   ]
  },
  {
   "cell_type": "code",
   "execution_count": 27,
   "id": "08d30647-1a7a-494d-abb6-bd420a3de153",
   "metadata": {},
   "outputs": [
    {
     "data": {
      "text/plain": [
       "(34752, 4)"
      ]
     },
     "execution_count": 27,
     "metadata": {},
     "output_type": "execute_result"
    }
   ],
   "source": [
    "points = np.load('/home/points.npy')\n",
    "points.shape"
   ]
  },
  {
   "cell_type": "code",
   "execution_count": 29,
   "id": "beb1a7df-b727-4b12-b737-3601978d8ddc",
   "metadata": {},
   "outputs": [
    {
     "data": {
      "text/plain": [
       "16"
      ]
     },
     "execution_count": 29,
     "metadata": {},
     "output_type": "execute_result"
    }
   ],
   "source": [
    "max(labels)"
   ]
  }
 ],
 "metadata": {
  "kernelspec": {
   "display_name": "env",
   "language": "python",
   "name": "env"
  },
  "language_info": {
   "codemirror_mode": {
    "name": "ipython",
    "version": 3
   },
   "file_extension": ".py",
   "mimetype": "text/x-python",
   "name": "python",
   "nbconvert_exporter": "python",
   "pygments_lexer": "ipython3",
   "version": "3.8.20"
  }
 },
 "nbformat": 4,
 "nbformat_minor": 5
}
